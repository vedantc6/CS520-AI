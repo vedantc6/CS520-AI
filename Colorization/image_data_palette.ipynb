{
 "cells": [
  {
   "cell_type": "code",
   "execution_count": 3,
   "metadata": {},
   "outputs": [],
   "source": [
    "import numpy as np\n",
    "import matplotlib.pyplot as plt\n",
    "import cv2\n",
    "import os\n",
    "import pandas as pd\n",
    "from sklearn.neural_network import MLPRegressor\n",
    "from sklearn.model_selection import train_test_split\n",
    "from sklearn.preprocessing import StandardScaler\n",
    "import seaborn as sns"
   ]
  },
  {
   "cell_type": "code",
   "execution_count": 112,
   "metadata": {},
   "outputs": [],
   "source": [
    "color_palette = [[0, 0, 0],\n",
    "                [255, 255, 255],\n",
    "                [178, 31, 52],\n",
    "                [216, 39, 53],\n",
    "                [255, 116, 53],\n",
    "                [255, 161, 53],\n",
    "                [255, 203, 53],\n",
    "                [255, 240, 53],\n",
    "                [0, 117, 58],\n",
    "                [0, 158, 71],\n",
    "                [22, 221, 53],\n",
    "                [0, 82, 165],\n",
    "                [0, 121, 231],\n",
    "                [0, 169, 252],\n",
    "                [104, 30, 126],\n",
    "                [125, 60, 181],\n",
    "                [189, 122, 246],\n",
    "                ]\n",
    "\n",
    "def create_palette(red, green, blue):\n",
    "    total_dist = 500\n",
    "    final_val = []\n",
    "    for color in color_palette:\n",
    "        dist = abs(np.linalg.norm(np.array([red, green, blue] - np.array(color))))\n",
    "        if dist < total_dist:\n",
    "            total_dist = dist\n",
    "            final_val = color\n",
    "    return final_val\n",
    "\n",
    "def pad_images(image, filter_size):\n",
    "    p = int((filter_size - 1)/2)\n",
    "    image = np.pad(array=image, pad_width=p, mode='constant', constant_values=0)\n",
    "    return image\n",
    "\n",
    "def create_dataset(gray, red, green, blue, f_s):\n",
    "    X = []\n",
    "    y = []\n",
    "    p_gray = pad_images(gray, f_s)\n",
    "    p_red = pad_images(red, f_s)\n",
    "    p_green = pad_images(green, f_s)\n",
    "    p_blue = pad_images(blue, f_s)\n",
    "    \n",
    "    for i in range(0, len(p_gray)-(f_s-1)):\n",
    "        for j in range(0, len(p_gray)-(f_s-1)):\n",
    "            X.append(list(p_gray[i:i+f_s,j:j+f_s].flatten()))\n",
    "            temp_r = p_red[i:i+f_s,j:j+f_s].flatten()[int(f_s*f_s/2)]\n",
    "            temp_g = p_green[i:i+f_s,j:j+f_s].flatten()[int(f_s*f_s/2)]\n",
    "            temp_b = p_blue[i:i+f_s,j:j+f_s].flatten()[int(f_s*f_s/2)]\n",
    "            r, g, b = create_palette(temp_r, temp_g, temp_b)          \n",
    "            y.append([r,g,b])\n",
    "    \n",
    "    return X, y\n",
    "    \n",
    "def get_images(directory, f_s):\n",
    "    exts = [\"jpg\", \"jpeg\", \"png\"]\n",
    "    print(\"Opening directory {}\".format(directory))\n",
    "    for root, dirs, files in os.walk(directory):\n",
    "        if root:\n",
    "            X = []\n",
    "            y = []\n",
    "            file_name = []\n",
    "            for f in files:\n",
    "                if f.split(\".\")[1] in exts:\n",
    "                    print(\"Accessging \", f)\n",
    "                    image = cv2.imread(os.path.join(root, f))\n",
    "                    image = cv2.resize(image, (500,500), interpolation = cv2.INTER_AREA)\n",
    "                    # gray image\n",
    "                    gray = cv2.cvtColor(image, cv2.COLOR_BGR2GRAY)\n",
    "                    # red, green, blue components\n",
    "                    red, green, blue = image[:,:,2], image[:,:,1], image[:,:,0]\n",
    "                    m_X, m_y = create_dataset(gray, red, green, blue, f_s)\n",
    "                \n",
    "                    X.append(m_X)\n",
    "                    y.append(m_y)\n",
    "                    file_name.append(f)\n",
    "    return X, y, file_name\n",
    "                \n",
    "def align_data(X, y):\n",
    "    data_X = []\n",
    "    for sublist in X:\n",
    "        for item in sublist:\n",
    "            data_X.append(item)\n",
    "\n",
    "    data_y_red = []\n",
    "    data_y_green = []\n",
    "    data_y_blue = []\n",
    "\n",
    "    for sublist in y:\n",
    "        for item in sublist:\n",
    "            data_y_red.append(item[0])\n",
    "            data_y_green.append(item[1])\n",
    "            data_y_blue.append(item[2])\n",
    "            \n",
    "    return data_X, data_y_red, data_y_green, data_y_blue"
   ]
  },
  {
   "cell_type": "code",
   "execution_count": 113,
   "metadata": {},
   "outputs": [
    {
     "name": "stdout",
     "output_type": "stream",
     "text": [
      "Opening directory ./Images/\n",
      "Accessging  scene8.jpeg\n",
      "Accessging  scene10.jpeg\n",
      "Accessging  scene9.jpeg\n",
      "Accessging  scene2.jpeg\n",
      "Accessging  scene1.jpeg\n",
      "Accessging  scene5.jpeg\n",
      "Accessging  scene3.jpeg\n",
      "Accessging  scene7.jpeg\n",
      "Accessging  scene6.jpeg\n",
      "Accessging  scene10.jpeg\n"
     ]
    }
   ],
   "source": [
    "directory = \"./Images/\"\n",
    "filter_size = 13\n",
    "X, y, files = get_images(directory, filter_size)\n",
    "data_X, data_y_red, data_y_green, data_y_blue = align_data(X, y)"
   ]
  },
  {
   "cell_type": "code",
   "execution_count": 114,
   "metadata": {},
   "outputs": [
    {
     "name": "stdout",
     "output_type": "stream",
     "text": [
      "Iteration 1, loss = 1912.59537004\n",
      "Iteration 2, loss = 362.51081183\n",
      "Iteration 3, loss = 315.13032209\n",
      "Iteration 4, loss = 292.17308109\n",
      "Iteration 5, loss = 279.60645098\n",
      "Iteration 6, loss = 271.76493822\n",
      "Iteration 7, loss = 265.84905272\n",
      "Iteration 8, loss = 261.50652890\n",
      "Iteration 9, loss = 257.22917620\n",
      "Iteration 10, loss = 252.58008117\n",
      "Iteration 11, loss = 250.04474396\n",
      "Iteration 12, loss = 248.08427143\n",
      "Iteration 13, loss = 244.71944875\n",
      "Iteration 14, loss = 242.77029345\n",
      "Iteration 15, loss = 239.94506601\n",
      "Iteration 16, loss = 238.28130660\n",
      "Iteration 17, loss = 237.40969879\n",
      "Iteration 18, loss = 236.38325257\n",
      "Iteration 19, loss = 234.86972892\n",
      "Iteration 20, loss = 235.65441904\n",
      "Iteration 21, loss = 233.09339719\n",
      "Iteration 22, loss = 231.93468399\n",
      "Iteration 23, loss = 231.24156744\n",
      "Iteration 24, loss = 230.36746253\n",
      "Iteration 25, loss = 229.28296140\n",
      "Iteration 26, loss = 229.57137300\n",
      "Iteration 27, loss = 227.99353083\n",
      "Iteration 28, loss = 227.32227586\n",
      "Iteration 29, loss = 226.96586742\n",
      "Iteration 30, loss = 225.13166214\n",
      "Iteration 31, loss = 225.41436253\n",
      "Iteration 32, loss = 224.36648427\n",
      "Iteration 33, loss = 223.46267281\n",
      "Iteration 34, loss = 223.80066993\n",
      "Iteration 35, loss = 222.77512682\n",
      "Iteration 36, loss = 222.51748181\n",
      "Iteration 37, loss = 220.72263216\n",
      "Iteration 38, loss = 221.52936780\n",
      "Iteration 39, loss = 220.01232909\n",
      "Iteration 40, loss = 220.30382504\n",
      "Iteration 41, loss = 219.03915320\n",
      "Iteration 42, loss = 218.56635133\n",
      "Iteration 43, loss = 218.08053291\n",
      "Iteration 44, loss = 217.47726032\n",
      "Iteration 45, loss = 217.11155579\n",
      "Iteration 46, loss = 215.73547937\n",
      "Iteration 47, loss = 215.20481568\n",
      "Iteration 48, loss = 213.52712900\n",
      "Iteration 49, loss = 213.72711443\n",
      "Iteration 50, loss = 212.75835512\n",
      "Iteration 51, loss = 213.22956841\n",
      "Iteration 52, loss = 211.62851443\n",
      "Iteration 53, loss = 210.73339793\n",
      "Iteration 54, loss = 210.77695228\n",
      "Iteration 55, loss = 209.37550539\n",
      "Iteration 56, loss = 209.27815299\n",
      "Iteration 57, loss = 209.46413406\n",
      "Iteration 58, loss = 207.91270064\n",
      "Iteration 59, loss = 207.58616414\n",
      "Iteration 60, loss = 208.07655907\n",
      "Iteration 61, loss = 206.67061786\n",
      "Iteration 62, loss = 205.91255395\n",
      "Iteration 63, loss = 204.76807527\n",
      "Iteration 64, loss = 203.58634010\n",
      "Iteration 65, loss = 203.01872818\n",
      "Iteration 66, loss = 201.16786582\n",
      "Iteration 67, loss = 201.11752610\n",
      "Iteration 68, loss = 202.53947808\n",
      "Iteration 69, loss = 200.68755225\n",
      "Iteration 70, loss = 198.89703936\n",
      "Iteration 71, loss = 200.26633483\n",
      "Iteration 72, loss = 199.01092219\n",
      "Iteration 73, loss = 197.94512666\n",
      "Iteration 74, loss = 198.64830858\n",
      "Iteration 75, loss = 198.72497713\n",
      "Iteration 76, loss = 198.63287805\n",
      "Iteration 77, loss = 196.59207718\n",
      "Iteration 78, loss = 194.82474143\n",
      "Iteration 79, loss = 194.63926550\n",
      "Iteration 80, loss = 194.64525246\n",
      "Iteration 81, loss = 194.26918005\n",
      "Iteration 82, loss = 192.36809481\n",
      "Iteration 83, loss = 192.17736523\n",
      "Iteration 84, loss = 192.97130642\n",
      "Iteration 85, loss = 192.40981885\n",
      "Iteration 86, loss = 191.17375752\n",
      "Iteration 87, loss = 193.05791204\n",
      "Iteration 88, loss = 190.93333966\n",
      "Iteration 89, loss = 190.32737971\n",
      "Iteration 90, loss = 190.37098658\n",
      "Iteration 91, loss = 189.02397167\n",
      "Iteration 92, loss = 190.08396801\n",
      "Iteration 93, loss = 188.16680302\n",
      "Iteration 94, loss = 188.12746957\n",
      "Iteration 95, loss = 186.64597804\n",
      "Iteration 96, loss = 186.41460133\n",
      "Iteration 97, loss = 186.45760131\n",
      "Iteration 98, loss = 186.78648942\n",
      "Iteration 99, loss = 184.42123582\n",
      "Iteration 100, loss = 184.90569903\n",
      "Iteration 101, loss = 186.94729684\n",
      "Iteration 102, loss = 184.08337385\n",
      "Iteration 103, loss = 184.00137278\n",
      "Iteration 104, loss = 182.17450444\n",
      "Iteration 105, loss = 184.41676588\n",
      "Iteration 106, loss = 183.18075565\n",
      "Iteration 107, loss = 182.74359424\n",
      "Iteration 108, loss = 181.30933501\n",
      "Iteration 109, loss = 180.38174824\n",
      "Iteration 110, loss = 181.40449693\n",
      "Iteration 111, loss = 180.93177450\n",
      "Iteration 112, loss = 180.45182853\n",
      "Iteration 113, loss = 179.55670120\n",
      "Iteration 114, loss = 178.62871979\n",
      "Iteration 115, loss = 179.39157926\n",
      "Iteration 116, loss = 179.29696383\n",
      "Iteration 117, loss = 177.99055294\n",
      "Iteration 118, loss = 178.09116168\n",
      "Iteration 119, loss = 178.38923745\n",
      "Iteration 120, loss = 177.31787964\n",
      "Iteration 121, loss = 178.35674974\n",
      "Iteration 122, loss = 178.54195102\n",
      "Iteration 123, loss = 176.43562994\n",
      "Iteration 124, loss = 177.93666636\n",
      "Iteration 125, loss = 177.15214161\n",
      "Iteration 126, loss = 177.34027094\n",
      "Iteration 127, loss = 174.77623486\n",
      "Iteration 128, loss = 176.09946504\n",
      "Iteration 129, loss = 175.36754386\n",
      "Iteration 130, loss = 175.12488310\n",
      "Iteration 131, loss = 175.20724352\n",
      "Iteration 132, loss = 175.39872844\n",
      "Iteration 133, loss = 174.68199415\n",
      "Iteration 134, loss = 172.61717519\n",
      "Iteration 135, loss = 173.71161760\n",
      "Iteration 136, loss = 173.75149958\n",
      "Iteration 137, loss = 173.50205497\n",
      "Iteration 138, loss = 172.78191619\n",
      "Iteration 139, loss = 172.26517227\n",
      "Iteration 140, loss = 172.81993837\n",
      "Iteration 141, loss = 174.07833020\n",
      "Iteration 142, loss = 172.74613973\n",
      "Iteration 143, loss = 172.62393693\n",
      "Iteration 144, loss = 171.42180275\n",
      "Iteration 145, loss = 171.98558737\n",
      "Iteration 146, loss = 171.38904796\n",
      "Iteration 147, loss = 170.14711773\n",
      "Iteration 148, loss = 171.28169842\n",
      "Iteration 149, loss = 171.24253708\n",
      "Iteration 150, loss = 170.76549316\n",
      "Iteration 151, loss = 171.47059427\n",
      "Iteration 152, loss = 170.15409965\n",
      "Iteration 153, loss = 170.07600248\n",
      "Iteration 154, loss = 169.32178360\n",
      "Iteration 155, loss = 169.42291009\n",
      "Iteration 156, loss = 170.12421167\n",
      "Iteration 157, loss = 169.88866470\n",
      "Iteration 158, loss = 168.64425874\n",
      "Iteration 159, loss = 168.20218261\n",
      "Iteration 160, loss = 168.42653265\n",
      "Iteration 161, loss = 169.80849709\n",
      "Iteration 162, loss = 167.78991634\n",
      "Iteration 163, loss = 168.69156328\n",
      "Iteration 164, loss = 167.19621349\n",
      "Iteration 165, loss = 167.91139908\n",
      "Iteration 166, loss = 167.54410589\n",
      "Iteration 167, loss = 167.10058447\n",
      "Iteration 168, loss = 166.82955463\n",
      "Iteration 169, loss = 167.29206052\n",
      "Iteration 170, loss = 166.50586628\n",
      "Iteration 171, loss = 167.01096132\n",
      "Iteration 172, loss = 164.99672859\n",
      "Iteration 173, loss = 165.14743112\n",
      "Iteration 174, loss = 166.11341172\n",
      "Iteration 175, loss = 166.35625699\n",
      "Iteration 176, loss = 165.75182735\n",
      "Iteration 177, loss = 165.87846731\n",
      "Iteration 178, loss = 165.04345602\n",
      "Iteration 179, loss = 166.15016596\n",
      "Iteration 180, loss = 164.04182857\n",
      "Iteration 181, loss = 165.16811038\n",
      "Iteration 182, loss = 164.50278590\n",
      "Iteration 183, loss = 164.29092289\n",
      "Iteration 184, loss = 165.66676726\n",
      "Iteration 185, loss = 164.92529708\n",
      "Iteration 186, loss = 164.11565019\n",
      "Iteration 187, loss = 164.16556854\n",
      "Iteration 188, loss = 164.93739459\n",
      "Iteration 189, loss = 163.82517879\n",
      "Iteration 190, loss = 163.29570247\n",
      "Iteration 191, loss = 163.60972236\n",
      "Iteration 192, loss = 164.63691469\n",
      "Iteration 193, loss = 162.86069096\n",
      "Iteration 194, loss = 162.48751986\n",
      "Iteration 195, loss = 163.27588254\n",
      "Iteration 196, loss = 164.22186952\n",
      "Iteration 197, loss = 163.62013151\n",
      "Iteration 198, loss = 163.37486575\n",
      "Iteration 199, loss = 163.42161370\n",
      "Iteration 200, loss = 162.39661495\n",
      "Iteration 201, loss = 162.22551656\n",
      "Iteration 202, loss = 161.78522289\n",
      "Iteration 203, loss = 162.37384825\n",
      "Iteration 204, loss = 161.31336272\n",
      "Iteration 205, loss = 161.09947272\n",
      "Iteration 206, loss = 161.85186118\n",
      "Iteration 207, loss = 161.99991368\n",
      "Iteration 208, loss = 162.36709608\n",
      "Iteration 209, loss = 161.19615375\n",
      "Iteration 210, loss = 160.62171685\n",
      "Iteration 211, loss = 160.36370411\n",
      "Iteration 212, loss = 161.27597029\n",
      "Iteration 213, loss = 163.25913051\n",
      "Iteration 214, loss = 161.15865656\n",
      "Iteration 215, loss = 160.47175349\n",
      "Iteration 216, loss = 161.07736914\n",
      "Iteration 217, loss = 160.62941855\n",
      "Iteration 218, loss = 160.92490626\n",
      "Iteration 219, loss = 161.19785894\n",
      "Iteration 220, loss = 160.10722300\n",
      "Iteration 221, loss = 160.26887688\n",
      "Iteration 222, loss = 159.87735851\n",
      "Iteration 223, loss = 160.94373332\n",
      "Iteration 224, loss = 160.66365119\n",
      "Iteration 225, loss = 158.72009361\n",
      "Iteration 226, loss = 159.46138681\n",
      "Iteration 227, loss = 161.03748033\n",
      "Iteration 228, loss = 160.45059598\n",
      "Iteration 229, loss = 158.97272711\n",
      "Iteration 230, loss = 159.27684909\n",
      "Iteration 231, loss = 159.82445128\n",
      "Iteration 232, loss = 158.84472701\n",
      "Iteration 233, loss = 159.31201095\n",
      "Iteration 234, loss = 158.14631714\n",
      "Iteration 235, loss = 159.08209525\n",
      "Iteration 236, loss = 158.20746064\n",
      "Iteration 237, loss = 159.17596985\n",
      "Iteration 238, loss = 157.95049939\n"
     ]
    },
    {
     "name": "stdout",
     "output_type": "stream",
     "text": [
      "Iteration 239, loss = 158.59976193\n",
      "Iteration 240, loss = 159.77863707\n",
      "Iteration 241, loss = 158.10612755\n",
      "Iteration 242, loss = 157.88168771\n",
      "Iteration 243, loss = 157.74872906\n",
      "Iteration 244, loss = 157.04839788\n",
      "Iteration 245, loss = 158.77193942\n",
      "Iteration 246, loss = 157.59610454\n",
      "Iteration 247, loss = 157.50070659\n",
      "Iteration 248, loss = 158.60769867\n",
      "Iteration 249, loss = 157.86902799\n",
      "Iteration 250, loss = 158.64121391\n",
      "Iteration 251, loss = 158.34224086\n",
      "Iteration 252, loss = 157.29972978\n",
      "Iteration 253, loss = 157.03394592\n",
      "Iteration 254, loss = 157.54949565\n",
      "Iteration 255, loss = 156.96843274\n",
      "Iteration 256, loss = 156.18153756\n",
      "Iteration 257, loss = 156.95855536\n",
      "Iteration 258, loss = 157.56907141\n",
      "Iteration 259, loss = 156.92606214\n",
      "Iteration 260, loss = 156.68153355\n",
      "Iteration 261, loss = 156.31266241\n",
      "Iteration 262, loss = 156.41539820\n",
      "Iteration 263, loss = 157.12602606\n",
      "Iteration 264, loss = 156.50294553\n",
      "Iteration 265, loss = 156.20835944\n",
      "Iteration 266, loss = 154.48691551\n",
      "Iteration 267, loss = 156.43159603\n",
      "Iteration 268, loss = 155.49573042\n",
      "Iteration 269, loss = 156.31219238\n",
      "Iteration 270, loss = 156.39161315\n",
      "Iteration 271, loss = 155.73550282\n",
      "Iteration 272, loss = 156.09238008\n",
      "Iteration 273, loss = 154.74833727\n",
      "Iteration 274, loss = 155.21856352\n",
      "Iteration 275, loss = 156.50971195\n",
      "Iteration 276, loss = 154.30245280\n",
      "Iteration 277, loss = 154.76665347\n",
      "Iteration 278, loss = 154.85714020\n",
      "Iteration 279, loss = 158.00155168\n",
      "Iteration 280, loss = 156.11228528\n",
      "Iteration 281, loss = 156.27333515\n",
      "Iteration 282, loss = 153.91907293\n",
      "Iteration 283, loss = 154.29396688\n",
      "Iteration 284, loss = 155.62300223\n",
      "Iteration 285, loss = 154.67867383\n",
      "Iteration 286, loss = 154.92622173\n",
      "Iteration 287, loss = 153.77897370\n",
      "Iteration 288, loss = 156.23150289\n",
      "Iteration 289, loss = 154.03529212\n",
      "Iteration 290, loss = 154.52030851\n",
      "Iteration 291, loss = 153.59551211\n",
      "Iteration 292, loss = 152.67541594\n",
      "Iteration 293, loss = 154.28730116\n",
      "Iteration 294, loss = 153.45750044\n",
      "Iteration 295, loss = 155.56314590\n",
      "Iteration 296, loss = 154.54776236\n",
      "Iteration 297, loss = 154.27135064\n",
      "Iteration 298, loss = 153.16464295\n",
      "Iteration 299, loss = 153.51768952\n",
      "Iteration 300, loss = 152.40195148\n",
      "Iteration 301, loss = 153.91928636\n",
      "Iteration 302, loss = 153.46376299\n",
      "Iteration 303, loss = 153.95151631\n",
      "Iteration 304, loss = 153.06995727\n",
      "Iteration 305, loss = 153.57735882\n",
      "Iteration 306, loss = 152.28501624\n",
      "Iteration 307, loss = 153.81131003\n",
      "Iteration 308, loss = 153.27160331\n",
      "Iteration 309, loss = 153.05834543\n",
      "Iteration 310, loss = 152.07716145\n",
      "Iteration 311, loss = 152.52764739\n",
      "Iteration 312, loss = 152.08769910\n",
      "Iteration 313, loss = 151.94137850\n",
      "Iteration 314, loss = 152.47491131\n",
      "Iteration 315, loss = 151.23891378\n",
      "Iteration 316, loss = 152.02635323\n",
      "Iteration 317, loss = 152.50470812\n",
      "Iteration 318, loss = 151.28106221\n",
      "Iteration 319, loss = 151.88527531\n",
      "Iteration 320, loss = 152.35250485\n",
      "Iteration 321, loss = 152.19549247\n",
      "Iteration 322, loss = 151.57229847\n",
      "Iteration 323, loss = 152.13664311\n",
      "Iteration 324, loss = 151.67383473\n",
      "Iteration 325, loss = 151.75410405\n",
      "Iteration 326, loss = 151.22462720\n",
      "Iteration 327, loss = 152.09679810\n",
      "Iteration 328, loss = 154.31453442\n",
      "Iteration 329, loss = 152.84789534\n",
      "Iteration 330, loss = 150.07992027\n",
      "Iteration 331, loss = 150.56550730\n",
      "Iteration 332, loss = 151.17553372\n",
      "Iteration 333, loss = 150.89216901\n",
      "Iteration 334, loss = 152.10310971\n",
      "Iteration 335, loss = 151.90224485\n",
      "Iteration 336, loss = 151.21444385\n",
      "Iteration 337, loss = 152.66109083\n",
      "Iteration 338, loss = 150.50387283\n",
      "Iteration 339, loss = 149.71150053\n",
      "Iteration 340, loss = 152.14085638\n",
      "Iteration 341, loss = 151.52041250\n",
      "Iteration 342, loss = 150.57282662\n",
      "Iteration 343, loss = 151.95492130\n",
      "Iteration 344, loss = 150.05083737\n",
      "Iteration 345, loss = 149.66090059\n",
      "Iteration 346, loss = 150.32699873\n",
      "Iteration 347, loss = 150.53245249\n",
      "Iteration 348, loss = 150.49345006\n",
      "Iteration 349, loss = 150.84770764\n",
      "Iteration 350, loss = 150.01212413\n",
      "Iteration 351, loss = 150.92433712\n",
      "Iteration 352, loss = 150.36461635\n",
      "Iteration 353, loss = 149.42866440\n",
      "Iteration 354, loss = 150.71262306\n",
      "Iteration 355, loss = 149.00285279\n",
      "Iteration 356, loss = 150.88965865\n",
      "Iteration 357, loss = 149.11860366\n",
      "Iteration 358, loss = 150.70631720\n",
      "Iteration 359, loss = 148.43443224\n",
      "Iteration 360, loss = 149.71738248\n",
      "Iteration 361, loss = 150.44328119\n",
      "Iteration 362, loss = 149.40609267\n",
      "Iteration 363, loss = 149.62235108\n",
      "Iteration 364, loss = 149.54077800\n",
      "Iteration 365, loss = 148.76427948\n",
      "Iteration 366, loss = 149.37240116\n",
      "Iteration 367, loss = 149.53229381\n",
      "Iteration 368, loss = 149.02097927\n",
      "Iteration 369, loss = 150.67882792\n",
      "Iteration 370, loss = 148.78903828\n",
      "Training loss did not improve more than tol=0.000100 for 10 consecutive epochs. Stopping.\n"
     ]
    },
    {
     "data": {
      "text/plain": [
       "MLPRegressor(activation='relu', alpha=0.003, batch_size='auto', beta_1=0.9,\n",
       "       beta_2=0.999, early_stopping=False, epsilon=1e-08,\n",
       "       hidden_layer_sizes=(10, 20, 20, 20, 10), learning_rate='constant',\n",
       "       learning_rate_init=0.001, max_iter=1000, momentum=0.9,\n",
       "       n_iter_no_change=10, nesterovs_momentum=True, power_t=0.5,\n",
       "       random_state=None, shuffle=True, solver='adam', tol=0.0001,\n",
       "       validation_fraction=0.1, verbose=True, warm_start=False)"
      ]
     },
     "execution_count": 114,
     "metadata": {},
     "output_type": "execute_result"
    }
   ],
   "source": [
    "# Model for red\n",
    "X_train_r, X_test_r, y_train_r, y_test_r = train_test_split(data_X, data_y_red, test_size=0.2, random_state=42)\n",
    "scaler = StandardScaler()\n",
    "scaler.fit(X_train_r)\n",
    "\n",
    "X_train_r = scaler.transform(X_train_r)\n",
    "X_test_r = scaler.transform(X_test_r)\n",
    "\n",
    "mlp_r = MLPRegressor(hidden_layer_sizes=(10,20,20,20,10),  activation='relu', \n",
    "                   solver='adam', max_iter=1000, alpha=0.003, verbose=True)\n",
    "mlp_r.fit(X_train_r,y_train_r)"
   ]
  },
  {
   "cell_type": "code",
   "execution_count": 115,
   "metadata": {},
   "outputs": [],
   "source": [
    "predictions_r = mlp_r.predict(X_test_r)"
   ]
  },
  {
   "cell_type": "code",
   "execution_count": 116,
   "metadata": {},
   "outputs": [
    {
     "name": "stderr",
     "output_type": "stream",
     "text": [
      "/home/vedantc6/anaconda3/lib/python3.7/site-packages/scipy/stats/stats.py:1713: FutureWarning: Using a non-tuple sequence for multidimensional indexing is deprecated; use `arr[tuple(seq)]` instead of `arr[seq]`. In the future this will be interpreted as an array index, `arr[np.array(seq)]`, which will result either in an error or a different result.\n",
      "  return np.add.reduce(sorted[indexer] * weights, axis=axis) / sumval\n"
     ]
    },
    {
     "data": {
      "text/plain": [
       "<matplotlib.axes._subplots.AxesSubplot at 0x7fc88c76ef28>"
      ]
     },
     "execution_count": 116,
     "metadata": {},
     "output_type": "execute_result"
    },
    {
     "data": {
      "image/png": "[encoded data removed]",
      "text/plain": [
       "<Figure size 432x288 with 1 Axes>"
      ]
     },
     "metadata": {
      "needs_background": "light"
     },
     "output_type": "display_data"
    }
   ],
   "source": [
    "sns.distplot(predictions_r)"
   ]
  },
  {
   "cell_type": "code",
   "execution_count": 117,
   "metadata": {},
   "outputs": [
    {
     "name": "stderr",
     "output_type": "stream",
     "text": [
      "/home/vedantc6/anaconda3/lib/python3.7/site-packages/scipy/stats/stats.py:1713: FutureWarning: Using a non-tuple sequence for multidimensional indexing is deprecated; use `arr[tuple(seq)]` instead of `arr[seq]`. In the future this will be interpreted as an array index, `arr[np.array(seq)]`, which will result either in an error or a different result.\n",
      "  return np.add.reduce(sorted[indexer] * weights, axis=axis) / sumval\n"
     ]
    },
    {
     "data": {
      "text/plain": [
       "<matplotlib.axes._subplots.AxesSubplot at 0x7fc88c7006a0>"
      ]
     },
     "execution_count": 117,
     "metadata": {},
     "output_type": "execute_result"
    },
    {
     "data": {
      "image/png": "[encoded data removed]",
      "text/plain": [
       "<Figure size 432x288 with 1 Axes>"
      ]
     },
     "metadata": {
      "needs_background": "light"
     },
     "output_type": "display_data"
    }
   ],
   "source": [
    "sns.distplot(y_test_r)"
   ]
  },
  {
   "cell_type": "code",
   "execution_count": 118,
   "metadata": {},
   "outputs": [
    {
     "name": "stdout",
     "output_type": "stream",
     "text": [
      "Iteration 1, loss = 760.10823045\n",
      "Iteration 2, loss = 324.80676928\n",
      "Iteration 3, loss = 288.07303353\n",
      "Iteration 4, loss = 267.82008942\n",
      "Iteration 5, loss = 253.71259043\n",
      "Iteration 6, loss = 240.68075014\n",
      "Iteration 7, loss = 232.85817155\n",
      "Iteration 8, loss = 226.57665846\n",
      "Iteration 9, loss = 221.98147633\n",
      "Iteration 10, loss = 217.83254181\n",
      "Iteration 11, loss = 213.24704697\n",
      "Iteration 12, loss = 212.82497446\n",
      "Iteration 13, loss = 207.48797364\n",
      "Iteration 14, loss = 204.23489837\n",
      "Iteration 15, loss = 201.87040271\n",
      "Iteration 16, loss = 199.29470699\n",
      "Iteration 17, loss = 196.49899822\n",
      "Iteration 18, loss = 192.98303817\n",
      "Iteration 19, loss = 193.93866481\n",
      "Iteration 20, loss = 189.27450496\n",
      "Iteration 21, loss = 188.69461371\n",
      "Iteration 22, loss = 188.87751057\n",
      "Iteration 23, loss = 185.79005504\n",
      "Iteration 24, loss = 185.41733787\n",
      "Iteration 25, loss = 183.52233827\n",
      "Iteration 26, loss = 181.66851789\n",
      "Iteration 27, loss = 182.85108465\n",
      "Iteration 28, loss = 179.45545182\n",
      "Iteration 29, loss = 179.88338056\n",
      "Iteration 30, loss = 177.75300996\n",
      "Iteration 31, loss = 176.58844106\n",
      "Iteration 32, loss = 178.70712865\n",
      "Iteration 33, loss = 175.99909991\n",
      "Iteration 34, loss = 176.60718172\n",
      "Iteration 35, loss = 173.90708771\n",
      "Iteration 36, loss = 172.49720773\n",
      "Iteration 37, loss = 173.36714508\n",
      "Iteration 38, loss = 172.77931826\n",
      "Iteration 39, loss = 171.18903389\n",
      "Iteration 40, loss = 171.49213078\n",
      "Iteration 41, loss = 170.04595654\n",
      "Iteration 42, loss = 169.24425390\n",
      "Iteration 43, loss = 168.29011416\n",
      "Iteration 44, loss = 167.82324883\n",
      "Iteration 45, loss = 167.66478688\n",
      "Iteration 46, loss = 166.51256488\n",
      "Iteration 47, loss = 166.23072373\n",
      "Iteration 48, loss = 165.36695865\n",
      "Iteration 49, loss = 165.84018830\n",
      "Iteration 50, loss = 163.45508696\n",
      "Iteration 51, loss = 165.61510194\n",
      "Iteration 52, loss = 162.32068410\n",
      "Iteration 53, loss = 163.40281898\n",
      "Iteration 54, loss = 160.66674404\n",
      "Iteration 55, loss = 160.86322449\n",
      "Iteration 56, loss = 158.48526965\n",
      "Iteration 57, loss = 158.32781868\n",
      "Iteration 58, loss = 157.81149267\n",
      "Iteration 59, loss = 156.44763076\n",
      "Iteration 60, loss = 156.45555086\n",
      "Iteration 61, loss = 154.99649743\n",
      "Iteration 62, loss = 155.45490813\n",
      "Iteration 63, loss = 154.04262606\n",
      "Iteration 64, loss = 154.49105233\n",
      "Iteration 65, loss = 153.86837515\n",
      "Iteration 66, loss = 154.30422925\n",
      "Iteration 67, loss = 152.60804275\n",
      "Iteration 68, loss = 152.85766125\n",
      "Iteration 69, loss = 151.92186737\n",
      "Iteration 70, loss = 152.38605579\n",
      "Iteration 71, loss = 151.04874000\n",
      "Iteration 72, loss = 151.33685316\n",
      "Iteration 73, loss = 150.76046432\n",
      "Iteration 74, loss = 150.01375526\n",
      "Iteration 75, loss = 150.43204133\n",
      "Iteration 76, loss = 148.16635730\n",
      "Iteration 77, loss = 149.08593947\n",
      "Iteration 78, loss = 148.20458131\n",
      "Iteration 79, loss = 148.53190988\n",
      "Iteration 80, loss = 146.33304113\n",
      "Iteration 81, loss = 147.30902619\n",
      "Iteration 82, loss = 146.30041803\n",
      "Iteration 83, loss = 146.77447592\n",
      "Iteration 84, loss = 146.09549586\n",
      "Iteration 85, loss = 146.13761342\n",
      "Iteration 86, loss = 146.17804774\n",
      "Iteration 87, loss = 145.04788453\n",
      "Iteration 88, loss = 143.78712168\n",
      "Iteration 89, loss = 146.29754425\n",
      "Iteration 90, loss = 143.79045455\n",
      "Iteration 91, loss = 143.03298738\n",
      "Iteration 92, loss = 142.96986655\n",
      "Iteration 93, loss = 142.95553749\n",
      "Iteration 94, loss = 141.76795647\n",
      "Iteration 95, loss = 143.86882332\n",
      "Iteration 96, loss = 141.57884515\n",
      "Iteration 97, loss = 142.06454327\n",
      "Iteration 98, loss = 140.06164179\n",
      "Iteration 99, loss = 140.57223582\n",
      "Iteration 100, loss = 140.46785378\n",
      "Iteration 101, loss = 140.99116619\n",
      "Iteration 102, loss = 139.20878249\n",
      "Iteration 103, loss = 140.15409924\n",
      "Iteration 104, loss = 141.04493641\n",
      "Iteration 105, loss = 138.21190753\n",
      "Iteration 106, loss = 138.97285573\n",
      "Iteration 107, loss = 138.56918305\n",
      "Iteration 108, loss = 139.82959817\n",
      "Iteration 109, loss = 138.49647098\n",
      "Iteration 110, loss = 139.67679022\n",
      "Iteration 111, loss = 138.23434527\n",
      "Iteration 112, loss = 139.03763681\n",
      "Iteration 113, loss = 138.03119997\n",
      "Iteration 114, loss = 137.49997742\n",
      "Iteration 115, loss = 137.60844425\n",
      "Iteration 116, loss = 136.26090149\n",
      "Iteration 117, loss = 136.53241919\n",
      "Iteration 118, loss = 137.57822113\n",
      "Iteration 119, loss = 136.31735548\n",
      "Iteration 120, loss = 135.95911934\n",
      "Iteration 121, loss = 137.50382381\n",
      "Iteration 122, loss = 135.18648097\n",
      "Iteration 123, loss = 136.10365947\n",
      "Iteration 124, loss = 135.25527272\n",
      "Iteration 125, loss = 134.75835916\n",
      "Iteration 126, loss = 135.10008329\n",
      "Iteration 127, loss = 134.09016344\n",
      "Iteration 128, loss = 134.66942604\n",
      "Iteration 129, loss = 134.98712799\n",
      "Iteration 130, loss = 134.88439176\n",
      "Iteration 131, loss = 135.42970642\n",
      "Iteration 132, loss = 133.86952662\n",
      "Iteration 133, loss = 134.12717763\n",
      "Iteration 134, loss = 133.38442515\n",
      "Iteration 135, loss = 135.25323887\n",
      "Iteration 136, loss = 134.19073272\n",
      "Iteration 137, loss = 131.72127127\n",
      "Iteration 138, loss = 132.91507634\n",
      "Iteration 139, loss = 133.38966227\n",
      "Iteration 140, loss = 133.88666912\n",
      "Iteration 141, loss = 132.26412484\n",
      "Iteration 142, loss = 131.95639494\n",
      "Iteration 143, loss = 132.33096486\n",
      "Iteration 144, loss = 132.07665318\n",
      "Iteration 145, loss = 131.33481918\n",
      "Iteration 146, loss = 132.14585924\n",
      "Iteration 147, loss = 132.15097071\n",
      "Iteration 148, loss = 130.84981980\n",
      "Iteration 149, loss = 131.39330289\n",
      "Iteration 150, loss = 129.27049718\n",
      "Iteration 151, loss = 131.75585585\n",
      "Iteration 152, loss = 130.88997387\n",
      "Iteration 153, loss = 130.32713074\n",
      "Iteration 154, loss = 128.53348450\n",
      "Iteration 155, loss = 131.29668554\n",
      "Iteration 156, loss = 128.72010443\n",
      "Iteration 157, loss = 130.47169961\n",
      "Iteration 158, loss = 130.31795329\n",
      "Iteration 159, loss = 129.64027418\n",
      "Iteration 160, loss = 128.61007533\n",
      "Iteration 161, loss = 129.12545729\n",
      "Iteration 162, loss = 128.69848246\n",
      "Iteration 163, loss = 128.72328823\n",
      "Iteration 164, loss = 128.42502453\n",
      "Iteration 165, loss = 127.80853373\n",
      "Iteration 166, loss = 128.17428918\n",
      "Iteration 167, loss = 128.44442963\n",
      "Iteration 168, loss = 128.52877322\n",
      "Iteration 169, loss = 127.39676423\n",
      "Iteration 170, loss = 127.50177961\n",
      "Iteration 171, loss = 128.24391537\n",
      "Iteration 172, loss = 128.14783293\n",
      "Iteration 173, loss = 127.64252736\n",
      "Iteration 174, loss = 127.49649537\n",
      "Iteration 175, loss = 128.06777395\n",
      "Iteration 176, loss = 126.80687406\n",
      "Iteration 177, loss = 126.41335685\n",
      "Iteration 178, loss = 126.20156507\n",
      "Iteration 179, loss = 126.98344925\n",
      "Iteration 180, loss = 126.04769779\n",
      "Iteration 181, loss = 126.70331872\n",
      "Iteration 182, loss = 126.90608096\n",
      "Iteration 183, loss = 127.53356779\n",
      "Iteration 184, loss = 126.70570273\n",
      "Iteration 185, loss = 126.49283568\n",
      "Iteration 186, loss = 126.39925769\n",
      "Iteration 187, loss = 126.23182629\n",
      "Iteration 188, loss = 125.17102199\n",
      "Iteration 189, loss = 124.84553125\n",
      "Iteration 190, loss = 127.17344862\n",
      "Iteration 191, loss = 123.92454802\n",
      "Iteration 192, loss = 124.98214093\n",
      "Iteration 193, loss = 124.52717499\n",
      "Iteration 194, loss = 125.27530895\n",
      "Iteration 195, loss = 125.01890380\n",
      "Iteration 196, loss = 124.76893792\n",
      "Iteration 197, loss = 125.23858639\n",
      "Iteration 198, loss = 125.74026743\n",
      "Iteration 199, loss = 124.89918694\n",
      "Iteration 200, loss = 124.80372116\n",
      "Iteration 201, loss = 124.17808841\n",
      "Iteration 202, loss = 125.82820702\n",
      "Training loss did not improve more than tol=0.000100 for 10 consecutive epochs. Stopping.\n"
     ]
    },
    {
     "data": {
      "text/plain": [
       "MLPRegressor(activation='relu', alpha=0.003, batch_size='auto', beta_1=0.9,\n",
       "       beta_2=0.999, early_stopping=False, epsilon=1e-08,\n",
       "       hidden_layer_sizes=(10, 20, 20, 20, 10), learning_rate='constant',\n",
       "       learning_rate_init=0.001, max_iter=1000, momentum=0.9,\n",
       "       n_iter_no_change=10, nesterovs_momentum=True, power_t=0.5,\n",
       "       random_state=None, shuffle=True, solver='adam', tol=0.0001,\n",
       "       validation_fraction=0.1, verbose=True, warm_start=False)"
      ]
     },
     "execution_count": 118,
     "metadata": {},
     "output_type": "execute_result"
    }
   ],
   "source": [
    "# Model for green\n",
    "X_train_g, X_test_g, y_train_g, y_test_g = train_test_split(data_X, data_y_green, test_size=0.2, random_state=42)\n",
    "scaler = StandardScaler()\n",
    "scaler.fit(X_train_g)\n",
    "\n",
    "X_train_g = scaler.transform(X_train_g)\n",
    "X_test_g = scaler.transform(X_test_g)\n",
    "\n",
    "mlp_g = MLPRegressor(hidden_layer_sizes=(10,20,20,20,10),  activation='relu', \n",
    "                   solver='adam', max_iter=1000, alpha=0.003, verbose=True)\n",
    "mlp_g.fit(X_train_g,y_train_g)"
   ]
  },
  {
   "cell_type": "code",
   "execution_count": 119,
   "metadata": {},
   "outputs": [],
   "source": [
    "predictions_g = mlp_g.predict(X_test_g)"
   ]
  },
  {
   "cell_type": "code",
   "execution_count": 120,
   "metadata": {},
   "outputs": [
    {
     "name": "stderr",
     "output_type": "stream",
     "text": [
      "/home/vedantc6/anaconda3/lib/python3.7/site-packages/scipy/stats/stats.py:1713: FutureWarning: Using a non-tuple sequence for multidimensional indexing is deprecated; use `arr[tuple(seq)]` instead of `arr[seq]`. In the future this will be interpreted as an array index, `arr[np.array(seq)]`, which will result either in an error or a different result.\n",
      "  return np.add.reduce(sorted[indexer] * weights, axis=axis) / sumval\n"
     ]
    },
    {
     "data": {
      "text/plain": [
       "<matplotlib.axes._subplots.AxesSubplot at 0x7fc88ca667f0>"
      ]
     },
     "execution_count": 120,
     "metadata": {},
     "output_type": "execute_result"
    },
    {
     "data": {
      "image/png": "[encoded data removed]",
      "text/plain": [
       "<Figure size 432x288 with 1 Axes>"
      ]
     },
     "metadata": {
      "needs_background": "light"
     },
     "output_type": "display_data"
    }
   ],
   "source": [
    "sns.distplot(predictions_g)"
   ]
  },
  {
   "cell_type": "code",
   "execution_count": 121,
   "metadata": {},
   "outputs": [
    {
     "name": "stderr",
     "output_type": "stream",
     "text": [
      "/home/vedantc6/anaconda3/lib/python3.7/site-packages/scipy/stats/stats.py:1713: FutureWarning: Using a non-tuple sequence for multidimensional indexing is deprecated; use `arr[tuple(seq)]` instead of `arr[seq]`. In the future this will be interpreted as an array index, `arr[np.array(seq)]`, which will result either in an error or a different result.\n",
      "  return np.add.reduce(sorted[indexer] * weights, axis=axis) / sumval\n"
     ]
    },
    {
     "data": {
      "text/plain": [
       "<matplotlib.axes._subplots.AxesSubplot at 0x7fc8af7e4cf8>"
      ]
     },
     "execution_count": 121,
     "metadata": {},
     "output_type": "execute_result"
    },
    {
     "data": {
      "image/png": "[encoded data removed]",
      "text/plain": [
       "<Figure size 432x288 with 1 Axes>"
      ]
     },
     "metadata": {
      "needs_background": "light"
     },
     "output_type": "display_data"
    }
   ],
   "source": [
    "sns.distplot(y_test_g)"
   ]
  },
  {
   "cell_type": "code",
   "execution_count": 122,
   "metadata": {},
   "outputs": [
    {
     "name": "stdout",
     "output_type": "stream",
     "text": [
      "Iteration 1, loss = 747.08750331\n",
      "Iteration 2, loss = 185.40814312\n",
      "Iteration 3, loss = 167.67288585\n",
      "Iteration 4, loss = 158.27472098\n",
      "Iteration 5, loss = 151.81693052\n",
      "Iteration 6, loss = 147.49404681\n",
      "Iteration 7, loss = 142.68867243\n",
      "Iteration 8, loss = 138.70250057\n",
      "Iteration 9, loss = 136.87949213\n",
      "Iteration 10, loss = 134.12459351\n",
      "Iteration 11, loss = 131.97153300\n",
      "Iteration 12, loss = 130.44416686\n",
      "Iteration 13, loss = 128.85532352\n",
      "Iteration 14, loss = 127.21530171\n",
      "Iteration 15, loss = 125.68765688\n",
      "Iteration 16, loss = 124.29910895\n",
      "Iteration 17, loss = 123.45394062\n",
      "Iteration 18, loss = 122.66192743\n",
      "Iteration 19, loss = 121.63787868\n",
      "Iteration 20, loss = 119.45075634\n",
      "Iteration 21, loss = 118.88844729\n",
      "Iteration 22, loss = 118.48852539\n",
      "Iteration 23, loss = 117.92355197\n",
      "Iteration 24, loss = 116.95925537\n",
      "Iteration 25, loss = 115.38215965\n",
      "Iteration 26, loss = 114.09324799\n",
      "Iteration 27, loss = 114.03654987\n",
      "Iteration 28, loss = 113.14375070\n",
      "Iteration 29, loss = 112.79307465\n",
      "Iteration 30, loss = 111.48135006\n",
      "Iteration 31, loss = 111.22381895\n",
      "Iteration 32, loss = 110.22886176\n",
      "Iteration 33, loss = 108.89844928\n",
      "Iteration 34, loss = 108.42871802\n",
      "Iteration 35, loss = 108.48571434\n",
      "Iteration 36, loss = 108.15123016\n",
      "Iteration 37, loss = 107.54799574\n",
      "Iteration 38, loss = 106.62020593\n",
      "Iteration 39, loss = 106.52096988\n",
      "Iteration 40, loss = 106.71729358\n",
      "Iteration 41, loss = 105.30386699\n",
      "Iteration 42, loss = 105.53396509\n",
      "Iteration 43, loss = 105.06373342\n",
      "Iteration 44, loss = 104.77549770\n",
      "Iteration 45, loss = 104.13701558\n",
      "Iteration 46, loss = 104.23567945\n",
      "Iteration 47, loss = 103.25780064\n",
      "Iteration 48, loss = 103.17557978\n",
      "Iteration 49, loss = 102.10756166\n",
      "Iteration 50, loss = 102.83602041\n",
      "Iteration 51, loss = 101.73023344\n",
      "Iteration 52, loss = 101.50667556\n",
      "Iteration 53, loss = 102.00506174\n",
      "Iteration 54, loss = 101.33484092\n",
      "Iteration 55, loss = 100.23715583\n",
      "Iteration 56, loss = 100.29278903\n",
      "Iteration 57, loss = 100.54145250\n",
      "Iteration 58, loss = 99.60860630\n",
      "Iteration 59, loss = 99.88860219\n",
      "Iteration 60, loss = 99.47448372\n",
      "Iteration 61, loss = 98.39164626\n",
      "Iteration 62, loss = 98.45513176\n",
      "Iteration 63, loss = 98.97938057\n",
      "Iteration 64, loss = 98.46649250\n",
      "Iteration 65, loss = 97.33139279\n",
      "Iteration 66, loss = 96.66545613\n",
      "Iteration 67, loss = 96.84617462\n",
      "Iteration 68, loss = 96.92491558\n",
      "Iteration 69, loss = 95.89471850\n",
      "Iteration 70, loss = 96.45504122\n",
      "Iteration 71, loss = 95.11014203\n",
      "Iteration 72, loss = 96.02330962\n",
      "Iteration 73, loss = 94.92213687\n",
      "Iteration 74, loss = 94.41221389\n",
      "Iteration 75, loss = 94.04218293\n",
      "Iteration 76, loss = 93.36367643\n",
      "Iteration 77, loss = 93.81868235\n",
      "Iteration 78, loss = 91.98109794\n",
      "Iteration 79, loss = 91.85613012\n",
      "Iteration 80, loss = 91.90072940\n",
      "Iteration 81, loss = 92.19588805\n",
      "Iteration 82, loss = 91.61586836\n",
      "Iteration 83, loss = 92.05440818\n",
      "Iteration 84, loss = 91.11381298\n",
      "Iteration 85, loss = 91.56858189\n",
      "Iteration 86, loss = 90.56115184\n",
      "Iteration 87, loss = 90.00598823\n",
      "Iteration 88, loss = 90.76048273\n",
      "Iteration 89, loss = 89.63796576\n",
      "Iteration 90, loss = 89.30501499\n",
      "Iteration 91, loss = 89.61043131\n",
      "Iteration 92, loss = 88.96014180\n",
      "Iteration 93, loss = 88.64996764\n",
      "Iteration 94, loss = 89.15828108\n",
      "Iteration 95, loss = 87.84989152\n",
      "Iteration 96, loss = 89.11793942\n",
      "Iteration 97, loss = 87.98400921\n",
      "Iteration 98, loss = 88.12631068\n",
      "Iteration 99, loss = 86.50568401\n",
      "Iteration 100, loss = 87.12004786\n",
      "Iteration 101, loss = 87.68834339\n",
      "Iteration 102, loss = 87.21838971\n",
      "Iteration 103, loss = 87.01119215\n",
      "Iteration 104, loss = 86.58338482\n",
      "Iteration 105, loss = 86.39315976\n",
      "Iteration 106, loss = 86.07355548\n",
      "Iteration 107, loss = 85.79013445\n",
      "Iteration 108, loss = 86.64369817\n",
      "Iteration 109, loss = 86.70759069\n",
      "Iteration 110, loss = 86.14196933\n",
      "Iteration 111, loss = 85.60525412\n",
      "Iteration 112, loss = 85.22878457\n",
      "Iteration 113, loss = 85.41114894\n",
      "Iteration 114, loss = 85.73281408\n",
      "Iteration 115, loss = 85.20376569\n",
      "Iteration 116, loss = 84.93971507\n",
      "Iteration 117, loss = 84.39017567\n",
      "Iteration 118, loss = 84.55793230\n",
      "Iteration 119, loss = 85.03287154\n",
      "Iteration 120, loss = 83.62578191\n",
      "Iteration 121, loss = 85.42314272\n",
      "Iteration 122, loss = 84.46061619\n",
      "Iteration 123, loss = 84.50101329\n",
      "Iteration 124, loss = 83.58991367\n",
      "Iteration 125, loss = 84.85470774\n",
      "Iteration 126, loss = 82.52393145\n",
      "Iteration 127, loss = 83.00814725\n",
      "Iteration 128, loss = 83.53944030\n",
      "Iteration 129, loss = 83.45786873\n",
      "Iteration 130, loss = 83.74607560\n",
      "Iteration 131, loss = 83.57314874\n",
      "Iteration 132, loss = 82.44094823\n",
      "Iteration 133, loss = 82.64439294\n",
      "Iteration 134, loss = 81.97296785\n",
      "Iteration 135, loss = 81.90290381\n",
      "Iteration 136, loss = 82.14277929\n",
      "Iteration 137, loss = 82.93049938\n",
      "Iteration 138, loss = 82.12632726\n",
      "Iteration 139, loss = 82.81700812\n",
      "Iteration 140, loss = 81.91165974\n",
      "Iteration 141, loss = 82.57844529\n",
      "Iteration 142, loss = 81.24383748\n",
      "Iteration 143, loss = 81.48498760\n",
      "Iteration 144, loss = 81.14778635\n",
      "Iteration 145, loss = 82.63299126\n",
      "Iteration 146, loss = 82.07428522\n",
      "Iteration 147, loss = 81.03124898\n",
      "Iteration 148, loss = 81.66469152\n",
      "Iteration 149, loss = 80.45334503\n",
      "Iteration 150, loss = 80.93277275\n",
      "Iteration 151, loss = 80.42604180\n",
      "Iteration 152, loss = 80.83571775\n",
      "Iteration 153, loss = 81.05109080\n",
      "Iteration 154, loss = 80.41537879\n",
      "Iteration 155, loss = 80.29783440\n",
      "Iteration 156, loss = 79.65410192\n",
      "Iteration 157, loss = 80.36765451\n",
      "Iteration 158, loss = 79.86759256\n",
      "Iteration 159, loss = 79.81684584\n",
      "Iteration 160, loss = 79.57381912\n",
      "Iteration 161, loss = 80.41478231\n",
      "Iteration 162, loss = 80.07435993\n",
      "Iteration 163, loss = 79.38593744\n",
      "Iteration 164, loss = 79.25760167\n",
      "Iteration 165, loss = 79.61590758\n",
      "Iteration 166, loss = 79.59320164\n",
      "Iteration 167, loss = 80.12490165\n",
      "Iteration 168, loss = 79.15997720\n",
      "Iteration 169, loss = 78.31302036\n",
      "Iteration 170, loss = 79.65062581\n",
      "Iteration 171, loss = 77.76180824\n",
      "Iteration 172, loss = 77.89278084\n",
      "Iteration 173, loss = 78.37408232\n",
      "Iteration 174, loss = 78.25038974\n",
      "Iteration 175, loss = 78.03666145\n",
      "Iteration 176, loss = 77.51401633\n",
      "Iteration 177, loss = 78.45263487\n",
      "Iteration 178, loss = 78.74024264\n",
      "Iteration 179, loss = 77.92466572\n",
      "Iteration 180, loss = 78.14795342\n",
      "Iteration 181, loss = 76.97801479\n",
      "Iteration 182, loss = 77.66693352\n",
      "Iteration 183, loss = 77.73236812\n",
      "Iteration 184, loss = 77.60797354\n",
      "Iteration 185, loss = 77.14703117\n",
      "Iteration 186, loss = 77.74231992\n",
      "Iteration 187, loss = 77.76362475\n",
      "Iteration 188, loss = 77.14517803\n",
      "Iteration 189, loss = 77.60023077\n",
      "Iteration 190, loss = 76.77804248\n",
      "Iteration 191, loss = 76.95581660\n",
      "Iteration 192, loss = 77.96145614\n",
      "Iteration 193, loss = 77.11436633\n",
      "Iteration 194, loss = 77.79829393\n",
      "Iteration 195, loss = 77.14354236\n",
      "Iteration 196, loss = 77.16399778\n",
      "Iteration 197, loss = 76.68657279\n",
      "Iteration 198, loss = 76.86482889\n",
      "Iteration 199, loss = 77.18256370\n",
      "Iteration 200, loss = 76.57315983\n",
      "Iteration 201, loss = 75.86257739\n",
      "Iteration 202, loss = 76.45647553\n",
      "Iteration 203, loss = 76.56297763\n",
      "Iteration 204, loss = 76.12652293\n",
      "Iteration 205, loss = 75.52431810\n",
      "Iteration 206, loss = 76.39817471\n",
      "Iteration 207, loss = 75.94335070\n",
      "Iteration 208, loss = 75.85229544\n",
      "Iteration 209, loss = 76.82711457\n",
      "Iteration 210, loss = 76.32171081\n",
      "Iteration 211, loss = 76.09598082\n",
      "Iteration 212, loss = 75.96649954\n",
      "Iteration 213, loss = 75.68241120\n",
      "Iteration 214, loss = 75.25348346\n",
      "Iteration 215, loss = 75.53095791\n",
      "Iteration 216, loss = 75.26680234\n",
      "Iteration 217, loss = 75.46467248\n",
      "Iteration 218, loss = 76.39812662\n",
      "Iteration 219, loss = 76.14899753\n",
      "Iteration 220, loss = 75.80454321\n",
      "Iteration 221, loss = 75.25483477\n",
      "Iteration 222, loss = 75.06641027\n",
      "Iteration 223, loss = 74.73511492\n",
      "Iteration 224, loss = 75.11837060\n",
      "Iteration 225, loss = 75.06003250\n",
      "Iteration 226, loss = 75.40945815\n",
      "Iteration 227, loss = 75.72094431\n",
      "Iteration 228, loss = 74.71215774\n",
      "Iteration 229, loss = 74.06235774\n",
      "Iteration 230, loss = 74.32351730\n",
      "Iteration 231, loss = 74.90981783\n",
      "Iteration 232, loss = 74.20965631\n",
      "Iteration 233, loss = 75.24241247\n",
      "Iteration 234, loss = 74.83119373\n",
      "Iteration 235, loss = 74.65610842\n",
      "Iteration 236, loss = 74.84306061\n",
      "Iteration 237, loss = 74.84947899\n",
      "Iteration 238, loss = 73.50397162\n",
      "Iteration 239, loss = 74.00884808\n",
      "Iteration 240, loss = 74.33764362\n",
      "Iteration 241, loss = 74.05049256\n",
      "Iteration 242, loss = 74.32617039\n",
      "Iteration 243, loss = 73.90159325\n"
     ]
    },
    {
     "name": "stdout",
     "output_type": "stream",
     "text": [
      "Iteration 244, loss = 74.67025571\n",
      "Iteration 245, loss = 74.22786791\n",
      "Iteration 246, loss = 74.64316338\n",
      "Iteration 247, loss = 73.85410756\n",
      "Iteration 248, loss = 73.49380395\n",
      "Iteration 249, loss = 74.22189773\n",
      "Iteration 250, loss = 73.55561183\n",
      "Iteration 251, loss = 73.37661350\n",
      "Iteration 252, loss = 73.30066288\n",
      "Iteration 253, loss = 73.57328472\n",
      "Iteration 254, loss = 74.13570287\n",
      "Iteration 255, loss = 73.12022808\n",
      "Iteration 256, loss = 74.23606780\n",
      "Iteration 257, loss = 73.72892964\n",
      "Iteration 258, loss = 73.73369998\n",
      "Iteration 259, loss = 73.64812995\n",
      "Iteration 260, loss = 74.05686262\n",
      "Iteration 261, loss = 72.98335389\n",
      "Iteration 262, loss = 73.42309478\n",
      "Iteration 263, loss = 73.83686331\n",
      "Iteration 264, loss = 73.40639160\n",
      "Iteration 265, loss = 73.26221614\n",
      "Iteration 266, loss = 73.79296800\n",
      "Iteration 267, loss = 73.14692362\n",
      "Iteration 268, loss = 73.40358492\n",
      "Iteration 269, loss = 73.39152998\n",
      "Iteration 270, loss = 72.94161094\n",
      "Iteration 271, loss = 72.94280103\n",
      "Iteration 272, loss = 72.52918035\n",
      "Iteration 273, loss = 73.58703712\n",
      "Iteration 274, loss = 72.66737979\n",
      "Iteration 275, loss = 72.63652767\n",
      "Iteration 276, loss = 72.53762917\n",
      "Iteration 277, loss = 72.57478027\n",
      "Iteration 278, loss = 72.73359328\n",
      "Iteration 279, loss = 72.36214013\n",
      "Iteration 280, loss = 73.10839315\n",
      "Iteration 281, loss = 72.20198065\n",
      "Iteration 282, loss = 72.64825716\n",
      "Iteration 283, loss = 72.86496088\n",
      "Iteration 284, loss = 72.65130817\n",
      "Iteration 285, loss = 72.38208635\n",
      "Iteration 286, loss = 71.69314990\n",
      "Iteration 287, loss = 71.71612279\n",
      "Iteration 288, loss = 73.70079412\n",
      "Iteration 289, loss = 72.43901770\n",
      "Iteration 290, loss = 71.36525849\n",
      "Iteration 291, loss = 71.72104720\n",
      "Iteration 292, loss = 71.84060141\n",
      "Iteration 293, loss = 72.28264520\n",
      "Iteration 294, loss = 71.32352385\n",
      "Iteration 295, loss = 72.66552642\n",
      "Iteration 296, loss = 71.21131654\n",
      "Iteration 297, loss = 71.52241561\n",
      "Iteration 298, loss = 72.54715101\n",
      "Iteration 299, loss = 72.06628881\n",
      "Iteration 300, loss = 71.81590393\n",
      "Iteration 301, loss = 71.17660659\n",
      "Iteration 302, loss = 71.77015092\n",
      "Iteration 303, loss = 71.78611827\n",
      "Iteration 304, loss = 71.80219358\n",
      "Iteration 305, loss = 71.23765696\n",
      "Iteration 306, loss = 71.84883085\n",
      "Iteration 307, loss = 71.95731361\n",
      "Iteration 308, loss = 71.28346412\n",
      "Iteration 309, loss = 70.77049482\n",
      "Iteration 310, loss = 71.32216096\n",
      "Iteration 311, loss = 71.05636150\n",
      "Iteration 312, loss = 70.68883630\n",
      "Iteration 313, loss = 71.55594077\n",
      "Iteration 314, loss = 70.99393200\n",
      "Iteration 315, loss = 71.03420352\n",
      "Iteration 316, loss = 71.05237000\n",
      "Iteration 317, loss = 71.54209239\n",
      "Iteration 318, loss = 71.38141033\n",
      "Iteration 319, loss = 71.86329239\n",
      "Iteration 320, loss = 70.95873289\n",
      "Iteration 321, loss = 70.48356754\n",
      "Iteration 322, loss = 70.67568840\n",
      "Iteration 323, loss = 71.29848791\n",
      "Iteration 324, loss = 70.54635206\n",
      "Iteration 325, loss = 70.53254437\n",
      "Iteration 326, loss = 70.95981012\n",
      "Iteration 327, loss = 69.75070404\n",
      "Iteration 328, loss = 70.92759346\n",
      "Iteration 329, loss = 70.19557470\n",
      "Iteration 330, loss = 70.66909190\n",
      "Iteration 331, loss = 70.42393652\n",
      "Iteration 332, loss = 70.42597647\n",
      "Iteration 333, loss = 70.14962211\n",
      "Iteration 334, loss = 69.42954400\n",
      "Iteration 335, loss = 70.30910106\n",
      "Iteration 336, loss = 70.13769088\n",
      "Iteration 337, loss = 69.76092354\n",
      "Iteration 338, loss = 70.79978452\n",
      "Iteration 339, loss = 70.08262656\n",
      "Iteration 340, loss = 70.07260146\n",
      "Iteration 341, loss = 70.56206976\n",
      "Iteration 342, loss = 70.18798220\n",
      "Iteration 343, loss = 70.18803809\n",
      "Iteration 344, loss = 69.15558617\n",
      "Iteration 345, loss = 70.56170346\n",
      "Iteration 346, loss = 69.87481587\n",
      "Iteration 347, loss = 70.95133009\n",
      "Iteration 348, loss = 69.72958862\n",
      "Iteration 349, loss = 69.90967609\n",
      "Iteration 350, loss = 69.93171008\n",
      "Iteration 351, loss = 70.15528303\n",
      "Iteration 352, loss = 70.23962436\n",
      "Iteration 353, loss = 70.35592130\n",
      "Iteration 354, loss = 69.65473446\n",
      "Iteration 355, loss = 70.02285730\n",
      "Training loss did not improve more than tol=0.000100 for 10 consecutive epochs. Stopping.\n"
     ]
    },
    {
     "data": {
      "text/plain": [
       "MLPRegressor(activation='relu', alpha=0.003, batch_size='auto', beta_1=0.9,\n",
       "       beta_2=0.999, early_stopping=False, epsilon=1e-08,\n",
       "       hidden_layer_sizes=(10, 20, 20, 20, 10), learning_rate='constant',\n",
       "       learning_rate_init=0.001, max_iter=2000, momentum=0.9,\n",
       "       n_iter_no_change=10, nesterovs_momentum=True, power_t=0.5,\n",
       "       random_state=None, shuffle=True, solver='adam', tol=0.0001,\n",
       "       validation_fraction=0.1, verbose=True, warm_start=False)"
      ]
     },
     "execution_count": 122,
     "metadata": {},
     "output_type": "execute_result"
    }
   ],
   "source": [
    "# Model for blue\n",
    "X_train_b, X_test_b, y_train_b, y_test_b = train_test_split(data_X, data_y_blue, test_size=0.2, random_state=42)\n",
    "scaler = StandardScaler()\n",
    "scaler.fit(X_train_b)\n",
    "\n",
    "X_train_b = scaler.transform(X_train_b)\n",
    "X_test_b = scaler.transform(X_test_b)\n",
    "\n",
    "mlp_b = MLPRegressor(hidden_layer_sizes=(10,20,20,20,10),  activation='relu', \n",
    "                   solver='adam', max_iter=1000, alpha=0.003, verbose=True)\n",
    "mlp_b.fit(X_train_b,y_train_b)"
   ]
  },
  {
   "cell_type": "code",
   "execution_count": 123,
   "metadata": {},
   "outputs": [],
   "source": [
    "predictions_b = mlp_b.predict(X_test_b)"
   ]
  },
  {
   "cell_type": "code",
   "execution_count": 124,
   "metadata": {},
   "outputs": [
    {
     "name": "stderr",
     "output_type": "stream",
     "text": [
      "/home/vedantc6/anaconda3/lib/python3.7/site-packages/scipy/stats/stats.py:1713: FutureWarning: Using a non-tuple sequence for multidimensional indexing is deprecated; use `arr[tuple(seq)]` instead of `arr[seq]`. In the future this will be interpreted as an array index, `arr[np.array(seq)]`, which will result either in an error or a different result.\n",
      "  return np.add.reduce(sorted[indexer] * weights, axis=axis) / sumval\n"
     ]
    },
    {
     "data": {
      "text/plain": [
       "<matplotlib.axes._subplots.AxesSubplot at 0x7fc8b7a92f28>"
      ]
     },
     "execution_count": 124,
     "metadata": {},
     "output_type": "execute_result"
    },
    {
     "data": {
      "image/png": "[encoded data removed]",
      "text/plain": [
       "<Figure size 432x288 with 1 Axes>"
      ]
     },
     "metadata": {
      "needs_background": "light"
     },
     "output_type": "display_data"
    }
   ],
   "source": [
    "sns.distplot(predictions_b)"
   ]
  },
  {
   "cell_type": "code",
   "execution_count": 125,
   "metadata": {},
   "outputs": [
    {
     "name": "stderr",
     "output_type": "stream",
     "text": [
      "/home/vedantc6/anaconda3/lib/python3.7/site-packages/scipy/stats/stats.py:1713: FutureWarning: Using a non-tuple sequence for multidimensional indexing is deprecated; use `arr[tuple(seq)]` instead of `arr[seq]`. In the future this will be interpreted as an array index, `arr[np.array(seq)]`, which will result either in an error or a different result.\n",
      "  return np.add.reduce(sorted[indexer] * weights, axis=axis) / sumval\n"
     ]
    },
    {
     "data": {
      "text/plain": [
       "<matplotlib.axes._subplots.AxesSubplot at 0x7fc8b21b7550>"
      ]
     },
     "execution_count": 125,
     "metadata": {},
     "output_type": "execute_result"
    },
    {
     "data": {
      "image/png": "[encoded data removed]",
      "text/plain": [
       "<Figure size 432x288 with 1 Axes>"
      ]
     },
     "metadata": {
      "needs_background": "light"
     },
     "output_type": "display_data"
    }
   ],
   "source": [
    "sns.distplot(y_test_b)"
   ]
  },
  {
   "cell_type": "code",
   "execution_count": 127,
   "metadata": {},
   "outputs": [],
   "source": [
    "def bound_predictions(predictions_b, predictions_g, predictions_r):\n",
    "    for i in range(len(predictions_g)):\n",
    "        if predictions_b[i] < 0:\n",
    "            predictions_b[i] = 0\n",
    "        if predictions_b[i] > 255:\n",
    "            predictions_b[i] = 255\n",
    "        if predictions_g[i] < 0:\n",
    "            predictions_g[i] = 0\n",
    "        if predictions_g[i] > 255:\n",
    "            predictions_g[i] = 255\n",
    "        if predictions_r[i] < 0:\n",
    "            predictions_r[i] = 0\n",
    "        if predictions_r[i] > 255:\n",
    "            predictions_r[i] = 255\n",
    "    \n",
    "        predictions_b[i] = int(predictions_b[i])\n",
    "        predictions_g[i] = int(predictions_g[i])\n",
    "        predictions_r[i] = int(predictions_r[i])\n",
    "        \n",
    "    return predictions_r, predictions_g, predictions_b"
   ]
  },
  {
   "cell_type": "code",
   "execution_count": 138,
   "metadata": {},
   "outputs": [
    {
     "name": "stdout",
     "output_type": "stream",
     "text": [
      "Opening directory ./Images/test\n",
      "Accessging  scene5.jpeg\n",
      "['scene5.jpeg']\n"
     ]
    }
   ],
   "source": [
    "directory = \"./Images/test\"\n",
    "filter_size = 13\n",
    "X, y, files = get_images(directory, filter_size)\n",
    "print(files)\n",
    "data_X_test, data_y_red_test, data_y_green_test, data_y_blue_test = align_data(X, y)\n",
    "data_X_test = scaler.transform(data_X_test)"
   ]
  },
  {
   "cell_type": "code",
   "execution_count": 139,
   "metadata": {},
   "outputs": [],
   "source": [
    "test_predictions_b = mlp_b.predict(data_X_test)\n",
    "test_predictions_g = mlp_g.predict(data_X_test)\n",
    "test_predictions_r = mlp_r.predict(data_X_test)"
   ]
  },
  {
   "cell_type": "code",
   "execution_count": 140,
   "metadata": {},
   "outputs": [
    {
     "name": "stderr",
     "output_type": "stream",
     "text": [
      "/home/vedantc6/anaconda3/lib/python3.7/site-packages/scipy/stats/stats.py:1713: FutureWarning: Using a non-tuple sequence for multidimensional indexing is deprecated; use `arr[tuple(seq)]` instead of `arr[seq]`. In the future this will be interpreted as an array index, `arr[np.array(seq)]`, which will result either in an error or a different result.\n",
      "  return np.add.reduce(sorted[indexer] * weights, axis=axis) / sumval\n"
     ]
    },
    {
     "data": {
      "text/plain": [
       "<matplotlib.axes._subplots.AxesSubplot at 0x7fc8a327bf60>"
      ]
     },
     "execution_count": 140,
     "metadata": {},
     "output_type": "execute_result"
    },
    {
     "data": {
      "image/png": "[encoded data removed]",
      "text/plain": [
       "<Figure size 432x288 with 1 Axes>"
      ]
     },
     "metadata": {
      "needs_background": "light"
     },
     "output_type": "display_data"
    }
   ],
   "source": [
    "sns.distplot(test_predictions_b)"
   ]
  },
  {
   "cell_type": "code",
   "execution_count": 141,
   "metadata": {},
   "outputs": [
    {
     "name": "stderr",
     "output_type": "stream",
     "text": [
      "/home/vedantc6/anaconda3/lib/python3.7/site-packages/scipy/stats/stats.py:1713: FutureWarning: Using a non-tuple sequence for multidimensional indexing is deprecated; use `arr[tuple(seq)]` instead of `arr[seq]`. In the future this will be interpreted as an array index, `arr[np.array(seq)]`, which will result either in an error or a different result.\n",
      "  return np.add.reduce(sorted[indexer] * weights, axis=axis) / sumval\n"
     ]
    },
    {
     "data": {
      "text/plain": [
       "<matplotlib.axes._subplots.AxesSubplot at 0x7fc8b758d668>"
      ]
     },
     "execution_count": 141,
     "metadata": {},
     "output_type": "execute_result"
    },
    {
     "data": {
      "image/png": "[encoded data removed]",
      "text/plain": [
       "<Figure size 432x288 with 1 Axes>"
      ]
     },
     "metadata": {
      "needs_background": "light"
     },
     "output_type": "display_data"
    }
   ],
   "source": [
    "sns.distplot(data_y_blue_test)"
   ]
  },
  {
   "cell_type": "code",
   "execution_count": 142,
   "metadata": {},
   "outputs": [],
   "source": [
    "test_predictions_b, test_predictions_g, test_predictions_r = bound_predictions(test_predictions_b, test_predictions_g, test_predictions_r)"
   ]
  },
  {
   "cell_type": "code",
   "execution_count": 143,
   "metadata": {},
   "outputs": [
    {
     "data": {
      "text/plain": [
       "array([ 90.,  22., 157., ..., 193.,  61., 190.])"
      ]
     },
     "execution_count": 143,
     "metadata": {},
     "output_type": "execute_result"
    }
   ],
   "source": [
    "test_predictions_b"
   ]
  },
  {
   "cell_type": "code",
   "execution_count": 144,
   "metadata": {},
   "outputs": [
    {
     "data": {
      "text/plain": [
       "array([126.,  58., 181., ..., 181.,  52., 181.])"
      ]
     },
     "execution_count": 144,
     "metadata": {},
     "output_type": "execute_result"
    }
   ],
   "source": [
    "for i in range(len(test_predictions_b)):\n",
    "    color = create_palette(test_predictions_r[i], test_predictions_g[i], test_predictions_b[i])\n",
    "    test_predictions_r[i] = color[0]\n",
    "    test_predictions_g[i] = color[1]\n",
    "    test_predictions_b[i] = color[2]\n",
    "    \n",
    "test_predictions_b"
   ]
  },
  {
   "cell_type": "code",
   "execution_count": 145,
   "metadata": {},
   "outputs": [],
   "source": [
    "from PIL import Image"
   ]
  },
  {
   "cell_type": "code",
   "execution_count": 146,
   "metadata": {},
   "outputs": [],
   "source": [
    "class Colorizer():\n",
    "    def __init__(self, red_list, blue_list, green_list, image_location='./Images/test/scene5.jpeg'):\n",
    "        self.im_size = (0, 0)\n",
    "        self.image_loc = image_location\n",
    "        self.image = None\n",
    "        self.pix_object = None\n",
    "        self.pixel_values = None\n",
    "        self.red = red_list\n",
    "        self.blue = blue_list\n",
    "        self.green = green_list\n",
    "        \n",
    "    def extract_pixels(self):\n",
    "        # Open the image\n",
    "        self.image = Image.open(self.image_loc)\n",
    "        # Load the image - Pixel object\n",
    "        self.pix_object = self.image.load()\n",
    "        # Size of the image - Number of rows * Number of columns\n",
    "        self.im_size = self.image.size\n",
    "        # Extract all the pixel values - Start from left corner (Moving from Left to Right)\n",
    "        self.pixel_values = list(self.image.getdata())\n",
    "        \n",
    "    def create_image_from_array(self):\n",
    "        \n",
    "        w, h = 500, 500\n",
    "        count = 0\n",
    "        data = np.zeros((h, w, 3), dtype=np.uint8)\n",
    "        \n",
    "        for i in range(w):\n",
    "            \n",
    "            for j in range(h):\n",
    "                \n",
    "                data[i,j] = (int(self.red[count]), int(self.green[count]), int(self.blue[count]))\n",
    "                count +=1\n",
    "        \n",
    "        img = Image.fromarray(data, 'RGB')\n",
    "        img.save('palette1_v5.png')\n",
    "        img.show()"
   ]
  },
  {
   "cell_type": "code",
   "execution_count": 147,
   "metadata": {},
   "outputs": [
    {
     "name": "stdout",
     "output_type": "stream",
     "text": [
      "Done\n"
     ]
    }
   ],
   "source": [
    "new_color = Colorizer(red_list=test_predictions_r, blue_list=test_predictions_b, green_list=test_predictions_g)\n",
    "new_color.extract_pixels()\n",
    "new_color.create_image_from_array()\n",
    "print(\"Done\")"
   ]
  },
  {
   "cell_type": "code",
   "execution_count": null,
   "metadata": {},
   "outputs": [],
   "source": []
  }
 ],
 "metadata": {
  "kernelspec": {
   "display_name": "Python 3",
   "language": "python",
   "name": "python3"
  },
  "language_info": {
   "codemirror_mode": {
    "name": "ipython",
    "version": 3
   },
   "file_extension": ".py",
   "mimetype": "text/x-python",
   "name": "python",
   "nbconvert_exporter": "python",
   "pygments_lexer": "ipython3",
   "version": "3.7.1"
  }
 },
 "nbformat": 4,
 "nbformat_minor": 2
}
