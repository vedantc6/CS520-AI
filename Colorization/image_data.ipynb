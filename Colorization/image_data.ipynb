{
 "cells": [
  {
   "cell_type": "code",
   "execution_count": 35,
   "metadata": {},
   "outputs": [],
   "source": [
    "import numpy as np\n",
    "import matplotlib.pyplot as plt\n",
    "import cv2\n",
    "import os\n",
    "import pandas as pd\n",
    "from sklearn.neural_network import MLPRegressor\n",
    "from sklearn.model_selection import train_test_split\n",
    "from sklearn.preprocessing import StandardScaler"
   ]
  },
  {
   "cell_type": "code",
   "execution_count": 4,
   "metadata": {},
   "outputs": [],
   "source": [
    "def pad_images(image, filter_size):\n",
    "    p = int((filter_size - 1)/2)\n",
    "    image = np.pad(array=image, pad_width=p, mode='constant', constant_values=0)\n",
    "    return image\n",
    "\n",
    "def create_dataset(gray, red, green, blue, f_s):\n",
    "    X = []\n",
    "    y = []\n",
    "    p_gray = pad_images(gray, f_s)\n",
    "    p_red = pad_images(red, f_s)\n",
    "    p_green = pad_images(green, f_s)\n",
    "    p_blue = pad_images(blue, f_s)\n",
    "    \n",
    "    for i in range(0, len(p_gray)-(f_s-1)):\n",
    "        for j in range(0, len(p_gray)-(f_s-1)):\n",
    "            X.append(list(p_gray[i:i+f_s,j:j+f_s].flatten()))\n",
    "            y.append([p_red[i:i+f_s,j:j+f_s].flatten()[int(f_s*f_s/2)], \n",
    "                      p_green[i:i+f_s,j:j+f_s].flatten()[int(f_s*f_s/2)], \n",
    "                      p_blue[i:i+f_s,j:j+f_s].flatten()[int(f_s*f_s/2)]])\n",
    "    \n",
    "    return X, y\n",
    "    \n",
    "def get_images(directory, f_s):\n",
    "    exts = [\"jpg\", \"jpeg\", \"png\"]\n",
    "    print(\"Opening directory {}\".format(directory))\n",
    "    for root, dirs, files in os.walk(directory):\n",
    "        if root:\n",
    "            X = []\n",
    "            y = []\n",
    "            file_name = []\n",
    "            for f in files:\n",
    "                if f.split(\".\")[1] in exts:\n",
    "                    image = cv2.imread(os.path.join(root, f))\n",
    "                    image = cv2.resize(image, (32,32), interpolation = cv2.INTER_AREA)\n",
    "                    # gray image\n",
    "                    gray = cv2.cvtColor(image, cv2.COLOR_BGR2GRAY)\n",
    "                    # red, green, blue components\n",
    "                    red, green, blue = image[:,:,2], image[:,:,1], image[:,:,0]\n",
    "                    m_X, m_y = create_dataset(gray, red, green, blue, f_s)\n",
    "                \n",
    "                    X.append(m_X)\n",
    "                    y.append(m_y)\n",
    "                    file_name.append(f)\n",
    "    return X, y, file_name\n",
    "                "
   ]
  },
  {
   "cell_type": "code",
   "execution_count": 5,
   "metadata": {},
   "outputs": [
    {
     "name": "stdout",
     "output_type": "stream",
     "text": [
      "Opening directory ./Images/\n",
      "X:  1024\n",
      "y:  1024\n",
      "Filename:  ['scene8.jpeg', 'scene10.jpeg', 'scene9.jpeg', 'scene2.jpeg', 'scene1.jpeg', 'scene5.jpeg', 'scene3.jpeg', 'scene7.jpeg', 'scene6.jpeg']\n"
     ]
    }
   ],
   "source": [
    "directory = \"./Images/\"\n",
    "filter_size = 3\n",
    "X, y, files = get_images(directory, filter_size)\n",
    "print(\"X: \", len(X[0]))\n",
    "print(\"y: \", len(y[0]))\n",
    "print(\"Filename: \", files)"
   ]
  },
  {
   "cell_type": "code",
   "execution_count": 28,
   "metadata": {},
   "outputs": [],
   "source": [
    "data_X = []\n",
    "for sublist in X:\n",
    "    for item in sublist:\n",
    "        data_X.append(item)\n",
    "        \n",
    "data_y_red = []\n",
    "data_y_green = []\n",
    "data_y_blue = []\n",
    "\n",
    "for sublist in y:\n",
    "    for item in sublist:\n",
    "        data_y_red.append(item[0])\n",
    "        data_y_green.append(item[1])\n",
    "        data_y_blue.append(item[2])"
   ]
  },
  {
   "cell_type": "code",
   "execution_count": 59,
   "metadata": {},
   "outputs": [
    {
     "data": {
      "text/plain": [
       "StandardScaler(copy=True, with_mean=True, with_std=True)"
      ]
     },
     "execution_count": 59,
     "metadata": {},
     "output_type": "execute_result"
    }
   ],
   "source": [
    "# Model for red\n",
    "X_train_r, X_test_r, y_train_r, y_test_r = train_test_split(data_X, data_y_red, test_size=0.2, random_state=42)\n",
    "scaler = StandardScaler()\n",
    "scaler.fit(X_train_r)"
   ]
  },
  {
   "cell_type": "code",
   "execution_count": 75,
   "metadata": {},
   "outputs": [
    {
     "data": {
      "text/plain": [
       "MLPRegressor(activation='relu', alpha=0.003, batch_size='auto', beta_1=0.9,\n",
       "       beta_2=0.999, early_stopping=False, epsilon=1e-08,\n",
       "       hidden_layer_sizes=(10,), learning_rate='constant',\n",
       "       learning_rate_init=0.001, max_iter=500, momentum=0.9,\n",
       "       n_iter_no_change=10, nesterovs_momentum=True, power_t=0.5,\n",
       "       random_state=None, shuffle=True, solver='adam', tol=0.0001,\n",
       "       validation_fraction=0.1, verbose=False, warm_start=False)"
      ]
     },
     "execution_count": 75,
     "metadata": {},
     "output_type": "execute_result"
    }
   ],
   "source": [
    "X_train_r = scaler.transform(X_train_r)\n",
    "X_test_r = scaler.transform(X_test_r)\n",
    "\n",
    "mlp = MLPRegressor(hidden_layer_sizes=(10,),  activation='relu', \n",
    "                   solver='adam', max_iter=500, alpha=0.003)\n",
    "mlp.fit(X_train_r,y_train_r)"
   ]
  },
  {
   "cell_type": "code",
   "execution_count": 76,
   "metadata": {},
   "outputs": [
    {
     "data": {
      "text/plain": [
       "array([114.23455371, 114.23455336, 114.23456082, ..., 114.23455014,\n",
       "       114.2345584 , 114.23454919])"
      ]
     },
     "execution_count": 76,
     "metadata": {},
     "output_type": "execute_result"
    }
   ],
   "source": [
    "predictions = mlp.predict(X_test_r)\n",
    "predictions"
   ]
  },
  {
   "cell_type": "code",
   "execution_count": 60,
   "metadata": {},
   "outputs": [
    {
     "data": {
      "text/plain": [
       "1844"
      ]
     },
     "execution_count": 60,
     "metadata": {},
     "output_type": "execute_result"
    }
   ],
   "source": [
    "# plt.scatter(X_test_r, y_test_r)\n",
    "len(X_test_r)"
   ]
  }
 ],
 "metadata": {
  "kernelspec": {
   "display_name": "Python 3",
   "language": "python",
   "name": "python3"
  },
  "language_info": {
   "codemirror_mode": {
    "name": "ipython",
    "version": 3
   },
   "file_extension": ".py",
   "mimetype": "text/x-python",
   "name": "python",
   "nbconvert_exporter": "python",
   "pygments_lexer": "ipython3",
   "version": "3.7.1"
  }
 },
 "nbformat": 4,
 "nbformat_minor": 2
}
