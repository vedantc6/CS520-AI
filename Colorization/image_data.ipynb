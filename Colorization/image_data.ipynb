{
 "cells": [
  {
   "cell_type": "code",
   "execution_count": 1,
   "metadata": {},
   "outputs": [],
   "source": [
    "import numpy as np\n",
    "import matplotlib.pyplot as plt\n",
    "import cv2\n",
    "import os\n",
    "import pandas as pd\n",
    "from sklearn.neural_network import MLPRegressor\n",
    "from sklearn.model_selection import train_test_split\n",
    "from sklearn.preprocessing import StandardScaler\n",
    "import seaborn as sns"
   ]
  },
  {
   "cell_type": "code",
   "execution_count": 2,
   "metadata": {},
   "outputs": [],
   "source": [
    "def pad_images(image, filter_size):\n",
    "    p = int((filter_size - 1)/2)\n",
    "    image = np.pad(array=image, pad_width=p, mode='constant', constant_values=0)\n",
    "    return image\n",
    "\n",
    "def create_dataset(gray, red, green, blue, f_s):\n",
    "    X = []\n",
    "    y = []\n",
    "    p_gray = pad_images(gray, f_s)\n",
    "    p_red = pad_images(red, f_s)\n",
    "    p_green = pad_images(green, f_s)\n",
    "    p_blue = pad_images(blue, f_s)\n",
    "    \n",
    "    for i in range(0, len(p_gray)-(f_s-1)):\n",
    "        for j in range(0, len(p_gray)-(f_s-1)):\n",
    "            X.append(list(p_gray[i:i+f_s,j:j+f_s].flatten()))\n",
    "            y.append([p_red[i:i+f_s,j:j+f_s].flatten()[int(f_s*f_s/2)], \n",
    "                      p_green[i:i+f_s,j:j+f_s].flatten()[int(f_s*f_s/2)], \n",
    "                      p_blue[i:i+f_s,j:j+f_s].flatten()[int(f_s*f_s/2)]])\n",
    "    \n",
    "    return X, y\n",
    "    \n",
    "def get_images(directory, f_s):\n",
    "    exts = [\"jpg\", \"jpeg\", \"png\"]\n",
    "    print(\"Opening directory {}\".format(directory))\n",
    "    for root, dirs, files in os.walk(directory):\n",
    "        if root:\n",
    "            X = []\n",
    "            y = []\n",
    "            file_name = []\n",
    "            for f in files:\n",
    "                if f.split(\".\")[1] in exts:\n",
    "                    print(\"Accessging \", f)\n",
    "                    image = cv2.imread(os.path.join(root, f))\n",
    "                    image = cv2.resize(image, (200,200), interpolation = cv2.INTER_AREA)\n",
    "                    # gray image\n",
    "                    gray = cv2.cvtColor(image, cv2.COLOR_BGR2GRAY)\n",
    "                    # red, green, blue components\n",
    "                    red, green, blue = image[:,:,2], image[:,:,1], image[:,:,0]\n",
    "                    m_X, m_y = create_dataset(gray, red, green, blue, f_s)\n",
    "                \n",
    "                    X.append(m_X)\n",
    "                    y.append(m_y)\n",
    "                    file_name.append(f)\n",
    "    return X, y, file_name\n",
    "                \n",
    "def align_data(X, y):\n",
    "    data_X = []\n",
    "    for sublist in X:\n",
    "        for item in sublist:\n",
    "            data_X.append(item)\n",
    "\n",
    "    data_y_red = []\n",
    "    data_y_green = []\n",
    "    data_y_blue = []\n",
    "\n",
    "    for sublist in y:\n",
    "        for item in sublist:\n",
    "            data_y_red.append(item[0])\n",
    "            data_y_green.append(item[1])\n",
    "            data_y_blue.append(item[2])\n",
    "            \n",
    "    return data_X, data_y_red, data_y_green, data_y_blue"
   ]
  },
  {
   "cell_type": "code",
   "execution_count": 44,
   "metadata": {},
   "outputs": [
    {
     "name": "stdout",
     "output_type": "stream",
     "text": [
      "Opening directory ./ImagesRed/\n",
      "Accessging  3.jpg\n",
      "Accessging  7.jpg\n",
      "Accessging  4.jpeg\n",
      "Accessging  2.jpg\n",
      "Accessging  5.jpg\n",
      "Accessging  6.jpg\n",
      "Accessging  1.jpg\n"
     ]
    }
   ],
   "source": [
    "directory = \"./ImagesRed/\"\n",
    "filter_size = 11\n",
    "X, y, files = get_images(directory, filter_size)\n",
    "data_X, data_y_red, data_y_green, data_y_blue = align_data(X, y)"
   ]
  },
  {
   "cell_type": "code",
   "execution_count": 45,
   "metadata": {},
   "outputs": [
    {
     "name": "stdout",
     "output_type": "stream",
     "text": [
      "Iteration 1, loss = 3691.82592481\n",
      "Iteration 2, loss = 2779.58781671\n",
      "Iteration 3, loss = 1698.69039502\n",
      "Iteration 4, loss = 1585.80549862\n",
      "Iteration 5, loss = 1604.82358176\n",
      "Iteration 6, loss = 1489.39252930\n",
      "Iteration 7, loss = 1253.50493171\n",
      "Iteration 8, loss = 1266.51008758\n",
      "Iteration 9, loss = 814.53759107\n",
      "Iteration 10, loss = 626.11730797\n",
      "Iteration 11, loss = 746.43241750\n",
      "Iteration 12, loss = 1718.96596050\n",
      "Iteration 13, loss = 1659.18783714\n",
      "Iteration 14, loss = 1391.44841863\n",
      "Iteration 15, loss = 1681.29247537\n",
      "Iteration 16, loss = 1467.24589812\n",
      "Iteration 17, loss = 1642.08317057\n",
      "Iteration 18, loss = 1672.49018640\n",
      "Iteration 19, loss = 1545.39624248\n",
      "Iteration 20, loss = 1413.05432644\n",
      "Iteration 21, loss = 1728.49637887\n",
      "Training loss did not improve more than tol=0.000100 for 10 consecutive epochs. Stopping.\n"
     ]
    },
    {
     "data": {
      "text/plain": [
       "MLPRegressor(activation='logistic', alpha=0.001, batch_size=100, beta_1=0.9,\n",
       "       beta_2=0.999, early_stopping=False, epsilon=1e-08,\n",
       "       hidden_layer_sizes=(10, 20, 10), learning_rate='constant',\n",
       "       learning_rate_init=0.001, max_iter=2000, momentum=0.9,\n",
       "       n_iter_no_change=10, nesterovs_momentum=True, power_t=0.5,\n",
       "       random_state=None, shuffle=True, solver='sgd', tol=0.0001,\n",
       "       validation_fraction=0.1, verbose=True, warm_start=False)"
      ]
     },
     "execution_count": 45,
     "metadata": {},
     "output_type": "execute_result"
    }
   ],
   "source": [
    "# Model for red\n",
    "X_train_r, X_test_r, y_train_r, y_test_r = train_test_split(data_X, data_y_red, test_size=0.2, random_state=42)\n",
    "scaler = StandardScaler()\n",
    "scaler.fit(X_train_r)\n",
    "\n",
    "X_train_r = scaler.transform(X_train_r)\n",
    "X_test_r = scaler.transform(X_test_r)\n",
    "\n",
    "mlp_r = MLPRegressor(hidden_layer_sizes=(10, 20, 10),  activation='logistic', \n",
    "                   solver='sgd', max_iter=2000, alpha=0.001, batch_size=100, verbose=True)\n",
    "mlp_r.fit(X_train_r,y_train_r)"
   ]
  },
  {
   "cell_type": "code",
   "execution_count": 46,
   "metadata": {},
   "outputs": [],
   "source": [
    "predictions_r = mlp_r.predict(X_test_r)"
   ]
  },
  {
   "cell_type": "code",
   "execution_count": 47,
   "metadata": {},
   "outputs": [
    {
     "name": "stderr",
     "output_type": "stream",
     "text": [
      "/home/vedantc6/anaconda3/lib/python3.7/site-packages/scipy/stats/stats.py:1713: FutureWarning: Using a non-tuple sequence for multidimensional indexing is deprecated; use `arr[tuple(seq)]` instead of `arr[seq]`. In the future this will be interpreted as an array index, `arr[np.array(seq)]`, which will result either in an error or a different result.\n",
      "  return np.add.reduce(sorted[indexer] * weights, axis=axis) / sumval\n"
     ]
    },
    {
     "data": {
      "text/plain": [
       "<matplotlib.axes._subplots.AxesSubplot at 0x7f9721c8df98>"
      ]
     },
     "execution_count": 47,
     "metadata": {},
     "output_type": "execute_result"
    },
    {
     "data": {
      "image/png": "[encoded data removed]",
      "text/plain": [
       "<Figure size 432x288 with 1 Axes>"
      ]
     },
     "metadata": {
      "needs_background": "light"
     },
     "output_type": "display_data"
    }
   ],
   "source": [
    "sns.distplot(predictions_r)"
   ]
  },
  {
   "cell_type": "code",
   "execution_count": 48,
   "metadata": {},
   "outputs": [
    {
     "name": "stderr",
     "output_type": "stream",
     "text": [
      "/home/vedantc6/anaconda3/lib/python3.7/site-packages/scipy/stats/stats.py:1713: FutureWarning: Using a non-tuple sequence for multidimensional indexing is deprecated; use `arr[tuple(seq)]` instead of `arr[seq]`. In the future this will be interpreted as an array index, `arr[np.array(seq)]`, which will result either in an error or a different result.\n",
      "  return np.add.reduce(sorted[indexer] * weights, axis=axis) / sumval\n"
     ]
    },
    {
     "data": {
      "text/plain": [
       "<matplotlib.axes._subplots.AxesSubplot at 0x7f9721c374a8>"
      ]
     },
     "execution_count": 48,
     "metadata": {},
     "output_type": "execute_result"
    },
    {
     "data": {
      "image/png": "[encoded data removed]",
      "text/plain": [
       "<Figure size 432x288 with 1 Axes>"
      ]
     },
     "metadata": {
      "needs_background": "light"
     },
     "output_type": "display_data"
    }
   ],
   "source": [
    "sns.distplot(y_test_r)"
   ]
  },
  {
   "cell_type": "code",
   "execution_count": 49,
   "metadata": {},
   "outputs": [
    {
     "name": "stdout",
     "output_type": "stream",
     "text": [
      "Iteration 1, loss = 963.60033898\n",
      "Iteration 2, loss = 81.15881685\n",
      "Iteration 3, loss = 78.03330937\n",
      "Iteration 4, loss = 181.39297601\n",
      "Iteration 5, loss = 117.16664471\n",
      "Iteration 6, loss = 97.05942594\n",
      "Iteration 7, loss = 90.22979472\n",
      "Iteration 8, loss = 82.59204101\n",
      "Iteration 9, loss = 84.40755839\n",
      "Iteration 10, loss = 93.82915268\n",
      "Iteration 11, loss = 81.07477937\n",
      "Iteration 12, loss = 91.73369957\n",
      "Iteration 13, loss = 144.38927724\n",
      "Iteration 14, loss = 84.84442485\n",
      "Training loss did not improve more than tol=0.000100 for 10 consecutive epochs. Stopping.\n"
     ]
    },
    {
     "data": {
      "text/plain": [
       "MLPRegressor(activation='logistic', alpha=0.001, batch_size=100, beta_1=0.9,\n",
       "       beta_2=0.999, early_stopping=False, epsilon=1e-08,\n",
       "       hidden_layer_sizes=(10, 20, 10), learning_rate='constant',\n",
       "       learning_rate_init=0.001, max_iter=2000, momentum=0.9,\n",
       "       n_iter_no_change=10, nesterovs_momentum=True, power_t=0.5,\n",
       "       random_state=None, shuffle=True, solver='sgd', tol=0.0001,\n",
       "       validation_fraction=0.1, verbose=True, warm_start=False)"
      ]
     },
     "execution_count": 49,
     "metadata": {},
     "output_type": "execute_result"
    }
   ],
   "source": [
    "# Model for green\n",
    "X_train_g, X_test_g, y_train_g, y_test_g = train_test_split(data_X, data_y_green, test_size=0.2, random_state=42)\n",
    "scaler = StandardScaler()\n",
    "scaler.fit(X_train_g)\n",
    "\n",
    "X_train_g = scaler.transform(X_train_g)\n",
    "X_test_g = scaler.transform(X_test_g)\n",
    "\n",
    "mlp_g = MLPRegressor(hidden_layer_sizes=(10,20,10),  activation='logistic', \n",
    "                   solver='sgd', max_iter=2000, alpha=0.001, batch_size=100, verbose=True)\n",
    "mlp_g.fit(X_train_g,y_train_g)"
   ]
  },
  {
   "cell_type": "code",
   "execution_count": 50,
   "metadata": {},
   "outputs": [],
   "source": [
    "predictions_g = mlp_g.predict(X_test_g)"
   ]
  },
  {
   "cell_type": "code",
   "execution_count": 51,
   "metadata": {},
   "outputs": [
    {
     "name": "stderr",
     "output_type": "stream",
     "text": [
      "/home/vedantc6/anaconda3/lib/python3.7/site-packages/scipy/stats/stats.py:1713: FutureWarning: Using a non-tuple sequence for multidimensional indexing is deprecated; use `arr[tuple(seq)]` instead of `arr[seq]`. In the future this will be interpreted as an array index, `arr[np.array(seq)]`, which will result either in an error or a different result.\n",
      "  return np.add.reduce(sorted[indexer] * weights, axis=axis) / sumval\n"
     ]
    },
    {
     "data": {
      "text/plain": [
       "<matplotlib.axes._subplots.AxesSubplot at 0x7f972ded9438>"
      ]
     },
     "execution_count": 51,
     "metadata": {},
     "output_type": "execute_result"
    },
    {
     "data": {
      "image/png": "[encoded data removed]",
      "text/plain": [
       "<Figure size 432x288 with 1 Axes>"
      ]
     },
     "metadata": {
      "needs_background": "light"
     },
     "output_type": "display_data"
    }
   ],
   "source": [
    "sns.distplot(predictions_g)"
   ]
  },
  {
   "cell_type": "code",
   "execution_count": 52,
   "metadata": {},
   "outputs": [
    {
     "name": "stderr",
     "output_type": "stream",
     "text": [
      "/home/vedantc6/anaconda3/lib/python3.7/site-packages/scipy/stats/stats.py:1713: FutureWarning: Using a non-tuple sequence for multidimensional indexing is deprecated; use `arr[tuple(seq)]` instead of `arr[seq]`. In the future this will be interpreted as an array index, `arr[np.array(seq)]`, which will result either in an error or a different result.\n",
      "  return np.add.reduce(sorted[indexer] * weights, axis=axis) / sumval\n"
     ]
    },
    {
     "data": {
      "text/plain": [
       "<matplotlib.axes._subplots.AxesSubplot at 0x7f97104ff240>"
      ]
     },
     "execution_count": 52,
     "metadata": {},
     "output_type": "execute_result"
    },
    {
     "data": {
      "image/png": "[encoded data removed]",
      "text/plain": [
       "<Figure size 432x288 with 1 Axes>"
      ]
     },
     "metadata": {
      "needs_background": "light"
     },
     "output_type": "display_data"
    }
   ],
   "source": [
    "sns.distplot(y_test_g)"
   ]
  },
  {
   "cell_type": "code",
   "execution_count": 53,
   "metadata": {},
   "outputs": [
    {
     "name": "stdout",
     "output_type": "stream",
     "text": [
      "Iteration 1, loss = 2533.63311917\n",
      "Iteration 2, loss = 235.84820823\n",
      "Iteration 3, loss = 181.59704498\n",
      "Iteration 4, loss = 127.33114899\n",
      "Iteration 5, loss = 297.78667445\n",
      "Iteration 6, loss = 195.81566514\n",
      "Iteration 7, loss = 97.13054638\n",
      "Iteration 8, loss = 85.42390556\n",
      "Iteration 9, loss = 79.05257735\n",
      "Iteration 10, loss = 74.98150973\n",
      "Iteration 11, loss = 72.69778332\n",
      "Iteration 12, loss = 105.02353828\n",
      "Iteration 13, loss = 139.05152899\n",
      "Iteration 14, loss = 300.89122943\n",
      "Iteration 15, loss = 189.17397791\n",
      "Iteration 16, loss = 123.60182275\n",
      "Iteration 17, loss = 116.76864340\n",
      "Iteration 18, loss = 114.76461996\n",
      "Iteration 19, loss = 107.38478400\n",
      "Iteration 20, loss = 96.97063844\n",
      "Iteration 21, loss = 88.55950364\n",
      "Iteration 22, loss = 86.44617346\n",
      "Training loss did not improve more than tol=0.000100 for 10 consecutive epochs. Stopping.\n"
     ]
    },
    {
     "data": {
      "text/plain": [
       "MLPRegressor(activation='logistic', alpha=0.003, batch_size=100, beta_1=0.9,\n",
       "       beta_2=0.999, early_stopping=False, epsilon=1e-08,\n",
       "       hidden_layer_sizes=(10, 20, 10), learning_rate='constant',\n",
       "       learning_rate_init=0.001, max_iter=2000, momentum=0.9,\n",
       "       n_iter_no_change=10, nesterovs_momentum=True, power_t=0.5,\n",
       "       random_state=None, shuffle=True, solver='sgd', tol=0.0001,\n",
       "       validation_fraction=0.1, verbose=True, warm_start=False)"
      ]
     },
     "execution_count": 53,
     "metadata": {},
     "output_type": "execute_result"
    }
   ],
   "source": [
    "# Model for blue\n",
    "X_train_b, X_test_b, y_train_b, y_test_b = train_test_split(data_X, data_y_blue, test_size=0.2, random_state=42)\n",
    "scaler = StandardScaler()\n",
    "scaler.fit(X_train_b)\n",
    "\n",
    "X_train_b = scaler.transform(X_train_b)\n",
    "X_test_b = scaler.transform(X_test_b)\n",
    "\n",
    "mlp_b = MLPRegressor(hidden_layer_sizes=(10,20,10),  activation='logistic', \n",
    "                   solver='sgd', max_iter=2000, alpha=0.003, batch_size=100, verbose=True)\n",
    "mlp_b.fit(X_train_b,y_train_b)"
   ]
  },
  {
   "cell_type": "code",
   "execution_count": 54,
   "metadata": {},
   "outputs": [],
   "source": [
    "predictions_b = mlp_b.predict(X_test_b)"
   ]
  },
  {
   "cell_type": "code",
   "execution_count": 55,
   "metadata": {},
   "outputs": [
    {
     "name": "stderr",
     "output_type": "stream",
     "text": [
      "/home/vedantc6/anaconda3/lib/python3.7/site-packages/scipy/stats/stats.py:1713: FutureWarning: Using a non-tuple sequence for multidimensional indexing is deprecated; use `arr[tuple(seq)]` instead of `arr[seq]`. In the future this will be interpreted as an array index, `arr[np.array(seq)]`, which will result either in an error or a different result.\n",
      "  return np.add.reduce(sorted[indexer] * weights, axis=axis) / sumval\n"
     ]
    },
    {
     "data": {
      "text/plain": [
       "<matplotlib.axes._subplots.AxesSubplot at 0x7f9728684cc0>"
      ]
     },
     "execution_count": 55,
     "metadata": {},
     "output_type": "execute_result"
    },
    {
     "data": {
      "image/png": "[encoded data removed]",
      "text/plain": [
       "<Figure size 432x288 with 1 Axes>"
      ]
     },
     "metadata": {
      "needs_background": "light"
     },
     "output_type": "display_data"
    }
   ],
   "source": [
    "sns.distplot(predictions_b)"
   ]
  },
  {
   "cell_type": "code",
   "execution_count": 56,
   "metadata": {},
   "outputs": [
    {
     "name": "stderr",
     "output_type": "stream",
     "text": [
      "/home/vedantc6/anaconda3/lib/python3.7/site-packages/scipy/stats/stats.py:1713: FutureWarning: Using a non-tuple sequence for multidimensional indexing is deprecated; use `arr[tuple(seq)]` instead of `arr[seq]`. In the future this will be interpreted as an array index, `arr[np.array(seq)]`, which will result either in an error or a different result.\n",
      "  return np.add.reduce(sorted[indexer] * weights, axis=axis) / sumval\n"
     ]
    },
    {
     "data": {
      "text/plain": [
       "<matplotlib.axes._subplots.AxesSubplot at 0x7f971099bbe0>"
      ]
     },
     "execution_count": 56,
     "metadata": {},
     "output_type": "execute_result"
    },
    {
     "data": {
      "image/png": "[encoded data removed]",
      "text/plain": [
       "<Figure size 432x288 with 1 Axes>"
      ]
     },
     "metadata": {
      "needs_background": "light"
     },
     "output_type": "display_data"
    }
   ],
   "source": [
    "sns.distplot(y_test_b)"
   ]
  },
  {
   "cell_type": "code",
   "execution_count": 57,
   "metadata": {},
   "outputs": [],
   "source": [
    "def bound_predictions(predictions_b, predictions_g, predictions_r):\n",
    "    for i in range(len(predictions_g)):\n",
    "        if predictions_b[i] < 0:\n",
    "            predictions_b[i] = 0\n",
    "        if predictions_b[i] > 255:\n",
    "            predictions_b[i] = 255\n",
    "        if predictions_g[i] < 0:\n",
    "            predictions_g[i] = 0\n",
    "        if predictions_g[i] > 255:\n",
    "            predictions_g[i] = 255\n",
    "        if predictions_r[i] < 0:\n",
    "            predictions_r[i] = 0\n",
    "        if predictions_r[i] > 255:\n",
    "            predictions_r[i] = 255\n",
    "    \n",
    "        predictions_b[i] = int(predictions_b[i])\n",
    "        predictions_g[i] = int(predictions_g[i])\n",
    "        predictions_r[i] = int(predictions_r[i])\n",
    "        \n",
    "    return predictions_r, predictions_g, predictions_b"
   ]
  },
  {
   "cell_type": "code",
   "execution_count": 58,
   "metadata": {},
   "outputs": [
    {
     "name": "stdout",
     "output_type": "stream",
     "text": [
      "Opening directory ./ImagesRed/test\n",
      "Accessging  simple.jpg\n",
      "['simple.jpg']\n"
     ]
    }
   ],
   "source": [
    "directory = \"./ImagesRed/test\"\n",
    "filter_size = 11\n",
    "X, y, files = get_images(directory, filter_size)\n",
    "print(files)\n",
    "data_X_test, data_y_red_test, data_y_green_test, data_y_blue_test = align_data(X, y)\n",
    "data_X_test = scaler.transform(data_X_test)"
   ]
  },
  {
   "cell_type": "code",
   "execution_count": 65,
   "metadata": {},
   "outputs": [],
   "source": [
    "test_predictions_b = mlp_b.predict(data_X_test)\n",
    "test_predictions_g = mlp_g.predict(data_X_test)\n",
    "test_predictions_r = mlp_r.predict(data_X_test)"
   ]
  },
  {
   "cell_type": "code",
   "execution_count": 66,
   "metadata": {},
   "outputs": [
    {
     "name": "stderr",
     "output_type": "stream",
     "text": [
      "/home/vedantc6/anaconda3/lib/python3.7/site-packages/scipy/stats/stats.py:1713: FutureWarning: Using a non-tuple sequence for multidimensional indexing is deprecated; use `arr[tuple(seq)]` instead of `arr[seq]`. In the future this will be interpreted as an array index, `arr[np.array(seq)]`, which will result either in an error or a different result.\n",
      "  return np.add.reduce(sorted[indexer] * weights, axis=axis) / sumval\n"
     ]
    },
    {
     "data": {
      "text/plain": [
       "<matplotlib.axes._subplots.AxesSubplot at 0x7f972edaed30>"
      ]
     },
     "execution_count": 66,
     "metadata": {},
     "output_type": "execute_result"
    },
    {
     "data": {
      "image/png": "[encoded data removed]",
      "text/plain": [
       "<Figure size 432x288 with 1 Axes>"
      ]
     },
     "metadata": {
      "needs_background": "light"
     },
     "output_type": "display_data"
    }
   ],
   "source": [
    "sns.distplot(test_predictions_b)"
   ]
  },
  {
   "cell_type": "code",
   "execution_count": 67,
   "metadata": {},
   "outputs": [
    {
     "name": "stderr",
     "output_type": "stream",
     "text": [
      "/home/vedantc6/anaconda3/lib/python3.7/site-packages/scipy/stats/stats.py:1713: FutureWarning: Using a non-tuple sequence for multidimensional indexing is deprecated; use `arr[tuple(seq)]` instead of `arr[seq]`. In the future this will be interpreted as an array index, `arr[np.array(seq)]`, which will result either in an error or a different result.\n",
      "  return np.add.reduce(sorted[indexer] * weights, axis=axis) / sumval\n"
     ]
    },
    {
     "data": {
      "text/plain": [
       "<matplotlib.axes._subplots.AxesSubplot at 0x7f9729a42b70>"
      ]
     },
     "execution_count": 67,
     "metadata": {},
     "output_type": "execute_result"
    },
    {
     "data": {
      "image/png": "[encoded data removed]",
      "text/plain": [
       "<Figure size 432x288 with 1 Axes>"
      ]
     },
     "metadata": {
      "needs_background": "light"
     },
     "output_type": "display_data"
    }
   ],
   "source": [
    "sns.distplot(data_y_blue_test)"
   ]
  },
  {
   "cell_type": "code",
   "execution_count": 68,
   "metadata": {},
   "outputs": [],
   "source": [
    "test_predictions_b, test_predictions_g, test_predictions_r = bound_predictions(test_predictions_b, test_predictions_g, test_predictions_r)"
   ]
  },
  {
   "cell_type": "code",
   "execution_count": 69,
   "metadata": {},
   "outputs": [
    {
     "data": {
      "text/plain": [
       "array([121., 121., 121., ..., 121., 121., 121.])"
      ]
     },
     "execution_count": 69,
     "metadata": {},
     "output_type": "execute_result"
    }
   ],
   "source": [
    "test_predictions_b"
   ]
  },
  {
   "cell_type": "code",
   "execution_count": 70,
   "metadata": {},
   "outputs": [],
   "source": [
    "from PIL import Image"
   ]
  },
  {
   "cell_type": "code",
   "execution_count": 72,
   "metadata": {},
   "outputs": [],
   "source": [
    "class Colorizer():\n",
    "    def __init__(self, red_list, blue_list, green_list, image_location='./ImagesRed/test/simple.jpg'):\n",
    "        self.im_size = (0, 0)\n",
    "        self.image_loc = image_location\n",
    "        self.image = None\n",
    "        self.pix_object = None\n",
    "        self.pixel_values = None\n",
    "        self.red = red_list\n",
    "        self.blue = blue_list\n",
    "        self.green = green_list\n",
    "        \n",
    "    def extract_pixels(self):\n",
    "        # Open the image\n",
    "        self.image = Image.open(self.image_loc)\n",
    "        # Load the image - Pixel object\n",
    "        self.pix_object = self.image.load()\n",
    "        # Size of the image - Number of rows * Number of columns\n",
    "        self.im_size = self.image.size\n",
    "        # Extract all the pixel values - Start from left corner (Moving from Left to Right)\n",
    "        self.pixel_values = list(self.image.getdata())\n",
    "        \n",
    "    def create_image_from_array(self):\n",
    "        \n",
    "        w, h = 200, 200\n",
    "        count = 0\n",
    "        data = np.zeros((h, w, 3), dtype=np.uint8)\n",
    "        \n",
    "        for i in range(w):\n",
    "            \n",
    "            for j in range(h):\n",
    "                \n",
    "                data[i,j] = (int(self.red[count]), int(self.green[count]), int(self.blue[count]))\n",
    "                count +=1\n",
    "        \n",
    "        img = Image.fromarray(data, 'RGB')\n",
    "        img.save('sgd_sigmoid_100_simple_red.png')\n",
    "        img.show()"
   ]
  },
  {
   "cell_type": "code",
   "execution_count": 73,
   "metadata": {},
   "outputs": [
    {
     "name": "stdout",
     "output_type": "stream",
     "text": [
      "Done\n"
     ]
    }
   ],
   "source": [
    "new_color = Colorizer(red_list=test_predictions_r, blue_list=test_predictions_b, green_list=test_predictions_g)\n",
    "new_color.extract_pixels()\n",
    "new_color.create_image_from_array()\n",
    "print(\"Done\")"
   ]
  },
  {
   "cell_type": "code",
   "execution_count": null,
   "metadata": {},
   "outputs": [],
   "source": []
  }
 ],
 "metadata": {
  "kernelspec": {
   "display_name": "Python 3",
   "language": "python",
   "name": "python3"
  },
  "language_info": {
   "codemirror_mode": {
    "name": "ipython",
    "version": 3
   },
   "file_extension": ".py",
   "mimetype": "text/x-python",
   "name": "python",
   "nbconvert_exporter": "python",
   "pygments_lexer": "ipython3",
   "version": "3.7.1"
  }
 },
 "nbformat": 4,
 "nbformat_minor": 2
}
