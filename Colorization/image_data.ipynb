{
 "cells": [
  {
   "cell_type": "code",
   "execution_count": 110,
   "metadata": {},
   "outputs": [],
   "source": [
    "import numpy as np\n",
    "import matplotlib.pyplot as plt\n",
    "import cv2\n",
    "import os\n",
    "import pandas as pd"
   ]
  },
  {
   "cell_type": "code",
   "execution_count": 141,
   "metadata": {},
   "outputs": [],
   "source": [
    "def pad_images(image, filter_size):\n",
    "    p = int((filter_size - 1)/2)\n",
    "    image = np.pad(array=image, pad_width=p, mode='constant', constant_values=0)\n",
    "    return image\n",
    "\n",
    "def create_dataset(gray, red, green, blue, f_s):\n",
    "    X = []\n",
    "    y = []\n",
    "    p_gray = pad_images(gray, f_s)\n",
    "    p_red = pad_images(red, f_s)\n",
    "    p_green = pad_images(green, f_s)\n",
    "    p_blue = pad_images(blue, f_s)\n",
    "    \n",
    "    for i in range(0, len(p_gray)-(f_s-1)):\n",
    "        for j in range(0, len(p_gray)-(f_s-1)):\n",
    "            X.append(list(p_gray[i:i+f_s,j:j+f_s].flatten()))\n",
    "            y.append([p_red[i:i+f_s,j:j+f_s].flatten()[int(f_s*f_s/2)], \n",
    "                      p_green[i:i+f_s,j:j+f_s].flatten()[int(f_s*f_s/2)], \n",
    "                      p_blue[i:i+f_s,j:j+f_s].flatten()[int(f_s*f_s/2)]])\n",
    "    \n",
    "    return X, y\n",
    "    \n",
    "def get_images(directory, f_s):\n",
    "    exts = [\"jpg\", \"jpeg\", \"png\"]\n",
    "    print(\"Opening directory {}\".format(directory))\n",
    "    for root, dirs, files in os.walk(directory):\n",
    "        if root:\n",
    "            X = []\n",
    "            y = []\n",
    "            file_name = []\n",
    "            for f in files:\n",
    "                if f.split(\".\")[1] in exts:\n",
    "                    image = cv2.imread(os.path.join(root, f))\n",
    "                    image = cv2.resize(image, (20,20), interpolation = cv2.INTER_AREA)\n",
    "                    # gray image\n",
    "                    gray = cv2.cvtColor(image, cv2.COLOR_BGR2GRAY)\n",
    "                    # red, green, blue components\n",
    "                    red, green, blue = image[:,:,2], image[:,:,1], image[:,:,0]\n",
    "                    m_X, m_y = create_dataset(gray, red, green, blue, 3)\n",
    "                \n",
    "                    X.append(m_X)\n",
    "                    y.append(m_y)\n",
    "                    file_name.append(f)\n",
    "    return X, y, file_name\n",
    "                "
   ]
  },
  {
   "cell_type": "code",
   "execution_count": 144,
   "metadata": {},
   "outputs": [
    {
     "name": "stdout",
     "output_type": "stream",
     "text": [
      "Opening directory ./Images/\n",
      "X:  400\n",
      "y:  400\n",
      "Filename:  ['scene8.jpeg', 'scene10.jpeg', 'scene9.jpeg', 'scene2.jpeg', 'scene1.jpeg', 'scene5.jpeg', 'scene3.jpeg', 'scene7.jpeg', 'scene6.jpeg']\n"
     ]
    }
   ],
   "source": [
    "directory = \"./Images/\"\n",
    "X, y, files = get_images(directory)\n",
    "print(\"X: \", len(X[0]))\n",
    "print(\"y: \", len(y[0]))\n",
    "print(\"Filename: \", files)"
   ]
  },
  {
   "cell_type": "code",
   "execution_count": 103,
   "metadata": {},
   "outputs": [],
   "source": [
    "a = np.random.randint(5, size=(3,3))\n",
    "b = np.random.randint(5, size=(3,3))\n",
    "c = np.random.randint(5, size=(3,3))\n",
    "d = np.random.randint(5, size=(3,3))"
   ]
  },
  {
   "cell_type": "code",
   "execution_count": 104,
   "metadata": {},
   "outputs": [
    {
     "name": "stdout",
     "output_type": "stream",
     "text": [
      "a:\n",
      " [[1 1 1]\n",
      " [2 4 4]\n",
      " [3 3 3]] \n",
      "b:\n",
      " [[3 0 3]\n",
      " [2 0 4]\n",
      " [0 2 4]] \n",
      "c:\n",
      " [[4 1 1]\n",
      " [0 4 0]\n",
      " [1 2 3]] \n",
      "d:\n",
      " [[1 2 3]\n",
      " [0 0 4]\n",
      " [1 4 4]] \n",
      "\n"
     ]
    }
   ],
   "source": [
    "print(\"a:\\n {} \\nb:\\n {} \\nc:\\n {} \\nd:\\n {} \\n\".format(a,b,c,d))"
   ]
  },
  {
   "cell_type": "code",
   "execution_count": 105,
   "metadata": {},
   "outputs": [
    {
     "name": "stdout",
     "output_type": "stream",
     "text": [
      "a:\n",
      " [[0 0 0 0 0]\n",
      " [0 1 1 1 0]\n",
      " [0 2 4 4 0]\n",
      " [0 3 3 3 0]\n",
      " [0 0 0 0 0]] \n",
      "b:\n",
      " [[0 0 0 0 0]\n",
      " [0 3 0 3 0]\n",
      " [0 2 0 4 0]\n",
      " [0 0 2 4 0]\n",
      " [0 0 0 0 0]] \n",
      "c:\n",
      " [[0 0 0 0 0]\n",
      " [0 4 1 1 0]\n",
      " [0 0 4 0 0]\n",
      " [0 1 2 3 0]\n",
      " [0 0 0 0 0]] \n",
      "d:\n",
      " [[0 0 0 0 0]\n",
      " [0 1 2 3 0]\n",
      " [0 0 0 4 0]\n",
      " [0 1 4 4 0]\n",
      " [0 0 0 0 0]] \n",
      "\n"
     ]
    }
   ],
   "source": [
    "a = np.pad(array=a, pad_width=1, mode='constant', constant_values=0)\n",
    "b = np.pad(array=b, pad_width=1, mode='constant', constant_values=0)\n",
    "c = np.pad(array=c, pad_width=1, mode='constant', constant_values=0)\n",
    "d = np.pad(array=d, pad_width=1, mode='constant', constant_values=0)\n",
    "print(\"a:\\n {} \\nb:\\n {} \\nc:\\n {} \\nd:\\n {} \\n\".format(a,b,c,d))"
   ]
  },
  {
   "cell_type": "code",
   "execution_count": 109,
   "metadata": {},
   "outputs": [
    {
     "name": "stdout",
     "output_type": "stream",
     "text": [
      "X:  [[0, 0, 0, 0, 1, 1, 0, 2, 4], [0, 0, 0, 1, 1, 1, 2, 4, 4], [0, 0, 0, 1, 1, 0, 4, 4, 0], [0, 1, 1, 0, 2, 4, 0, 3, 3], [1, 1, 1, 2, 4, 4, 3, 3, 3], [1, 1, 0, 4, 4, 0, 3, 3, 0], [0, 2, 4, 0, 3, 3, 0, 0, 0], [2, 4, 4, 3, 3, 3, 0, 0, 0], [4, 4, 0, 3, 3, 0, 0, 0, 0]]\n",
      "y:  [[3, 4, 1], [0, 1, 2], [3, 1, 3], [2, 0, 0], [0, 4, 0], [4, 0, 4], [0, 1, 1], [2, 2, 4], [4, 3, 4]]\n"
     ]
    }
   ],
   "source": [
    "X=[]\n",
    "y = []\n",
    "for i in range(0, len(a)-2):\n",
    "    for j in range(0, len(a)-2):\n",
    "        X.append(list(a[i:i+3,j:j+3].flatten()))\n",
    "        y.append([b[i:i+3,j:j+3].flatten()[4],\n",
    "                 c[i:i+3,j:j+3].flatten()[4],\n",
    "                 d[i:i+3,j:j+3].flatten()[4]])\n",
    "        \n",
    "print(\"X: \", X)\n",
    "print(\"y: \", y)"
   ]
  }
 ],
 "metadata": {
  "kernelspec": {
   "display_name": "Python 3",
   "language": "python",
   "name": "python3"
  },
  "language_info": {
   "codemirror_mode": {
    "name": "ipython",
    "version": 3
   },
   "file_extension": ".py",
   "mimetype": "text/x-python",
   "name": "python",
   "nbconvert_exporter": "python",
   "pygments_lexer": "ipython3",
   "version": "3.7.1"
  }
 },
 "nbformat": 4,
 "nbformat_minor": 2
}
