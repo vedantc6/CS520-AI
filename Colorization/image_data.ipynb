{
 "cells": [
  {
   "cell_type": "code",
   "execution_count": 1,
   "metadata": {},
   "outputs": [],
   "source": [
    "import numpy as np\n",
    "import matplotlib.pyplot as plt\n",
    "import cv2\n",
    "import os\n",
    "import pandas as pd\n",
    "from sklearn.neural_network import MLPRegressor\n",
    "from sklearn.model_selection import train_test_split\n",
    "from sklearn.preprocessing import StandardScaler\n",
    "import seaborn as sns"
   ]
  },
  {
   "cell_type": "code",
   "execution_count": 2,
   "metadata": {},
   "outputs": [],
   "source": [
    "def pad_images(image, filter_size):\n",
    "    p = int((filter_size - 1)/2)\n",
    "    image = np.pad(array=image, pad_width=p, mode='constant', constant_values=0)\n",
    "    return image\n",
    "\n",
    "def create_dataset(gray, red, green, blue, f_s):\n",
    "    X = []\n",
    "    y = []\n",
    "    p_gray = pad_images(gray, f_s)\n",
    "    p_red = pad_images(red, f_s)\n",
    "    p_green = pad_images(green, f_s)\n",
    "    p_blue = pad_images(blue, f_s)\n",
    "    \n",
    "    for i in range(0, len(p_gray)-(f_s-1)):\n",
    "        for j in range(0, len(p_gray)-(f_s-1)):\n",
    "            X.append(list(p_gray[i:i+f_s,j:j+f_s].flatten()))\n",
    "            y.append([p_red[i:i+f_s,j:j+f_s].flatten()[int(f_s*f_s/2)], \n",
    "                      p_green[i:i+f_s,j:j+f_s].flatten()[int(f_s*f_s/2)], \n",
    "                      p_blue[i:i+f_s,j:j+f_s].flatten()[int(f_s*f_s/2)]])\n",
    "    \n",
    "    return X, y\n",
    "    \n",
    "def get_images(directory, f_s):\n",
    "    exts = [\"jpg\", \"jpeg\", \"png\"]\n",
    "    print(\"Opening directory {}\".format(directory))\n",
    "    for root, dirs, files in os.walk(directory):\n",
    "        if root:\n",
    "            X = []\n",
    "            y = []\n",
    "            file_name = []\n",
    "            for f in files:\n",
    "                if f.split(\".\")[1] in exts:\n",
    "                    print(\"Accessging \", f)\n",
    "                    image = cv2.imread(os.path.join(root, f))\n",
    "                    image = cv2.resize(image, (500,500), interpolation = cv2.INTER_AREA)\n",
    "                    # gray image\n",
    "                    gray = cv2.cvtColor(image, cv2.COLOR_BGR2GRAY)\n",
    "                    # red, green, blue components\n",
    "                    red, green, blue = image[:,:,2], image[:,:,1], image[:,:,0]\n",
    "                    m_X, m_y = create_dataset(gray, red, green, blue, f_s)\n",
    "                \n",
    "                    X.append(m_X)\n",
    "                    y.append(m_y)\n",
    "                    file_name.append(f)\n",
    "    return X, y, file_name\n",
    "                \n",
    "def align_data(X, y):\n",
    "    data_X = []\n",
    "    for sublist in X:\n",
    "        for item in sublist:\n",
    "            data_X.append(item)\n",
    "\n",
    "    data_y_red = []\n",
    "    data_y_green = []\n",
    "    data_y_blue = []\n",
    "\n",
    "    for sublist in y:\n",
    "        for item in sublist:\n",
    "            data_y_red.append(item[0])\n",
    "            data_y_green.append(item[1])\n",
    "            data_y_blue.append(item[2])\n",
    "            \n",
    "    return data_X, data_y_red, data_y_green, data_y_blue"
   ]
  },
  {
   "cell_type": "code",
   "execution_count": 3,
   "metadata": {},
   "outputs": [
    {
     "name": "stdout",
     "output_type": "stream",
     "text": [
      "Opening directory ./Images/\n",
      "Accessging  scene8.jpeg\n",
      "Accessging  scene10.jpeg\n",
      "Accessging  scene9.jpeg\n",
      "Accessging  scene2.jpeg\n",
      "Accessging  scene1.jpeg\n",
      "Accessging  scene5.jpeg\n",
      "Accessging  scene3.jpeg\n",
      "Accessging  scene7.jpeg\n",
      "Accessging  scene6.jpeg\n",
      "Accessging  scene5.jpeg\n"
     ]
    }
   ],
   "source": [
    "directory = \"./Images/\"\n",
    "filter_size = 11\n",
    "X, y, files = get_images(directory, filter_size)\n",
    "data_X, data_y_red, data_y_green, data_y_blue = align_data(X, y)"
   ]
  },
  {
   "cell_type": "code",
   "execution_count": 4,
   "metadata": {},
   "outputs": [
    {
     "name": "stdout",
     "output_type": "stream",
     "text": [
      "Iteration 1, loss = 1633.65737097\n",
      "Iteration 2, loss = 316.26933566\n",
      "Iteration 3, loss = 284.64391618\n",
      "Iteration 4, loss = 255.23441610\n",
      "Iteration 5, loss = 231.90861800\n",
      "Iteration 6, loss = 215.53990377\n",
      "Iteration 7, loss = 203.75324442\n",
      "Iteration 8, loss = 195.94215366\n",
      "Iteration 9, loss = 189.28203948\n",
      "Iteration 10, loss = 184.92553233\n",
      "Iteration 11, loss = 180.73015121\n",
      "Iteration 12, loss = 177.88617454\n",
      "Iteration 13, loss = 175.22554950\n",
      "Iteration 14, loss = 172.78714794\n",
      "Iteration 15, loss = 170.80205501\n",
      "Iteration 16, loss = 168.88493946\n",
      "Iteration 17, loss = 167.27033918\n",
      "Iteration 18, loss = 165.92358849\n",
      "Iteration 19, loss = 163.99119287\n",
      "Iteration 20, loss = 162.69305583\n",
      "Iteration 21, loss = 161.35840317\n",
      "Iteration 22, loss = 160.06161539\n",
      "Iteration 23, loss = 159.19865079\n",
      "Iteration 24, loss = 157.73917157\n",
      "Iteration 25, loss = 156.72644856\n",
      "Iteration 26, loss = 155.58801589\n",
      "Iteration 27, loss = 154.85354380\n",
      "Iteration 28, loss = 153.70005377\n",
      "Iteration 29, loss = 153.43487783\n",
      "Iteration 30, loss = 152.90779548\n",
      "Iteration 31, loss = 151.68934575\n",
      "Iteration 32, loss = 150.62693999\n",
      "Iteration 33, loss = 150.55019072\n",
      "Iteration 34, loss = 149.71270039\n",
      "Iteration 35, loss = 148.93792498\n",
      "Iteration 36, loss = 148.87218201\n",
      "Iteration 37, loss = 148.03084970\n",
      "Iteration 38, loss = 147.85553975\n",
      "Iteration 39, loss = 147.45536711\n",
      "Iteration 40, loss = 146.50368391\n",
      "Iteration 41, loss = 146.13120588\n",
      "Iteration 42, loss = 145.99740125\n",
      "Iteration 43, loss = 145.41040156\n",
      "Iteration 44, loss = 144.78170506\n",
      "Iteration 45, loss = 144.65728931\n",
      "Iteration 46, loss = 144.28082354\n",
      "Iteration 47, loss = 143.83965451\n",
      "Iteration 48, loss = 143.46455104\n",
      "Iteration 49, loss = 143.05855115\n",
      "Iteration 50, loss = 143.33803357\n",
      "Iteration 51, loss = 142.24828097\n",
      "Iteration 52, loss = 142.46674113\n",
      "Iteration 53, loss = 141.94419218\n",
      "Iteration 54, loss = 141.77659771\n",
      "Iteration 55, loss = 141.42527313\n",
      "Iteration 56, loss = 141.59618968\n",
      "Iteration 57, loss = 140.75163914\n",
      "Iteration 58, loss = 140.93658182\n",
      "Iteration 59, loss = 141.06148039\n",
      "Iteration 60, loss = 140.23113694\n",
      "Iteration 61, loss = 140.18300508\n",
      "Iteration 62, loss = 140.15638218\n",
      "Iteration 63, loss = 139.75169704\n",
      "Iteration 64, loss = 139.65705592\n",
      "Iteration 65, loss = 139.45622270\n",
      "Iteration 66, loss = 139.23862590\n",
      "Iteration 67, loss = 139.09172491\n",
      "Iteration 68, loss = 139.14833810\n",
      "Iteration 69, loss = 139.09155475\n",
      "Iteration 70, loss = 138.67788726\n",
      "Iteration 71, loss = 138.29590653\n",
      "Iteration 72, loss = 137.87761224\n",
      "Iteration 73, loss = 137.83263932\n",
      "Iteration 74, loss = 138.25963264\n",
      "Iteration 75, loss = 137.11821568\n",
      "Iteration 76, loss = 137.60061411\n",
      "Iteration 77, loss = 137.37314890\n",
      "Iteration 78, loss = 137.08851255\n",
      "Iteration 79, loss = 137.07607964\n",
      "Iteration 80, loss = 137.28859807\n",
      "Iteration 81, loss = 136.88559405\n",
      "Iteration 82, loss = 136.46197584\n",
      "Iteration 83, loss = 136.30170847\n",
      "Iteration 84, loss = 136.08301919\n",
      "Iteration 85, loss = 135.74106735\n",
      "Iteration 86, loss = 135.75231239\n",
      "Iteration 87, loss = 135.91572277\n",
      "Iteration 88, loss = 135.01874271\n",
      "Iteration 89, loss = 135.26514226\n",
      "Iteration 90, loss = 135.27516169\n",
      "Iteration 91, loss = 135.10558028\n",
      "Iteration 92, loss = 134.84408737\n",
      "Iteration 93, loss = 135.14819052\n",
      "Iteration 94, loss = 134.75788424\n",
      "Iteration 95, loss = 134.66224661\n",
      "Iteration 96, loss = 134.16496333\n",
      "Iteration 97, loss = 134.56621633\n",
      "Iteration 98, loss = 133.74730178\n",
      "Iteration 99, loss = 134.25356915\n",
      "Iteration 100, loss = 133.85793766\n",
      "Iteration 101, loss = 133.80046160\n",
      "Iteration 102, loss = 133.71762129\n",
      "Iteration 103, loss = 133.80701564\n",
      "Iteration 104, loss = 133.32594049\n",
      "Iteration 105, loss = 133.39052563\n",
      "Iteration 106, loss = 133.60044238\n",
      "Iteration 107, loss = 133.65556782\n",
      "Iteration 108, loss = 133.14359309\n",
      "Iteration 109, loss = 132.86084272\n",
      "Iteration 110, loss = 133.28430632\n",
      "Iteration 111, loss = 133.04750620\n",
      "Iteration 112, loss = 132.74293263\n",
      "Iteration 113, loss = 132.79460399\n",
      "Iteration 114, loss = 132.47983119\n",
      "Iteration 115, loss = 132.52639726\n",
      "Iteration 116, loss = 132.45032192\n",
      "Iteration 117, loss = 132.41160896\n",
      "Iteration 118, loss = 132.16062885\n",
      "Iteration 119, loss = 132.27084273\n",
      "Iteration 120, loss = 132.25590960\n",
      "Iteration 121, loss = 132.19416284\n",
      "Iteration 122, loss = 131.87903166\n",
      "Iteration 123, loss = 131.81535821\n",
      "Iteration 124, loss = 131.82033456\n",
      "Iteration 125, loss = 131.59218750\n",
      "Iteration 126, loss = 132.05097088\n",
      "Iteration 127, loss = 131.34273111\n",
      "Iteration 128, loss = 131.72426359\n",
      "Iteration 129, loss = 131.29722832\n",
      "Iteration 130, loss = 131.40642804\n",
      "Iteration 131, loss = 131.40489513\n",
      "Iteration 132, loss = 131.54459732\n",
      "Iteration 133, loss = 131.11055734\n",
      "Iteration 134, loss = 131.21250236\n",
      "Iteration 135, loss = 131.06108905\n",
      "Iteration 136, loss = 131.21214241\n",
      "Iteration 137, loss = 131.11660451\n",
      "Iteration 138, loss = 130.85526706\n",
      "Iteration 139, loss = 130.94989447\n",
      "Iteration 140, loss = 131.24751003\n",
      "Iteration 141, loss = 130.85027395\n",
      "Iteration 142, loss = 130.37686020\n",
      "Iteration 143, loss = 130.52437511\n",
      "Iteration 144, loss = 130.47969259\n",
      "Iteration 145, loss = 130.57003295\n",
      "Iteration 146, loss = 130.92016887\n",
      "Iteration 147, loss = 130.28885695\n",
      "Iteration 148, loss = 130.49235898\n",
      "Iteration 149, loss = 130.37877829\n",
      "Iteration 150, loss = 130.75215352\n",
      "Iteration 151, loss = 130.35642953\n",
      "Iteration 152, loss = 129.85166714\n",
      "Iteration 153, loss = 130.02751728\n",
      "Iteration 154, loss = 130.17418750\n",
      "Iteration 155, loss = 130.04906786\n",
      "Iteration 156, loss = 129.56964351\n",
      "Iteration 157, loss = 130.04651428\n",
      "Iteration 158, loss = 129.52156959\n",
      "Iteration 159, loss = 129.69065074\n",
      "Iteration 160, loss = 129.67661671\n",
      "Iteration 161, loss = 129.38038616\n",
      "Iteration 162, loss = 130.06587916\n",
      "Iteration 163, loss = 129.50558772\n",
      "Iteration 164, loss = 129.21117941\n",
      "Iteration 165, loss = 129.07928157\n",
      "Iteration 166, loss = 129.43731980\n",
      "Iteration 167, loss = 129.36139319\n",
      "Iteration 168, loss = 129.38905532\n",
      "Iteration 169, loss = 129.03229386\n",
      "Iteration 170, loss = 129.13178259\n",
      "Iteration 171, loss = 128.82397374\n",
      "Iteration 172, loss = 129.03614015\n",
      "Iteration 173, loss = 129.19766845\n",
      "Iteration 174, loss = 129.15370059\n",
      "Iteration 175, loss = 128.62471232\n",
      "Iteration 176, loss = 128.76767221\n",
      "Iteration 177, loss = 128.85542120\n",
      "Iteration 178, loss = 128.92280819\n",
      "Iteration 179, loss = 128.23228582\n",
      "Iteration 180, loss = 128.80101072\n",
      "Iteration 181, loss = 128.23535859\n",
      "Iteration 182, loss = 128.62617831\n",
      "Iteration 183, loss = 128.44988436\n",
      "Iteration 184, loss = 128.45305347\n",
      "Iteration 185, loss = 128.80572737\n",
      "Iteration 186, loss = 128.15881432\n",
      "Iteration 187, loss = 128.35705462\n",
      "Iteration 188, loss = 128.04931946\n",
      "Iteration 189, loss = 128.62580806\n",
      "Iteration 190, loss = 127.99936602\n",
      "Iteration 191, loss = 128.14151149\n",
      "Iteration 192, loss = 128.25271900\n",
      "Iteration 193, loss = 128.47634933\n",
      "Iteration 194, loss = 128.09777685\n",
      "Iteration 195, loss = 127.75953073\n",
      "Iteration 196, loss = 127.79006464\n",
      "Iteration 197, loss = 127.66890695\n",
      "Iteration 198, loss = 128.02861828\n",
      "Iteration 199, loss = 127.06809614\n",
      "Iteration 200, loss = 127.60059653\n",
      "Iteration 201, loss = 127.60010246\n",
      "Iteration 202, loss = 127.41296247\n",
      "Iteration 203, loss = 127.47819389\n",
      "Iteration 204, loss = 127.70838156\n",
      "Iteration 205, loss = 126.77969812\n",
      "Iteration 206, loss = 127.42487151\n",
      "Iteration 207, loss = 127.25109467\n",
      "Iteration 208, loss = 127.33625670\n",
      "Iteration 209, loss = 127.27883285\n",
      "Iteration 210, loss = 127.17997713\n",
      "Iteration 211, loss = 127.37367246\n",
      "Iteration 212, loss = 127.05981094\n",
      "Iteration 213, loss = 126.92873787\n",
      "Iteration 214, loss = 126.98335398\n",
      "Iteration 215, loss = 126.99244077\n",
      "Iteration 216, loss = 126.90876696\n",
      "Training loss did not improve more than tol=0.000100 for 10 consecutive epochs. Stopping.\n"
     ]
    },
    {
     "data": {
      "text/plain": [
       "MLPRegressor(activation='relu', alpha=0.003, batch_size='auto', beta_1=0.9,\n",
       "       beta_2=0.999, early_stopping=False, epsilon=1e-08,\n",
       "       hidden_layer_sizes=(10, 20, 20, 20, 10), learning_rate='constant',\n",
       "       learning_rate_init=0.001, max_iter=2000, momentum=0.9,\n",
       "       n_iter_no_change=10, nesterovs_momentum=True, power_t=0.5,\n",
       "       random_state=None, shuffle=True, solver='adam', tol=0.0001,\n",
       "       validation_fraction=0.1, verbose=True, warm_start=False)"
      ]
     },
     "execution_count": 4,
     "metadata": {},
     "output_type": "execute_result"
    }
   ],
   "source": [
    "# Model for red\n",
    "X_train_r, X_test_r, y_train_r, y_test_r = train_test_split(data_X, data_y_red, test_size=0.2, random_state=42)\n",
    "scaler = StandardScaler()\n",
    "scaler.fit(X_train_r)\n",
    "\n",
    "X_train_r = scaler.transform(X_train_r)\n",
    "X_test_r = scaler.transform(X_test_r)\n",
    "\n",
    "mlp_r = MLPRegressor(hidden_layer_sizes=(10,20,20,20,10),  activation='relu', \n",
    "                   solver='adam', max_iter=2000, alpha=0.003, verbose=True)\n",
    "mlp_r.fit(X_train_r,y_train_r)"
   ]
  },
  {
   "cell_type": "code",
   "execution_count": 5,
   "metadata": {},
   "outputs": [],
   "source": [
    "predictions_r = mlp_r.predict(X_test_r)"
   ]
  },
  {
   "cell_type": "code",
   "execution_count": 6,
   "metadata": {},
   "outputs": [
    {
     "name": "stderr",
     "output_type": "stream",
     "text": [
      "/home/vedantc6/anaconda3/lib/python3.7/site-packages/scipy/stats/stats.py:1713: FutureWarning: Using a non-tuple sequence for multidimensional indexing is deprecated; use `arr[tuple(seq)]` instead of `arr[seq]`. In the future this will be interpreted as an array index, `arr[np.array(seq)]`, which will result either in an error or a different result.\n",
      "  return np.add.reduce(sorted[indexer] * weights, axis=axis) / sumval\n"
     ]
    },
    {
     "data": {
      "text/plain": [
       "<matplotlib.axes._subplots.AxesSubplot at 0x7f6a81fb3470>"
      ]
     },
     "execution_count": 6,
     "metadata": {},
     "output_type": "execute_result"
    },
    {
     "data": {
      "image/png": "[encoded data removed]",
      "text/plain": [
       "<Figure size 432x288 with 1 Axes>"
      ]
     },
     "metadata": {
      "needs_background": "light"
     },
     "output_type": "display_data"
    }
   ],
   "source": [
    "sns.distplot(predictions_r)"
   ]
  },
  {
   "cell_type": "code",
   "execution_count": 7,
   "metadata": {},
   "outputs": [
    {
     "name": "stderr",
     "output_type": "stream",
     "text": [
      "/home/vedantc6/anaconda3/lib/python3.7/site-packages/scipy/stats/stats.py:1713: FutureWarning: Using a non-tuple sequence for multidimensional indexing is deprecated; use `arr[tuple(seq)]` instead of `arr[seq]`. In the future this will be interpreted as an array index, `arr[np.array(seq)]`, which will result either in an error or a different result.\n",
      "  return np.add.reduce(sorted[indexer] * weights, axis=axis) / sumval\n"
     ]
    },
    {
     "data": {
      "text/plain": [
       "<matplotlib.axes._subplots.AxesSubplot at 0x7f6a1bb5b4e0>"
      ]
     },
     "execution_count": 7,
     "metadata": {},
     "output_type": "execute_result"
    },
    {
     "data": {
      "image/png": "[encoded data removed]",
      "text/plain": [
       "<Figure size 432x288 with 1 Axes>"
      ]
     },
     "metadata": {
      "needs_background": "light"
     },
     "output_type": "display_data"
    }
   ],
   "source": [
    "sns.distplot(y_test_r)"
   ]
  },
  {
   "cell_type": "code",
   "execution_count": 8,
   "metadata": {},
   "outputs": [
    {
     "name": "stdout",
     "output_type": "stream",
     "text": [
      "Iteration 1, loss = 1686.21133010\n",
      "Iteration 2, loss = 76.68255680\n",
      "Iteration 3, loss = 65.08883420\n",
      "Iteration 4, loss = 60.62775253\n",
      "Iteration 5, loss = 58.07794827\n",
      "Iteration 6, loss = 56.14950855\n",
      "Iteration 7, loss = 54.78715829\n",
      "Iteration 8, loss = 53.57251854\n",
      "Iteration 9, loss = 52.65679534\n",
      "Iteration 10, loss = 51.91403436\n",
      "Iteration 11, loss = 51.30734408\n",
      "Iteration 12, loss = 50.66846847\n",
      "Iteration 13, loss = 50.29819275\n",
      "Iteration 14, loss = 50.02594947\n",
      "Iteration 15, loss = 49.62206191\n",
      "Iteration 16, loss = 49.18409085\n",
      "Iteration 17, loss = 48.79797349\n",
      "Iteration 18, loss = 48.68038292\n",
      "Iteration 19, loss = 48.24024716\n",
      "Iteration 20, loss = 48.07383750\n",
      "Iteration 21, loss = 47.85893541\n",
      "Iteration 22, loss = 47.58746961\n",
      "Iteration 23, loss = 47.27943891\n",
      "Iteration 24, loss = 47.16208633\n",
      "Iteration 25, loss = 46.71843172\n",
      "Iteration 26, loss = 46.76036118\n",
      "Iteration 27, loss = 46.58307659\n",
      "Iteration 28, loss = 46.41510273\n",
      "Iteration 29, loss = 46.20671048\n",
      "Iteration 30, loss = 45.98336574\n",
      "Iteration 31, loss = 45.60729432\n",
      "Iteration 32, loss = 45.42963500\n",
      "Iteration 33, loss = 45.26678308\n",
      "Iteration 34, loss = 44.93338973\n",
      "Iteration 35, loss = 44.75676006\n",
      "Iteration 36, loss = 44.51896038\n",
      "Iteration 37, loss = 44.33568939\n",
      "Iteration 38, loss = 44.18485250\n",
      "Iteration 39, loss = 43.96589289\n",
      "Iteration 40, loss = 43.70898374\n",
      "Iteration 41, loss = 43.67786707\n",
      "Iteration 42, loss = 43.50163658\n",
      "Iteration 43, loss = 43.30448230\n",
      "Iteration 44, loss = 42.93707950\n",
      "Iteration 45, loss = 43.05436757\n",
      "Iteration 46, loss = 42.77617062\n",
      "Iteration 47, loss = 42.54676940\n",
      "Iteration 48, loss = 42.47004790\n",
      "Iteration 49, loss = 42.36280141\n",
      "Iteration 50, loss = 42.42549991\n",
      "Iteration 51, loss = 42.04401240\n",
      "Iteration 52, loss = 41.93510277\n",
      "Iteration 53, loss = 41.68823402\n",
      "Iteration 54, loss = 41.67356147\n",
      "Iteration 55, loss = 41.56752548\n",
      "Iteration 56, loss = 41.28754136\n",
      "Iteration 57, loss = 41.23728757\n",
      "Iteration 58, loss = 41.04866274\n",
      "Iteration 59, loss = 41.00999480\n",
      "Iteration 60, loss = 40.77713181\n",
      "Iteration 61, loss = 40.62536203\n",
      "Iteration 62, loss = 40.73667264\n",
      "Iteration 63, loss = 40.48506481\n",
      "Iteration 64, loss = 40.29330367\n",
      "Iteration 65, loss = 40.20679661\n",
      "Iteration 66, loss = 40.25949338\n",
      "Iteration 67, loss = 40.08369934\n",
      "Iteration 68, loss = 39.94323894\n",
      "Iteration 69, loss = 39.98185668\n",
      "Iteration 70, loss = 39.87428366\n",
      "Iteration 71, loss = 39.74058039\n",
      "Iteration 72, loss = 39.62858454\n",
      "Iteration 73, loss = 39.57248749\n",
      "Iteration 74, loss = 39.40304821\n",
      "Iteration 75, loss = 39.42931607\n",
      "Iteration 76, loss = 39.26979946\n",
      "Iteration 77, loss = 39.17961644\n",
      "Iteration 78, loss = 39.10144502\n",
      "Iteration 79, loss = 39.17334321\n",
      "Iteration 80, loss = 38.94305834\n",
      "Iteration 81, loss = 38.90881025\n",
      "Iteration 82, loss = 39.03639757\n",
      "Iteration 83, loss = 38.80594303\n",
      "Iteration 84, loss = 38.72048678\n",
      "Iteration 85, loss = 38.78508108\n",
      "Iteration 86, loss = 38.58195289\n",
      "Iteration 87, loss = 38.56446429\n",
      "Iteration 88, loss = 38.45128885\n",
      "Iteration 89, loss = 38.41882603\n",
      "Iteration 90, loss = 38.53131658\n",
      "Iteration 91, loss = 38.37681994\n",
      "Iteration 92, loss = 38.31490817\n",
      "Iteration 93, loss = 38.26847718\n",
      "Iteration 94, loss = 38.24562269\n",
      "Iteration 95, loss = 38.16819471\n",
      "Iteration 96, loss = 38.20802948\n",
      "Iteration 97, loss = 38.25151926\n",
      "Iteration 98, loss = 38.04623131\n",
      "Iteration 99, loss = 38.00356473\n",
      "Iteration 100, loss = 37.92581982\n",
      "Iteration 101, loss = 37.95783355\n",
      "Iteration 102, loss = 37.92371602\n",
      "Iteration 103, loss = 37.84080241\n",
      "Iteration 104, loss = 37.92040190\n",
      "Iteration 105, loss = 37.67630541\n",
      "Iteration 106, loss = 37.71298285\n",
      "Iteration 107, loss = 37.72176049\n",
      "Iteration 108, loss = 37.73723695\n",
      "Iteration 109, loss = 37.55196593\n",
      "Iteration 110, loss = 37.57149170\n",
      "Iteration 111, loss = 37.37850897\n",
      "Iteration 112, loss = 37.53189217\n",
      "Iteration 113, loss = 37.47436255\n",
      "Iteration 114, loss = 37.39280829\n",
      "Iteration 115, loss = 37.43667660\n",
      "Iteration 116, loss = 37.44120986\n",
      "Iteration 117, loss = 37.42008938\n",
      "Iteration 118, loss = 37.25367622\n",
      "Iteration 119, loss = 37.18784116\n",
      "Iteration 120, loss = 37.25509986\n",
      "Iteration 121, loss = 37.20324765\n",
      "Iteration 122, loss = 37.15269198\n",
      "Iteration 123, loss = 37.10493124\n",
      "Iteration 124, loss = 37.03732260\n",
      "Iteration 125, loss = 37.14306076\n",
      "Iteration 126, loss = 37.07029458\n",
      "Iteration 127, loss = 36.99026190\n",
      "Iteration 128, loss = 36.99718223\n",
      "Iteration 129, loss = 36.95256274\n",
      "Iteration 130, loss = 36.83774017\n",
      "Iteration 131, loss = 36.94520671\n",
      "Iteration 132, loss = 36.85827762\n",
      "Iteration 133, loss = 36.75714222\n",
      "Iteration 134, loss = 36.72873981\n",
      "Iteration 135, loss = 36.75676491\n",
      "Iteration 136, loss = 36.75718354\n",
      "Iteration 137, loss = 36.61000267\n",
      "Iteration 138, loss = 36.61131282\n",
      "Iteration 139, loss = 36.63373544\n",
      "Iteration 140, loss = 36.79953087\n",
      "Iteration 141, loss = 36.58326283\n",
      "Iteration 142, loss = 36.53757883\n",
      "Iteration 143, loss = 36.56713951\n",
      "Iteration 144, loss = 36.56576212\n",
      "Iteration 145, loss = 36.61574299\n",
      "Iteration 146, loss = 36.42741654\n",
      "Iteration 147, loss = 36.50355406\n",
      "Iteration 148, loss = 36.48902206\n",
      "Iteration 149, loss = 36.34134606\n",
      "Iteration 150, loss = 36.52928093\n",
      "Iteration 151, loss = 36.37560480\n",
      "Iteration 152, loss = 36.35588840\n",
      "Iteration 153, loss = 36.26339369\n",
      "Iteration 154, loss = 36.42300259\n",
      "Iteration 155, loss = 36.24611906\n",
      "Iteration 156, loss = 36.31174704\n",
      "Iteration 157, loss = 36.18468729\n",
      "Iteration 158, loss = 36.15999681\n",
      "Iteration 159, loss = 36.21128587\n",
      "Iteration 160, loss = 36.21413283\n",
      "Iteration 161, loss = 36.20032669\n",
      "Iteration 162, loss = 36.09078154\n",
      "Iteration 163, loss = 36.19703711\n",
      "Iteration 164, loss = 36.11195892\n",
      "Iteration 165, loss = 36.04931690\n",
      "Iteration 166, loss = 36.10146507\n",
      "Iteration 167, loss = 36.01660267\n",
      "Iteration 168, loss = 35.97838925\n",
      "Iteration 169, loss = 35.96269899\n",
      "Iteration 170, loss = 36.09979770\n",
      "Iteration 171, loss = 35.94049698\n",
      "Iteration 172, loss = 35.94197126\n",
      "Iteration 173, loss = 35.99254731\n",
      "Iteration 174, loss = 35.98302638\n",
      "Iteration 175, loss = 35.91354708\n",
      "Iteration 176, loss = 35.81725625\n",
      "Iteration 177, loss = 35.89295627\n",
      "Iteration 178, loss = 35.85236065\n",
      "Iteration 179, loss = 35.88451942\n",
      "Iteration 180, loss = 35.75465148\n",
      "Iteration 181, loss = 35.85209618\n",
      "Iteration 182, loss = 35.83323988\n",
      "Iteration 183, loss = 35.83751082\n",
      "Iteration 184, loss = 35.75753546\n",
      "Iteration 185, loss = 35.78548362\n",
      "Iteration 186, loss = 35.76481816\n",
      "Iteration 187, loss = 35.71296394\n",
      "Iteration 188, loss = 35.71626662\n",
      "Iteration 189, loss = 35.63378805\n",
      "Iteration 190, loss = 35.80236510\n",
      "Iteration 191, loss = 35.69357879\n",
      "Iteration 192, loss = 35.68019040\n",
      "Iteration 193, loss = 35.73340490\n",
      "Iteration 194, loss = 35.70867615\n",
      "Iteration 195, loss = 35.63009791\n",
      "Iteration 196, loss = 35.61656231\n",
      "Iteration 197, loss = 35.67968718\n",
      "Iteration 198, loss = 35.59608565\n",
      "Iteration 199, loss = 35.64602154\n",
      "Iteration 200, loss = 35.50121054\n",
      "Iteration 201, loss = 35.66919725\n",
      "Iteration 202, loss = 35.60743952\n",
      "Iteration 203, loss = 35.63432732\n",
      "Iteration 204, loss = 35.53091298\n",
      "Iteration 205, loss = 35.61883813\n",
      "Iteration 206, loss = 35.45655049\n",
      "Iteration 207, loss = 35.47946036\n",
      "Iteration 208, loss = 35.54479321\n",
      "Iteration 209, loss = 35.48971232\n",
      "Iteration 210, loss = 35.53610579\n",
      "Iteration 211, loss = 35.45184974\n",
      "Iteration 212, loss = 35.51377421\n",
      "Iteration 213, loss = 35.41516625\n",
      "Iteration 214, loss = 35.50314616\n",
      "Iteration 215, loss = 35.45508644\n",
      "Iteration 216, loss = 35.52557914\n",
      "Iteration 217, loss = 35.34360909\n",
      "Iteration 218, loss = 35.31566264\n",
      "Iteration 219, loss = 35.38713731\n",
      "Iteration 220, loss = 35.35475405\n",
      "Iteration 221, loss = 35.37619515\n",
      "Iteration 222, loss = 35.38863342\n",
      "Iteration 223, loss = 35.31129155\n",
      "Iteration 224, loss = 35.37615820\n",
      "Iteration 225, loss = 35.29170674\n",
      "Iteration 226, loss = 35.35400934\n",
      "Iteration 227, loss = 35.34456031\n",
      "Iteration 228, loss = 35.21672245\n",
      "Iteration 229, loss = 35.19145601\n",
      "Iteration 230, loss = 35.15024741\n",
      "Iteration 231, loss = 35.15166883\n",
      "Iteration 232, loss = 35.24513608\n",
      "Iteration 233, loss = 35.21692108\n",
      "Iteration 234, loss = 35.16848572\n",
      "Iteration 235, loss = 35.17994027\n",
      "Iteration 236, loss = 35.16157069\n",
      "Iteration 237, loss = 35.23076322\n",
      "Iteration 238, loss = 35.12260511\n",
      "Iteration 239, loss = 35.20763916\n",
      "Iteration 240, loss = 35.10829864\n",
      "Iteration 241, loss = 35.08000084\n",
      "Iteration 242, loss = 35.11648698\n",
      "Iteration 243, loss = 35.15443843\n",
      "Iteration 244, loss = 35.13197611\n",
      "Iteration 245, loss = 34.91731924\n"
     ]
    },
    {
     "name": "stdout",
     "output_type": "stream",
     "text": [
      "Iteration 246, loss = 35.10433997\n",
      "Iteration 247, loss = 35.06328775\n",
      "Iteration 248, loss = 35.02923186\n",
      "Iteration 249, loss = 35.09805175\n",
      "Iteration 250, loss = 35.07059573\n",
      "Iteration 251, loss = 35.00017945\n",
      "Iteration 252, loss = 35.03374099\n",
      "Iteration 253, loss = 35.02663763\n",
      "Iteration 254, loss = 34.96467477\n",
      "Iteration 255, loss = 34.97173900\n",
      "Iteration 256, loss = 34.99261877\n",
      "Training loss did not improve more than tol=0.000100 for 10 consecutive epochs. Stopping.\n"
     ]
    },
    {
     "data": {
      "text/plain": [
       "MLPRegressor(activation='relu', alpha=0.003, batch_size='auto', beta_1=0.9,\n",
       "       beta_2=0.999, early_stopping=False, epsilon=1e-08,\n",
       "       hidden_layer_sizes=(10, 20, 20, 20, 10), learning_rate='constant',\n",
       "       learning_rate_init=0.001, max_iter=2000, momentum=0.9,\n",
       "       n_iter_no_change=10, nesterovs_momentum=True, power_t=0.5,\n",
       "       random_state=None, shuffle=True, solver='adam', tol=0.0001,\n",
       "       validation_fraction=0.1, verbose=True, warm_start=False)"
      ]
     },
     "execution_count": 8,
     "metadata": {},
     "output_type": "execute_result"
    }
   ],
   "source": [
    "# Model for green\n",
    "X_train_g, X_test_g, y_train_g, y_test_g = train_test_split(data_X, data_y_green, test_size=0.2, random_state=42)\n",
    "scaler = StandardScaler()\n",
    "scaler.fit(X_train_g)\n",
    "\n",
    "X_train_g = scaler.transform(X_train_g)\n",
    "X_test_g = scaler.transform(X_test_g)\n",
    "\n",
    "mlp_g = MLPRegressor(hidden_layer_sizes=(10,20,20,20,10),  activation='relu', \n",
    "                   solver='adam', max_iter=2000, alpha=0.003, verbose=True)\n",
    "mlp_g.fit(X_train_g,y_train_g)"
   ]
  },
  {
   "cell_type": "code",
   "execution_count": 9,
   "metadata": {},
   "outputs": [],
   "source": [
    "predictions_g = mlp_g.predict(X_test_g)"
   ]
  },
  {
   "cell_type": "code",
   "execution_count": 10,
   "metadata": {},
   "outputs": [
    {
     "name": "stderr",
     "output_type": "stream",
     "text": [
      "/home/vedantc6/anaconda3/lib/python3.7/site-packages/scipy/stats/stats.py:1713: FutureWarning: Using a non-tuple sequence for multidimensional indexing is deprecated; use `arr[tuple(seq)]` instead of `arr[seq]`. In the future this will be interpreted as an array index, `arr[np.array(seq)]`, which will result either in an error or a different result.\n",
      "  return np.add.reduce(sorted[indexer] * weights, axis=axis) / sumval\n"
     ]
    },
    {
     "data": {
      "text/plain": [
       "<matplotlib.axes._subplots.AxesSubplot at 0x7f6a1ba7f198>"
      ]
     },
     "execution_count": 10,
     "metadata": {},
     "output_type": "execute_result"
    },
    {
     "data": {
      "image/png": "[encoded data removed]",
      "text/plain": [
       "<Figure size 432x288 with 1 Axes>"
      ]
     },
     "metadata": {
      "needs_background": "light"
     },
     "output_type": "display_data"
    }
   ],
   "source": [
    "sns.distplot(predictions_g)"
   ]
  },
  {
   "cell_type": "code",
   "execution_count": 11,
   "metadata": {},
   "outputs": [
    {
     "name": "stderr",
     "output_type": "stream",
     "text": [
      "/home/vedantc6/anaconda3/lib/python3.7/site-packages/scipy/stats/stats.py:1713: FutureWarning: Using a non-tuple sequence for multidimensional indexing is deprecated; use `arr[tuple(seq)]` instead of `arr[seq]`. In the future this will be interpreted as an array index, `arr[np.array(seq)]`, which will result either in an error or a different result.\n",
      "  return np.add.reduce(sorted[indexer] * weights, axis=axis) / sumval\n"
     ]
    },
    {
     "data": {
      "text/plain": [
       "<matplotlib.axes._subplots.AxesSubplot at 0x7f6a1b9447f0>"
      ]
     },
     "execution_count": 11,
     "metadata": {},
     "output_type": "execute_result"
    },
    {
     "data": {
      "image/png": "[encoded data removed]",
      "text/plain": [
       "<Figure size 432x288 with 1 Axes>"
      ]
     },
     "metadata": {
      "needs_background": "light"
     },
     "output_type": "display_data"
    }
   ],
   "source": [
    "sns.distplot(y_test_g)"
   ]
  },
  {
   "cell_type": "code",
   "execution_count": 12,
   "metadata": {},
   "outputs": [
    {
     "name": "stdout",
     "output_type": "stream",
     "text": [
      "Iteration 1, loss = 1523.39275523\n",
      "Iteration 2, loss = 430.51793294\n",
      "Iteration 3, loss = 316.17413377\n",
      "Iteration 4, loss = 289.72701221\n",
      "Iteration 5, loss = 272.36937918\n",
      "Iteration 6, loss = 259.04897371\n",
      "Iteration 7, loss = 247.78444196\n",
      "Iteration 8, loss = 240.25893559\n",
      "Iteration 9, loss = 233.59701494\n",
      "Iteration 10, loss = 227.81269954\n",
      "Iteration 11, loss = 222.72508555\n",
      "Iteration 12, loss = 217.89112927\n",
      "Iteration 13, loss = 215.02365797\n",
      "Iteration 14, loss = 211.23263852\n",
      "Iteration 15, loss = 209.54170024\n",
      "Iteration 16, loss = 206.61390715\n",
      "Iteration 17, loss = 204.60751387\n",
      "Iteration 18, loss = 202.52304269\n",
      "Iteration 19, loss = 201.48371066\n",
      "Iteration 20, loss = 199.34813656\n",
      "Iteration 21, loss = 197.39914105\n",
      "Iteration 22, loss = 195.69479486\n",
      "Iteration 23, loss = 194.84787918\n",
      "Iteration 24, loss = 193.31004652\n",
      "Iteration 25, loss = 192.45272917\n",
      "Iteration 26, loss = 190.68654385\n",
      "Iteration 27, loss = 190.03860814\n",
      "Iteration 28, loss = 188.83042033\n",
      "Iteration 29, loss = 187.85048637\n",
      "Iteration 30, loss = 186.61907138\n",
      "Iteration 31, loss = 185.57859592\n",
      "Iteration 32, loss = 184.86168784\n",
      "Iteration 33, loss = 183.88063499\n",
      "Iteration 34, loss = 182.44483833\n",
      "Iteration 35, loss = 181.53208892\n",
      "Iteration 36, loss = 181.03762423\n",
      "Iteration 37, loss = 180.03576225\n",
      "Iteration 38, loss = 179.81029743\n",
      "Iteration 39, loss = 179.06258789\n",
      "Iteration 40, loss = 178.36972684\n",
      "Iteration 41, loss = 177.40774365\n",
      "Iteration 42, loss = 177.13328137\n",
      "Iteration 43, loss = 175.85917396\n",
      "Iteration 44, loss = 175.79507923\n",
      "Iteration 45, loss = 175.79672600\n",
      "Iteration 46, loss = 174.65975877\n",
      "Iteration 47, loss = 174.88443199\n",
      "Iteration 48, loss = 173.80978060\n",
      "Iteration 49, loss = 173.55959315\n",
      "Iteration 50, loss = 173.56614392\n",
      "Iteration 51, loss = 172.65675646\n",
      "Iteration 52, loss = 171.63955727\n",
      "Iteration 53, loss = 171.99080317\n",
      "Iteration 54, loss = 171.36277318\n",
      "Iteration 55, loss = 171.40383422\n",
      "Iteration 56, loss = 170.60498729\n",
      "Iteration 57, loss = 170.28399592\n",
      "Iteration 58, loss = 170.45835997\n",
      "Iteration 59, loss = 169.36000032\n",
      "Iteration 60, loss = 169.14746358\n",
      "Iteration 61, loss = 168.68464823\n",
      "Iteration 62, loss = 168.32567517\n",
      "Iteration 63, loss = 168.83629767\n",
      "Iteration 64, loss = 167.80697242\n",
      "Iteration 65, loss = 168.29980423\n",
      "Iteration 66, loss = 167.76786367\n",
      "Iteration 67, loss = 166.95920361\n",
      "Iteration 68, loss = 166.30665797\n",
      "Iteration 69, loss = 166.34499883\n",
      "Iteration 70, loss = 166.62349602\n",
      "Iteration 71, loss = 166.39837711\n",
      "Iteration 72, loss = 165.00913437\n",
      "Iteration 73, loss = 165.26488992\n",
      "Iteration 74, loss = 165.15627665\n",
      "Iteration 75, loss = 164.70468222\n",
      "Iteration 76, loss = 164.52558646\n",
      "Iteration 77, loss = 163.26845074\n",
      "Iteration 78, loss = 163.22180881\n",
      "Iteration 79, loss = 163.89284723\n",
      "Iteration 80, loss = 163.24707898\n",
      "Iteration 81, loss = 162.63754524\n",
      "Iteration 82, loss = 162.91326917\n",
      "Iteration 83, loss = 162.33048104\n",
      "Iteration 84, loss = 162.99600580\n",
      "Iteration 85, loss = 162.11294042\n",
      "Iteration 86, loss = 162.54691041\n",
      "Iteration 87, loss = 161.43189193\n",
      "Iteration 88, loss = 161.09840773\n",
      "Iteration 89, loss = 161.22105780\n",
      "Iteration 90, loss = 161.58363095\n",
      "Iteration 91, loss = 160.78412325\n",
      "Iteration 92, loss = 160.46158039\n",
      "Iteration 93, loss = 160.48326687\n",
      "Iteration 94, loss = 160.35868460\n",
      "Iteration 95, loss = 159.83169378\n",
      "Iteration 96, loss = 160.22937796\n",
      "Iteration 97, loss = 159.37973203\n",
      "Iteration 98, loss = 160.32535236\n",
      "Iteration 99, loss = 159.49774129\n",
      "Iteration 100, loss = 159.01053242\n",
      "Iteration 101, loss = 158.88952222\n",
      "Iteration 102, loss = 159.14319851\n",
      "Iteration 103, loss = 158.68598441\n",
      "Iteration 104, loss = 158.42310049\n",
      "Iteration 105, loss = 159.07031372\n",
      "Iteration 106, loss = 158.47439596\n",
      "Iteration 107, loss = 158.87870799\n",
      "Iteration 108, loss = 157.99357454\n",
      "Iteration 109, loss = 158.00381684\n",
      "Iteration 110, loss = 157.58148976\n",
      "Iteration 111, loss = 157.84750851\n",
      "Iteration 112, loss = 157.76406231\n",
      "Iteration 113, loss = 157.06631586\n",
      "Iteration 114, loss = 156.86884234\n",
      "Iteration 115, loss = 157.40968553\n",
      "Iteration 116, loss = 156.82937735\n",
      "Iteration 117, loss = 157.38430789\n",
      "Iteration 118, loss = 157.07751373\n",
      "Iteration 119, loss = 156.90719037\n",
      "Iteration 120, loss = 156.71222561\n",
      "Iteration 121, loss = 157.30947821\n",
      "Iteration 122, loss = 155.58189836\n",
      "Iteration 123, loss = 156.49003036\n",
      "Iteration 124, loss = 156.17489029\n",
      "Iteration 125, loss = 156.08656779\n",
      "Iteration 126, loss = 155.90664801\n",
      "Iteration 127, loss = 155.66953484\n",
      "Iteration 128, loss = 155.36406944\n",
      "Iteration 129, loss = 155.31237497\n",
      "Iteration 130, loss = 155.88055667\n",
      "Iteration 131, loss = 154.98017375\n",
      "Iteration 132, loss = 155.03954241\n",
      "Iteration 133, loss = 155.06528067\n",
      "Iteration 134, loss = 154.07336363\n",
      "Iteration 135, loss = 155.17104192\n",
      "Iteration 136, loss = 154.78451345\n",
      "Iteration 137, loss = 154.58582347\n",
      "Iteration 138, loss = 154.08304324\n",
      "Iteration 139, loss = 154.49176642\n",
      "Iteration 140, loss = 154.47066985\n",
      "Iteration 141, loss = 154.12707931\n",
      "Iteration 142, loss = 154.00619895\n",
      "Iteration 143, loss = 153.35923406\n",
      "Iteration 144, loss = 154.21037725\n",
      "Iteration 145, loss = 153.54968121\n",
      "Iteration 146, loss = 154.05149283\n",
      "Iteration 147, loss = 153.32768394\n",
      "Iteration 148, loss = 153.91494632\n",
      "Iteration 149, loss = 153.78736455\n",
      "Iteration 150, loss = 152.88909685\n",
      "Iteration 151, loss = 152.70699413\n",
      "Iteration 152, loss = 152.79568069\n",
      "Iteration 153, loss = 152.66305470\n",
      "Iteration 154, loss = 153.76982737\n",
      "Iteration 155, loss = 152.59926717\n",
      "Iteration 156, loss = 153.15143473\n",
      "Iteration 157, loss = 152.76385280\n",
      "Iteration 158, loss = 152.42254155\n",
      "Iteration 159, loss = 152.46965053\n",
      "Iteration 160, loss = 153.01434702\n",
      "Iteration 161, loss = 152.42081062\n",
      "Iteration 162, loss = 152.75358791\n",
      "Iteration 163, loss = 152.28768631\n",
      "Iteration 164, loss = 152.02135046\n",
      "Iteration 165, loss = 152.18507996\n",
      "Iteration 166, loss = 151.80327479\n",
      "Iteration 167, loss = 151.57265210\n",
      "Iteration 168, loss = 152.18335481\n",
      "Iteration 169, loss = 151.87478631\n",
      "Iteration 170, loss = 151.48377987\n",
      "Iteration 171, loss = 151.14706223\n",
      "Iteration 172, loss = 151.67483013\n",
      "Iteration 173, loss = 151.29995619\n",
      "Iteration 174, loss = 152.00777430\n",
      "Iteration 175, loss = 151.30231221\n",
      "Iteration 176, loss = 151.08810880\n",
      "Iteration 177, loss = 150.95906614\n",
      "Iteration 178, loss = 150.83537746\n",
      "Iteration 179, loss = 151.49255517\n",
      "Iteration 180, loss = 150.74537785\n",
      "Iteration 181, loss = 150.84094546\n",
      "Iteration 182, loss = 151.54259654\n",
      "Iteration 183, loss = 150.47577601\n",
      "Iteration 184, loss = 150.93701443\n",
      "Iteration 185, loss = 150.67743307\n",
      "Iteration 186, loss = 151.06660906\n",
      "Iteration 187, loss = 150.57083662\n",
      "Iteration 188, loss = 150.57721389\n",
      "Iteration 189, loss = 150.72632251\n",
      "Iteration 190, loss = 150.02080869\n",
      "Iteration 191, loss = 150.48894067\n",
      "Iteration 192, loss = 150.73602020\n",
      "Iteration 193, loss = 150.15198777\n",
      "Iteration 194, loss = 150.17070211\n",
      "Iteration 195, loss = 150.06835736\n",
      "Iteration 196, loss = 150.29542541\n",
      "Iteration 197, loss = 149.64414817\n",
      "Iteration 198, loss = 149.75351208\n",
      "Iteration 199, loss = 149.83273802\n",
      "Iteration 200, loss = 150.20671156\n",
      "Iteration 201, loss = 150.09169168\n",
      "Iteration 202, loss = 149.81149318\n",
      "Iteration 203, loss = 149.33669213\n",
      "Iteration 204, loss = 149.17059049\n",
      "Iteration 205, loss = 149.55879497\n",
      "Iteration 206, loss = 149.22044725\n",
      "Iteration 207, loss = 149.84571633\n",
      "Iteration 208, loss = 149.33429034\n",
      "Iteration 209, loss = 149.41299566\n",
      "Iteration 210, loss = 148.95284302\n",
      "Iteration 211, loss = 149.81426490\n",
      "Iteration 212, loss = 149.41737053\n",
      "Iteration 213, loss = 148.50476435\n",
      "Iteration 214, loss = 149.22802235\n",
      "Iteration 215, loss = 148.76157684\n",
      "Iteration 216, loss = 148.93288323\n",
      "Iteration 217, loss = 148.86437951\n",
      "Iteration 218, loss = 148.49732907\n",
      "Iteration 219, loss = 148.79187915\n",
      "Iteration 220, loss = 148.77185829\n",
      "Iteration 221, loss = 148.73387199\n",
      "Iteration 222, loss = 148.23373348\n",
      "Iteration 223, loss = 148.73155793\n",
      "Iteration 224, loss = 149.05416917\n",
      "Iteration 225, loss = 148.53234998\n",
      "Iteration 226, loss = 148.62929564\n",
      "Iteration 227, loss = 148.45097727\n",
      "Iteration 228, loss = 148.84908116\n",
      "Iteration 229, loss = 148.30307430\n",
      "Iteration 230, loss = 148.71598539\n",
      "Iteration 231, loss = 148.35428321\n",
      "Iteration 232, loss = 147.89004604\n",
      "Iteration 233, loss = 148.28066466\n",
      "Iteration 234, loss = 148.12797820\n",
      "Iteration 235, loss = 148.46488711\n",
      "Iteration 236, loss = 148.05806332\n",
      "Iteration 237, loss = 148.05315730\n",
      "Iteration 238, loss = 147.37739367\n"
     ]
    },
    {
     "name": "stdout",
     "output_type": "stream",
     "text": [
      "Iteration 239, loss = 147.71222468\n",
      "Iteration 240, loss = 148.95536386\n",
      "Iteration 241, loss = 147.82765985\n",
      "Iteration 242, loss = 147.17669858\n",
      "Iteration 243, loss = 147.02421025\n",
      "Iteration 244, loss = 147.93662448\n",
      "Iteration 245, loss = 147.65525852\n",
      "Iteration 246, loss = 147.17016800\n",
      "Iteration 247, loss = 147.31892240\n",
      "Iteration 248, loss = 146.86672137\n",
      "Iteration 249, loss = 147.30352380\n",
      "Iteration 250, loss = 147.21706065\n",
      "Iteration 251, loss = 146.96057606\n",
      "Iteration 252, loss = 146.92883613\n",
      "Iteration 253, loss = 147.35136128\n",
      "Iteration 254, loss = 147.41719819\n",
      "Iteration 255, loss = 146.96964243\n",
      "Iteration 256, loss = 146.57981099\n",
      "Iteration 257, loss = 146.62659496\n",
      "Iteration 258, loss = 146.65830353\n",
      "Iteration 259, loss = 146.49699707\n",
      "Iteration 260, loss = 146.92818232\n",
      "Iteration 261, loss = 146.25120227\n",
      "Iteration 262, loss = 146.55965459\n",
      "Iteration 263, loss = 146.20440232\n",
      "Iteration 264, loss = 145.91202317\n",
      "Iteration 265, loss = 146.75103907\n",
      "Iteration 266, loss = 145.66979715\n",
      "Iteration 267, loss = 146.65601288\n",
      "Iteration 268, loss = 145.95916545\n",
      "Iteration 269, loss = 146.03582992\n",
      "Iteration 270, loss = 146.26213936\n",
      "Iteration 271, loss = 145.96795010\n",
      "Iteration 272, loss = 145.55112057\n",
      "Iteration 273, loss = 145.71533166\n",
      "Iteration 274, loss = 145.82074365\n",
      "Iteration 275, loss = 146.00002513\n",
      "Iteration 276, loss = 145.51768600\n",
      "Iteration 277, loss = 145.80212500\n",
      "Iteration 278, loss = 145.41587145\n",
      "Iteration 279, loss = 145.31230422\n",
      "Iteration 280, loss = 145.79616592\n",
      "Iteration 281, loss = 145.22606440\n",
      "Iteration 282, loss = 146.61040490\n",
      "Iteration 283, loss = 145.22551099\n",
      "Iteration 284, loss = 145.62585482\n",
      "Iteration 285, loss = 144.94974995\n",
      "Iteration 286, loss = 144.51421590\n",
      "Iteration 287, loss = 145.40213032\n",
      "Iteration 288, loss = 145.28608822\n",
      "Iteration 289, loss = 146.17012317\n",
      "Iteration 290, loss = 144.68523266\n",
      "Iteration 291, loss = 145.21542717\n",
      "Iteration 292, loss = 145.54861787\n",
      "Iteration 293, loss = 144.21540460\n",
      "Iteration 294, loss = 145.65033216\n",
      "Iteration 295, loss = 145.49712908\n",
      "Iteration 296, loss = 144.44760238\n",
      "Iteration 297, loss = 144.60966117\n",
      "Iteration 298, loss = 145.16275478\n",
      "Iteration 299, loss = 144.61175155\n",
      "Iteration 300, loss = 144.71475793\n",
      "Iteration 301, loss = 144.08210559\n",
      "Iteration 302, loss = 144.97741870\n",
      "Iteration 303, loss = 144.43332457\n",
      "Iteration 304, loss = 144.75325535\n",
      "Iteration 305, loss = 145.06922450\n",
      "Iteration 306, loss = 144.42189740\n",
      "Iteration 307, loss = 144.10108500\n",
      "Iteration 308, loss = 144.45580977\n",
      "Iteration 309, loss = 144.22665443\n",
      "Iteration 310, loss = 145.24822178\n",
      "Iteration 311, loss = 144.17173709\n",
      "Iteration 312, loss = 144.33390120\n",
      "Training loss did not improve more than tol=0.000100 for 10 consecutive epochs. Stopping.\n"
     ]
    },
    {
     "data": {
      "text/plain": [
       "MLPRegressor(activation='relu', alpha=0.003, batch_size='auto', beta_1=0.9,\n",
       "       beta_2=0.999, early_stopping=False, epsilon=1e-08,\n",
       "       hidden_layer_sizes=(10, 20, 20, 20, 10), learning_rate='constant',\n",
       "       learning_rate_init=0.001, max_iter=2000, momentum=0.9,\n",
       "       n_iter_no_change=10, nesterovs_momentum=True, power_t=0.5,\n",
       "       random_state=None, shuffle=True, solver='adam', tol=0.0001,\n",
       "       validation_fraction=0.1, verbose=True, warm_start=False)"
      ]
     },
     "execution_count": 12,
     "metadata": {},
     "output_type": "execute_result"
    }
   ],
   "source": [
    "# Model for blue\n",
    "X_train_b, X_test_b, y_train_b, y_test_b = train_test_split(data_X, data_y_blue, test_size=0.2, random_state=42)\n",
    "scaler = StandardScaler()\n",
    "scaler.fit(X_train_b)\n",
    "\n",
    "X_train_b = scaler.transform(X_train_b)\n",
    "X_test_b = scaler.transform(X_test_b)\n",
    "\n",
    "mlp_b = MLPRegressor(hidden_layer_sizes=(10,20,20,20,10),  activation='relu', \n",
    "                   solver='adam', max_iter=2000, alpha=0.003, verbose=True)\n",
    "mlp_b.fit(X_train_b,y_train_b)"
   ]
  },
  {
   "cell_type": "code",
   "execution_count": 13,
   "metadata": {},
   "outputs": [],
   "source": [
    "predictions_b = mlp_b.predict(X_test_b)"
   ]
  },
  {
   "cell_type": "code",
   "execution_count": 14,
   "metadata": {},
   "outputs": [
    {
     "name": "stderr",
     "output_type": "stream",
     "text": [
      "/home/vedantc6/anaconda3/lib/python3.7/site-packages/scipy/stats/stats.py:1713: FutureWarning: Using a non-tuple sequence for multidimensional indexing is deprecated; use `arr[tuple(seq)]` instead of `arr[seq]`. In the future this will be interpreted as an array index, `arr[np.array(seq)]`, which will result either in an error or a different result.\n",
      "  return np.add.reduce(sorted[indexer] * weights, axis=axis) / sumval\n"
     ]
    },
    {
     "data": {
      "text/plain": [
       "<matplotlib.axes._subplots.AxesSubplot at 0x7f6a1b9eb9b0>"
      ]
     },
     "execution_count": 14,
     "metadata": {},
     "output_type": "execute_result"
    },
    {
     "data": {
      "image/png": "[encoded data removed]",
      "text/plain": [
       "<Figure size 432x288 with 1 Axes>"
      ]
     },
     "metadata": {
      "needs_background": "light"
     },
     "output_type": "display_data"
    }
   ],
   "source": [
    "sns.distplot(predictions_b)"
   ]
  },
  {
   "cell_type": "code",
   "execution_count": 15,
   "metadata": {},
   "outputs": [
    {
     "name": "stderr",
     "output_type": "stream",
     "text": [
      "/home/vedantc6/anaconda3/lib/python3.7/site-packages/scipy/stats/stats.py:1713: FutureWarning: Using a non-tuple sequence for multidimensional indexing is deprecated; use `arr[tuple(seq)]` instead of `arr[seq]`. In the future this will be interpreted as an array index, `arr[np.array(seq)]`, which will result either in an error or a different result.\n",
      "  return np.add.reduce(sorted[indexer] * weights, axis=axis) / sumval\n"
     ]
    },
    {
     "data": {
      "text/plain": [
       "<matplotlib.axes._subplots.AxesSubplot at 0x7f6a1b81d588>"
      ]
     },
     "execution_count": 15,
     "metadata": {},
     "output_type": "execute_result"
    },
    {
     "data": {
      "image/png": "[encoded data removed]",
      "text/plain": [
       "<Figure size 432x288 with 1 Axes>"
      ]
     },
     "metadata": {
      "needs_background": "light"
     },
     "output_type": "display_data"
    }
   ],
   "source": [
    "sns.distplot(y_test_b)"
   ]
  },
  {
   "cell_type": "code",
   "execution_count": 16,
   "metadata": {},
   "outputs": [],
   "source": [
    "def bound_predictions(predictions_b, predictions_g, predictions_r):\n",
    "    for i in range(len(predictions_g)):\n",
    "        if predictions_b[i] < 0:\n",
    "            predictions_b[i] = 0\n",
    "        if predictions_b[i] > 255:\n",
    "            predictions_b[i] = 255\n",
    "        if predictions_g[i] < 0:\n",
    "            predictions_g[i] = 0\n",
    "        if predictions_g[i] > 255:\n",
    "            predictions_g[i] = 255\n",
    "        if predictions_r[i] < 0:\n",
    "            predictions_r[i] = 0\n",
    "        if predictions_r[i] > 255:\n",
    "            predictions_r[i] = 255\n",
    "    \n",
    "        predictions_b[i] = int(predictions_b[i])\n",
    "        predictions_g[i] = int(predictions_g[i])\n",
    "        predictions_r[i] = int(predictions_r[i])\n",
    "        \n",
    "    return predictions_r, predictions_g, predictions_b"
   ]
  },
  {
   "cell_type": "code",
   "execution_count": 45,
   "metadata": {},
   "outputs": [
    {
     "name": "stdout",
     "output_type": "stream",
     "text": [
      "Opening directory ./Images/test\n",
      "Accessging  scene9.jpeg\n",
      "['scene9.jpeg']\n"
     ]
    }
   ],
   "source": [
    "directory = \"./Images/test\"\n",
    "filter_size = 11\n",
    "X, y, files = get_images(directory, filter_size)\n",
    "print(files)\n",
    "data_X_test, data_y_red_test, data_y_green_test, data_y_blue_test = align_data(X, y)\n",
    "data_X_test = scaler.transform(data_X_test)"
   ]
  },
  {
   "cell_type": "code",
   "execution_count": 46,
   "metadata": {},
   "outputs": [],
   "source": [
    "test_predictions_b = mlp_b.predict(data_X_test)\n",
    "test_predictions_g = mlp_g.predict(data_X_test)\n",
    "test_predictions_r = mlp_r.predict(data_X_test)"
   ]
  },
  {
   "cell_type": "code",
   "execution_count": 47,
   "metadata": {},
   "outputs": [
    {
     "name": "stderr",
     "output_type": "stream",
     "text": [
      "/home/vedantc6/anaconda3/lib/python3.7/site-packages/scipy/stats/stats.py:1713: FutureWarning: Using a non-tuple sequence for multidimensional indexing is deprecated; use `arr[tuple(seq)]` instead of `arr[seq]`. In the future this will be interpreted as an array index, `arr[np.array(seq)]`, which will result either in an error or a different result.\n",
      "  return np.add.reduce(sorted[indexer] * weights, axis=axis) / sumval\n"
     ]
    },
    {
     "data": {
      "text/plain": [
       "<matplotlib.axes._subplots.AxesSubplot at 0x7f69ec15be10>"
      ]
     },
     "execution_count": 47,
     "metadata": {},
     "output_type": "execute_result"
    },
    {
     "data": {
      "image/png": "[encoded data removed]",
      "text/plain": [
       "<Figure size 432x288 with 1 Axes>"
      ]
     },
     "metadata": {
      "needs_background": "light"
     },
     "output_type": "display_data"
    }
   ],
   "source": [
    "sns.distplot(test_predictions_b)"
   ]
  },
  {
   "cell_type": "code",
   "execution_count": 48,
   "metadata": {},
   "outputs": [
    {
     "name": "stderr",
     "output_type": "stream",
     "text": [
      "/home/vedantc6/anaconda3/lib/python3.7/site-packages/scipy/stats/stats.py:1713: FutureWarning: Using a non-tuple sequence for multidimensional indexing is deprecated; use `arr[tuple(seq)]` instead of `arr[seq]`. In the future this will be interpreted as an array index, `arr[np.array(seq)]`, which will result either in an error or a different result.\n",
      "  return np.add.reduce(sorted[indexer] * weights, axis=axis) / sumval\n"
     ]
    },
    {
     "data": {
      "text/plain": [
       "<matplotlib.axes._subplots.AxesSubplot at 0x7f69eb0513c8>"
      ]
     },
     "execution_count": 48,
     "metadata": {},
     "output_type": "execute_result"
    },
    {
     "data": {
      "image/png": "[encoded data removed]",
      "text/plain": [
       "<Figure size 432x288 with 1 Axes>"
      ]
     },
     "metadata": {
      "needs_background": "light"
     },
     "output_type": "display_data"
    }
   ],
   "source": [
    "sns.distplot(data_y_blue_test)"
   ]
  },
  {
   "cell_type": "code",
   "execution_count": 49,
   "metadata": {},
   "outputs": [],
   "source": [
    "test_predictions_b, test_predictions_g, test_predictions_r = bound_predictions(test_predictions_b, test_predictions_g, test_predictions_r)"
   ]
  },
  {
   "cell_type": "code",
   "execution_count": 50,
   "metadata": {},
   "outputs": [
    {
     "data": {
      "text/plain": [
       "array([ 50.,  68.,  66., ..., 100., 107.,  88.])"
      ]
     },
     "execution_count": 50,
     "metadata": {},
     "output_type": "execute_result"
    }
   ],
   "source": [
    "test_predictions_b"
   ]
  },
  {
   "cell_type": "code",
   "execution_count": 51,
   "metadata": {},
   "outputs": [],
   "source": [
    "from PIL import Image"
   ]
  },
  {
   "cell_type": "code",
   "execution_count": 52,
   "metadata": {},
   "outputs": [],
   "source": [
    "class Colorizer():\n",
    "    def __init__(self, red_list, blue_list, green_list, image_location='./Images/test/scene9.jpeg'):\n",
    "        self.im_size = (0, 0)\n",
    "        self.image_loc = image_location\n",
    "        self.image = None\n",
    "        self.pix_object = None\n",
    "        self.pixel_values = None\n",
    "        self.red = red_list\n",
    "        self.blue = blue_list\n",
    "        self.green = green_list\n",
    "        \n",
    "    def extract_pixels(self):\n",
    "        # Open the image\n",
    "        self.image = Image.open(self.image_loc)\n",
    "        # Load the image - Pixel object\n",
    "        self.pix_object = self.image.load()\n",
    "        # Size of the image - Number of rows * Number of columns\n",
    "        self.im_size = self.image.size\n",
    "        # Extract all the pixel values - Start from left corner (Moving from Left to Right)\n",
    "        self.pixel_values = list(self.image.getdata())\n",
    "        \n",
    "    def create_image_from_array(self):\n",
    "        \n",
    "        w, h = 500, 500\n",
    "        count = 0\n",
    "        data = np.zeros((h, w, 3), dtype=np.uint8)\n",
    "        \n",
    "        for i in range(w):\n",
    "            \n",
    "            for j in range(h):\n",
    "                \n",
    "                data[i,j] = (int(self.red[count]), int(self.green[count]), int(self.blue[count]))\n",
    "                count +=1\n",
    "        \n",
    "        img = Image.fromarray(data, 'RGB')\n",
    "        img.save('my.png')\n",
    "        img.show()"
   ]
  },
  {
   "cell_type": "code",
   "execution_count": 53,
   "metadata": {},
   "outputs": [
    {
     "name": "stdout",
     "output_type": "stream",
     "text": [
      "Done\n"
     ]
    }
   ],
   "source": [
    "new_color = Colorizer(red_list=test_predictions_r, blue_list=test_predictions_b, green_list=test_predictions_g)\n",
    "new_color.extract_pixels()\n",
    "new_color.create_image_from_array()\n",
    "print(\"Done\")"
   ]
  },
  {
   "cell_type": "code",
   "execution_count": null,
   "metadata": {},
   "outputs": [],
   "source": []
  }
 ],
 "metadata": {
  "kernelspec": {
   "display_name": "Python 3",
   "language": "python",
   "name": "python3"
  },
  "language_info": {
   "codemirror_mode": {
    "name": "ipython",
    "version": 3
   },
   "file_extension": ".py",
   "mimetype": "text/x-python",
   "name": "python",
   "nbconvert_exporter": "python",
   "pygments_lexer": "ipython3",
   "version": "3.7.1"
  }
 },
 "nbformat": 4,
 "nbformat_minor": 2
}
