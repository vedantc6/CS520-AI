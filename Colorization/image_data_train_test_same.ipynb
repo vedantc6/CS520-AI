{
 "cells": [
  {
   "cell_type": "code",
   "execution_count": 1,
   "metadata": {},
   "outputs": [],
   "source": [
    "import numpy as np\n",
    "import matplotlib.pyplot as plt\n",
    "import cv2\n",
    "import os\n",
    "import pandas as pd\n",
    "from sklearn.neural_network import MLPRegressor\n",
    "from sklearn.model_selection import train_test_split\n",
    "from sklearn.preprocessing import StandardScaler\n",
    "import seaborn as sns"
   ]
  },
  {
   "cell_type": "code",
   "execution_count": 2,
   "metadata": {},
   "outputs": [],
   "source": [
    "def pad_images(image, filter_size):\n",
    "    p = int((filter_size - 1)/2)\n",
    "    image = np.pad(array=image, pad_width=p, mode='constant', constant_values=0)\n",
    "    return image\n",
    "\n",
    "def create_dataset(gray, red, green, blue, f_s):\n",
    "    X = []\n",
    "    y = []\n",
    "    p_gray = pad_images(gray, f_s)\n",
    "    p_red = pad_images(red, f_s)\n",
    "    p_green = pad_images(green, f_s)\n",
    "    p_blue = pad_images(blue, f_s)\n",
    "    \n",
    "    for i in range(0, len(p_gray)-(f_s-1)):\n",
    "        for j in range(0, len(p_gray)-(f_s-1)):\n",
    "            X.append(list(p_gray[i:i+f_s,j:j+f_s].flatten()))\n",
    "            y.append([p_red[i:i+f_s,j:j+f_s].flatten()[int(f_s*f_s/2)], \n",
    "                      p_green[i:i+f_s,j:j+f_s].flatten()[int(f_s*f_s/2)], \n",
    "                      p_blue[i:i+f_s,j:j+f_s].flatten()[int(f_s*f_s/2)]])\n",
    "    \n",
    "    return X, y\n",
    "    \n",
    "def get_images(directory, f_s):\n",
    "    exts = [\"jpg\", \"jpeg\", \"png\"]\n",
    "    print(\"Opening directory {}\".format(directory))\n",
    "    for root, dirs, files in os.walk(directory):\n",
    "        if root:\n",
    "            X = []\n",
    "            y = []\n",
    "            file_name = []\n",
    "            for f in files:\n",
    "                if f.split(\".\")[1] in exts:\n",
    "                    print(\"Accessging \", f)\n",
    "                    image = cv2.imread(os.path.join(root, f))\n",
    "                    image = cv2.resize(image, (500,500), interpolation = cv2.INTER_AREA)\n",
    "                    # gray image\n",
    "                    gray = cv2.cvtColor(image, cv2.COLOR_BGR2GRAY)\n",
    "                    # red, green, blue components\n",
    "                    red, green, blue = image[:,:,2], image[:,:,1], image[:,:,0]\n",
    "                    m_X, m_y = create_dataset(gray, red, green, blue, f_s)\n",
    "                \n",
    "                    X.append(m_X)\n",
    "                    y.append(m_y)\n",
    "                    file_name.append(f)\n",
    "    return X, y, file_name\n",
    "                \n",
    "def align_data(X, y):\n",
    "    data_X = []\n",
    "    for sublist in X:\n",
    "        for item in sublist:\n",
    "            data_X.append(item)\n",
    "\n",
    "    data_y_red = []\n",
    "    data_y_green = []\n",
    "    data_y_blue = []\n",
    "\n",
    "    for sublist in y:\n",
    "        for item in sublist:\n",
    "            data_y_red.append(item[0])\n",
    "            data_y_green.append(item[1])\n",
    "            data_y_blue.append(item[2])\n",
    "            \n",
    "    return data_X, data_y_red, data_y_green, data_y_blue"
   ]
  },
  {
   "cell_type": "code",
   "execution_count": 3,
   "metadata": {},
   "outputs": [
    {
     "name": "stdout",
     "output_type": "stream",
     "text": [
      "Opening directory ./Images2/\n",
      "Accessging  scene8.jpeg\n",
      "Accessging  scene8.jpeg\n"
     ]
    }
   ],
   "source": [
    "directory = \"./Images2/\"\n",
    "filter_size = 11\n",
    "X, y, files = get_images(directory, filter_size)\n",
    "data_X, data_y_red, data_y_green, data_y_blue = align_data(X, y)"
   ]
  },
  {
   "cell_type": "code",
   "execution_count": 4,
   "metadata": {},
   "outputs": [
    {
     "name": "stdout",
     "output_type": "stream",
     "text": [
      "Iteration 1, loss = 1756.36429557\n",
      "Iteration 2, loss = 571.65426803\n",
      "Iteration 3, loss = 518.03808220\n",
      "Iteration 4, loss = 488.73547650\n",
      "Iteration 5, loss = 474.63373634\n",
      "Iteration 6, loss = 465.61512463\n",
      "Iteration 7, loss = 457.68886567\n",
      "Iteration 8, loss = 451.63543113\n",
      "Iteration 9, loss = 446.17203058\n",
      "Iteration 10, loss = 440.35760436\n",
      "Iteration 11, loss = 437.56333606\n",
      "Iteration 12, loss = 433.34259868\n",
      "Iteration 13, loss = 430.50186290\n",
      "Iteration 14, loss = 426.92818018\n",
      "Iteration 15, loss = 424.53534221\n",
      "Iteration 16, loss = 422.23811107\n",
      "Iteration 17, loss = 418.79302629\n",
      "Iteration 18, loss = 416.87613729\n",
      "Iteration 19, loss = 415.71545135\n",
      "Iteration 20, loss = 413.91647252\n",
      "Iteration 21, loss = 412.22536081\n",
      "Iteration 22, loss = 410.37821427\n",
      "Iteration 23, loss = 409.36834357\n",
      "Iteration 24, loss = 407.24631880\n",
      "Iteration 25, loss = 406.55259091\n",
      "Iteration 26, loss = 405.44330427\n",
      "Iteration 27, loss = 404.39746632\n",
      "Iteration 28, loss = 403.41350740\n",
      "Iteration 29, loss = 402.60342473\n",
      "Iteration 30, loss = 401.02963510\n",
      "Iteration 31, loss = 399.68487487\n",
      "Iteration 32, loss = 400.21024377\n",
      "Iteration 33, loss = 399.17013828\n",
      "Iteration 34, loss = 398.30402160\n",
      "Iteration 35, loss = 397.46451849\n",
      "Iteration 36, loss = 396.25899981\n",
      "Iteration 37, loss = 395.82339710\n",
      "Iteration 38, loss = 395.68414006\n",
      "Iteration 39, loss = 394.67856192\n",
      "Iteration 40, loss = 394.28105950\n",
      "Iteration 41, loss = 393.53165686\n",
      "Iteration 42, loss = 393.48895103\n",
      "Iteration 43, loss = 393.24303663\n",
      "Iteration 44, loss = 392.80307833\n",
      "Iteration 45, loss = 392.02264674\n",
      "Iteration 46, loss = 391.28731951\n",
      "Iteration 47, loss = 390.81721005\n",
      "Iteration 48, loss = 390.10910769\n",
      "Iteration 49, loss = 390.19188497\n",
      "Iteration 50, loss = 389.04850923\n",
      "Iteration 51, loss = 390.16309364\n",
      "Iteration 52, loss = 388.99125955\n",
      "Iteration 53, loss = 388.21653078\n",
      "Iteration 54, loss = 387.80658624\n",
      "Iteration 55, loss = 387.78043741\n",
      "Iteration 56, loss = 387.37529650\n",
      "Iteration 57, loss = 388.11865034\n",
      "Iteration 58, loss = 387.44302388\n",
      "Iteration 59, loss = 386.88329444\n",
      "Iteration 60, loss = 386.70593801\n",
      "Iteration 61, loss = 386.03456811\n",
      "Iteration 62, loss = 385.31075819\n",
      "Iteration 63, loss = 385.86867139\n",
      "Iteration 64, loss = 385.19707091\n",
      "Iteration 65, loss = 385.72280532\n",
      "Iteration 66, loss = 384.75944758\n",
      "Iteration 67, loss = 384.35680717\n",
      "Iteration 68, loss = 383.73085449\n",
      "Iteration 69, loss = 383.47618003\n",
      "Iteration 70, loss = 382.98144645\n",
      "Iteration 71, loss = 383.18369449\n",
      "Iteration 72, loss = 383.62601950\n",
      "Iteration 73, loss = 383.07274948\n",
      "Iteration 74, loss = 382.10592981\n",
      "Iteration 75, loss = 381.68051710\n",
      "Iteration 76, loss = 382.17556973\n",
      "Iteration 77, loss = 381.65884170\n",
      "Iteration 78, loss = 380.47610918\n",
      "Iteration 79, loss = 380.61953685\n",
      "Iteration 80, loss = 379.91589298\n",
      "Iteration 81, loss = 380.92660206\n",
      "Iteration 82, loss = 380.31753597\n",
      "Iteration 83, loss = 379.51691272\n",
      "Iteration 84, loss = 379.61939475\n",
      "Iteration 85, loss = 380.13142270\n",
      "Iteration 86, loss = 379.63331234\n",
      "Iteration 87, loss = 378.71618600\n",
      "Iteration 88, loss = 378.59673712\n",
      "Iteration 89, loss = 378.14316182\n",
      "Iteration 90, loss = 378.45388273\n",
      "Iteration 91, loss = 378.12502087\n",
      "Iteration 92, loss = 378.45969310\n",
      "Iteration 93, loss = 377.12076914\n",
      "Iteration 94, loss = 377.03851747\n",
      "Iteration 95, loss = 376.35184270\n",
      "Iteration 96, loss = 377.23730344\n",
      "Iteration 97, loss = 376.58080574\n",
      "Iteration 98, loss = 376.34940111\n",
      "Iteration 99, loss = 375.70404753\n",
      "Iteration 100, loss = 375.35326239\n",
      "Iteration 101, loss = 375.41915753\n",
      "Iteration 102, loss = 375.72301509\n",
      "Iteration 103, loss = 374.92807619\n",
      "Iteration 104, loss = 374.52395580\n",
      "Iteration 105, loss = 374.45749439\n",
      "Iteration 106, loss = 374.46775975\n",
      "Iteration 107, loss = 375.05422288\n",
      "Iteration 108, loss = 374.81775424\n",
      "Iteration 109, loss = 373.52866508\n",
      "Iteration 110, loss = 373.95782459\n",
      "Iteration 111, loss = 373.36096419\n",
      "Iteration 112, loss = 373.77987015\n",
      "Iteration 113, loss = 373.70741078\n",
      "Iteration 114, loss = 373.61258720\n",
      "Iteration 115, loss = 372.37572064\n",
      "Iteration 116, loss = 372.96823900\n",
      "Iteration 117, loss = 372.85837968\n",
      "Iteration 118, loss = 372.63625732\n",
      "Iteration 119, loss = 372.83881886\n",
      "Iteration 120, loss = 372.29383392\n",
      "Iteration 121, loss = 371.88738948\n",
      "Iteration 122, loss = 372.47312818\n",
      "Iteration 123, loss = 372.12913471\n",
      "Iteration 124, loss = 372.36348806\n",
      "Iteration 125, loss = 371.52106590\n",
      "Iteration 126, loss = 371.68877415\n",
      "Iteration 127, loss = 371.78252988\n",
      "Iteration 128, loss = 370.85557681\n",
      "Iteration 129, loss = 370.55360663\n",
      "Iteration 130, loss = 371.64115576\n",
      "Iteration 131, loss = 370.92617622\n",
      "Iteration 132, loss = 371.22889701\n",
      "Iteration 133, loss = 370.78118414\n",
      "Iteration 134, loss = 370.45995172\n",
      "Iteration 135, loss = 370.33452747\n",
      "Iteration 136, loss = 370.94315212\n",
      "Iteration 137, loss = 369.98760713\n",
      "Iteration 138, loss = 370.13700560\n",
      "Iteration 139, loss = 369.85769624\n",
      "Iteration 140, loss = 370.13087338\n",
      "Iteration 141, loss = 369.44252847\n",
      "Iteration 142, loss = 370.10856658\n",
      "Iteration 143, loss = 369.15288844\n",
      "Iteration 144, loss = 369.89377014\n",
      "Iteration 145, loss = 368.68895385\n",
      "Iteration 146, loss = 368.81996765\n",
      "Iteration 147, loss = 369.19636127\n",
      "Iteration 148, loss = 369.47577398\n",
      "Iteration 149, loss = 369.40875972\n",
      "Iteration 150, loss = 368.37752203\n",
      "Iteration 151, loss = 368.05162254\n",
      "Iteration 152, loss = 368.76694691\n",
      "Iteration 153, loss = 368.80602913\n",
      "Iteration 154, loss = 368.04257551\n",
      "Iteration 155, loss = 367.98639853\n",
      "Iteration 156, loss = 368.39482191\n",
      "Iteration 157, loss = 367.88879783\n",
      "Iteration 158, loss = 367.72083458\n",
      "Iteration 159, loss = 367.91436096\n",
      "Iteration 160, loss = 367.49360373\n",
      "Iteration 161, loss = 368.27684440\n",
      "Iteration 162, loss = 367.12108544\n",
      "Iteration 163, loss = 367.99334779\n",
      "Iteration 164, loss = 367.80297441\n",
      "Iteration 165, loss = 368.32611949\n",
      "Iteration 166, loss = 367.57575122\n",
      "Iteration 167, loss = 367.48393867\n",
      "Iteration 168, loss = 367.01159242\n",
      "Iteration 169, loss = 367.83606213\n",
      "Iteration 170, loss = 366.87895769\n",
      "Iteration 171, loss = 367.28865741\n",
      "Iteration 172, loss = 366.79763802\n",
      "Iteration 173, loss = 366.88441466\n",
      "Iteration 174, loss = 366.77172376\n",
      "Iteration 175, loss = 367.15900709\n",
      "Iteration 176, loss = 366.76067497\n",
      "Iteration 177, loss = 365.78728450\n",
      "Iteration 178, loss = 366.52148774\n",
      "Iteration 179, loss = 366.01420182\n",
      "Iteration 180, loss = 366.68865893\n",
      "Iteration 181, loss = 366.41582840\n",
      "Iteration 182, loss = 365.87309924\n",
      "Iteration 183, loss = 366.53807162\n",
      "Iteration 184, loss = 365.34037926\n",
      "Iteration 185, loss = 366.68543587\n",
      "Iteration 186, loss = 365.96140161\n",
      "Iteration 187, loss = 366.70890960\n",
      "Iteration 188, loss = 366.12410107\n",
      "Iteration 189, loss = 365.38180118\n",
      "Iteration 190, loss = 364.95397674\n",
      "Iteration 191, loss = 365.42602251\n",
      "Iteration 192, loss = 365.42215991\n",
      "Iteration 193, loss = 365.43917403\n",
      "Iteration 194, loss = 365.35411772\n",
      "Iteration 195, loss = 365.06335578\n",
      "Iteration 196, loss = 365.11480873\n",
      "Iteration 197, loss = 365.29536557\n",
      "Iteration 198, loss = 365.16696441\n",
      "Iteration 199, loss = 364.45325719\n",
      "Iteration 200, loss = 364.82233483\n",
      "Iteration 201, loss = 365.03877713\n",
      "Iteration 202, loss = 365.41196338\n",
      "Iteration 203, loss = 364.87763650\n",
      "Iteration 204, loss = 363.94023235\n",
      "Iteration 205, loss = 363.99102358\n",
      "Iteration 206, loss = 363.91426721\n",
      "Iteration 207, loss = 364.25739737\n",
      "Iteration 208, loss = 364.10853537\n",
      "Iteration 209, loss = 364.03072313\n",
      "Iteration 210, loss = 363.34715711\n",
      "Iteration 211, loss = 363.71395358\n",
      "Iteration 212, loss = 363.95798697\n",
      "Iteration 213, loss = 364.06166516\n",
      "Iteration 214, loss = 363.98773847\n",
      "Iteration 215, loss = 363.88936910\n",
      "Iteration 216, loss = 363.33850885\n",
      "Iteration 217, loss = 362.98709655\n",
      "Iteration 218, loss = 363.32897254\n",
      "Iteration 219, loss = 363.14904531\n",
      "Iteration 220, loss = 362.90011905\n",
      "Iteration 221, loss = 363.25150041\n",
      "Iteration 222, loss = 363.06864989\n",
      "Iteration 223, loss = 363.31710305\n",
      "Iteration 224, loss = 363.16042293\n",
      "Iteration 225, loss = 362.49316284\n",
      "Iteration 226, loss = 362.95634575\n",
      "Iteration 227, loss = 362.92030960\n",
      "Iteration 228, loss = 362.13469149\n",
      "Iteration 229, loss = 363.44129225\n",
      "Iteration 230, loss = 362.31397871\n",
      "Iteration 231, loss = 362.19202394\n",
      "Iteration 232, loss = 362.22652924\n",
      "Iteration 233, loss = 363.21020092\n",
      "Iteration 234, loss = 362.09759473\n",
      "Iteration 235, loss = 361.90105353\n",
      "Iteration 236, loss = 361.87946885\n",
      "Iteration 237, loss = 361.54988285\n",
      "Iteration 238, loss = 362.06566915\n"
     ]
    },
    {
     "name": "stdout",
     "output_type": "stream",
     "text": [
      "Iteration 239, loss = 361.48391897\n",
      "Iteration 240, loss = 362.09787782\n",
      "Iteration 241, loss = 361.89424167\n",
      "Iteration 242, loss = 362.32104505\n",
      "Iteration 243, loss = 361.20470708\n",
      "Iteration 244, loss = 361.39010426\n",
      "Iteration 245, loss = 361.75945882\n",
      "Iteration 246, loss = 361.22654968\n",
      "Iteration 247, loss = 361.07430239\n",
      "Iteration 248, loss = 361.99846391\n",
      "Iteration 249, loss = 361.21342418\n",
      "Iteration 250, loss = 361.01775583\n",
      "Iteration 251, loss = 361.25863813\n",
      "Iteration 252, loss = 361.74348192\n",
      "Iteration 253, loss = 361.94540875\n",
      "Iteration 254, loss = 361.61948892\n",
      "Iteration 255, loss = 360.79420546\n",
      "Iteration 256, loss = 361.62232767\n",
      "Iteration 257, loss = 360.47845710\n",
      "Iteration 258, loss = 361.46396745\n",
      "Iteration 259, loss = 360.46414220\n",
      "Iteration 260, loss = 360.76932922\n",
      "Iteration 261, loss = 361.04593764\n",
      "Iteration 262, loss = 359.96210641\n",
      "Iteration 263, loss = 361.01125700\n",
      "Iteration 264, loss = 361.32569911\n",
      "Iteration 265, loss = 360.62759849\n",
      "Iteration 266, loss = 360.65137149\n",
      "Iteration 267, loss = 359.79817545\n",
      "Iteration 268, loss = 359.99803086\n",
      "Iteration 269, loss = 360.43537775\n",
      "Iteration 270, loss = 360.15643651\n",
      "Iteration 271, loss = 361.04299470\n",
      "Iteration 272, loss = 360.59517790\n",
      "Iteration 273, loss = 359.83082987\n",
      "Iteration 274, loss = 360.36682018\n",
      "Iteration 275, loss = 359.84737740\n",
      "Iteration 276, loss = 360.06377921\n",
      "Iteration 277, loss = 359.74877728\n",
      "Iteration 278, loss = 359.82632657\n",
      "Iteration 279, loss = 360.11835753\n",
      "Iteration 280, loss = 359.94203989\n",
      "Iteration 281, loss = 360.13738119\n",
      "Iteration 282, loss = 359.98431205\n",
      "Iteration 283, loss = 359.61351240\n",
      "Iteration 284, loss = 359.28264731\n",
      "Iteration 285, loss = 359.73201803\n",
      "Iteration 286, loss = 358.98918109\n",
      "Iteration 287, loss = 359.65317133\n",
      "Iteration 288, loss = 359.41465283\n",
      "Iteration 289, loss = 359.45919311\n",
      "Iteration 290, loss = 359.57122220\n",
      "Iteration 291, loss = 359.25078854\n",
      "Iteration 292, loss = 358.72075875\n",
      "Iteration 293, loss = 358.82461785\n",
      "Iteration 294, loss = 358.81728426\n",
      "Iteration 295, loss = 359.50769725\n",
      "Iteration 296, loss = 358.79042428\n",
      "Iteration 297, loss = 358.75096089\n",
      "Iteration 298, loss = 358.60720076\n",
      "Iteration 299, loss = 359.07743794\n",
      "Iteration 300, loss = 358.32598550\n",
      "Iteration 301, loss = 358.53576315\n",
      "Iteration 302, loss = 358.99775170\n",
      "Iteration 303, loss = 359.85457656\n",
      "Iteration 304, loss = 358.72544743\n",
      "Iteration 305, loss = 358.09187980\n",
      "Iteration 306, loss = 358.26076433\n",
      "Iteration 307, loss = 359.49770620\n",
      "Iteration 308, loss = 358.63007536\n",
      "Iteration 309, loss = 358.35651582\n",
      "Iteration 310, loss = 358.20339875\n",
      "Iteration 311, loss = 358.71286164\n",
      "Iteration 312, loss = 357.44378806\n",
      "Iteration 313, loss = 358.51282041\n",
      "Iteration 314, loss = 358.05547234\n",
      "Iteration 315, loss = 358.11913144\n",
      "Iteration 316, loss = 358.31704066\n",
      "Iteration 317, loss = 358.12667868\n",
      "Iteration 318, loss = 357.73432140\n",
      "Iteration 319, loss = 358.30850764\n",
      "Iteration 320, loss = 358.08902760\n",
      "Iteration 321, loss = 358.13491135\n",
      "Iteration 322, loss = 358.25675262\n",
      "Iteration 323, loss = 359.49672460\n",
      "Training loss did not improve more than tol=0.000100 for 10 consecutive epochs. Stopping.\n"
     ]
    },
    {
     "data": {
      "text/plain": [
       "MLPRegressor(activation='relu', alpha=0.003, batch_size='auto', beta_1=0.9,\n",
       "       beta_2=0.999, early_stopping=False, epsilon=1e-08,\n",
       "       hidden_layer_sizes=(10, 20, 20, 20, 10), learning_rate='constant',\n",
       "       learning_rate_init=0.001, max_iter=2000, momentum=0.9,\n",
       "       n_iter_no_change=10, nesterovs_momentum=True, power_t=0.5,\n",
       "       random_state=None, shuffle=True, solver='adam', tol=0.0001,\n",
       "       validation_fraction=0.1, verbose=True, warm_start=False)"
      ]
     },
     "execution_count": 4,
     "metadata": {},
     "output_type": "execute_result"
    }
   ],
   "source": [
    "# Model for red\n",
    "X_train_r, X_test_r, y_train_r, y_test_r = train_test_split(data_X, data_y_red, test_size=0.2, random_state=42)\n",
    "scaler = StandardScaler()\n",
    "scaler.fit(X_train_r)\n",
    "\n",
    "X_train_r = scaler.transform(X_train_r)\n",
    "X_test_r = scaler.transform(X_test_r)\n",
    "\n",
    "mlp_r = MLPRegressor(hidden_layer_sizes=(10,20,20,20,10),  activation='relu', \n",
    "                   solver='adam', max_iter=2000, alpha=0.003, verbose=True)\n",
    "mlp_r.fit(X_train_r,y_train_r)"
   ]
  },
  {
   "cell_type": "code",
   "execution_count": 5,
   "metadata": {},
   "outputs": [],
   "source": [
    "predictions_r = mlp_r.predict(X_test_r)"
   ]
  },
  {
   "cell_type": "code",
   "execution_count": 6,
   "metadata": {},
   "outputs": [
    {
     "name": "stderr",
     "output_type": "stream",
     "text": [
      "/home/vedantc6/anaconda3/lib/python3.7/site-packages/scipy/stats/stats.py:1713: FutureWarning: Using a non-tuple sequence for multidimensional indexing is deprecated; use `arr[tuple(seq)]` instead of `arr[seq]`. In the future this will be interpreted as an array index, `arr[np.array(seq)]`, which will result either in an error or a different result.\n",
      "  return np.add.reduce(sorted[indexer] * weights, axis=axis) / sumval\n"
     ]
    },
    {
     "data": {
      "text/plain": [
       "<matplotlib.axes._subplots.AxesSubplot at 0x7fc133b26438>"
      ]
     },
     "execution_count": 6,
     "metadata": {},
     "output_type": "execute_result"
    },
    {
     "data": {
      "image/png": "[encoded data removed]",
      "text/plain": [
       "<Figure size 432x288 with 1 Axes>"
      ]
     },
     "metadata": {
      "needs_background": "light"
     },
     "output_type": "display_data"
    }
   ],
   "source": [
    "sns.distplot(predictions_r)"
   ]
  },
  {
   "cell_type": "code",
   "execution_count": 7,
   "metadata": {},
   "outputs": [
    {
     "name": "stderr",
     "output_type": "stream",
     "text": [
      "/home/vedantc6/anaconda3/lib/python3.7/site-packages/scipy/stats/stats.py:1713: FutureWarning: Using a non-tuple sequence for multidimensional indexing is deprecated; use `arr[tuple(seq)]` instead of `arr[seq]`. In the future this will be interpreted as an array index, `arr[np.array(seq)]`, which will result either in an error or a different result.\n",
      "  return np.add.reduce(sorted[indexer] * weights, axis=axis) / sumval\n"
     ]
    },
    {
     "data": {
      "text/plain": [
       "<matplotlib.axes._subplots.AxesSubplot at 0x7fc155867c50>"
      ]
     },
     "execution_count": 7,
     "metadata": {},
     "output_type": "execute_result"
    },
    {
     "data": {
      "image/png": "[encoded data removed]",
      "text/plain": [
       "<Figure size 432x288 with 1 Axes>"
      ]
     },
     "metadata": {
      "needs_background": "light"
     },
     "output_type": "display_data"
    }
   ],
   "source": [
    "sns.distplot(y_test_r)"
   ]
  },
  {
   "cell_type": "code",
   "execution_count": 8,
   "metadata": {},
   "outputs": [
    {
     "name": "stdout",
     "output_type": "stream",
     "text": [
      "Iteration 1, loss = 1915.11964916\n",
      "Iteration 2, loss = 128.54986091\n",
      "Iteration 3, loss = 116.02423714\n",
      "Iteration 4, loss = 109.67640539\n",
      "Iteration 5, loss = 106.68779550\n",
      "Iteration 6, loss = 105.35098793\n",
      "Iteration 7, loss = 104.03368548\n",
      "Iteration 8, loss = 103.48917259\n",
      "Iteration 9, loss = 102.95680562\n",
      "Iteration 10, loss = 102.76302516\n",
      "Iteration 11, loss = 101.69933667\n",
      "Iteration 12, loss = 101.08472128\n",
      "Iteration 13, loss = 101.15460310\n",
      "Iteration 14, loss = 100.43551739\n",
      "Iteration 15, loss = 100.14346708\n",
      "Iteration 16, loss = 99.62826958\n",
      "Iteration 17, loss = 99.22575133\n",
      "Iteration 18, loss = 99.10537771\n",
      "Iteration 19, loss = 98.57230157\n",
      "Iteration 20, loss = 98.38661342\n",
      "Iteration 21, loss = 98.78873044\n",
      "Iteration 22, loss = 98.18793793\n",
      "Iteration 23, loss = 97.85705355\n",
      "Iteration 24, loss = 97.94278860\n",
      "Iteration 25, loss = 97.57271539\n",
      "Iteration 26, loss = 97.53050500\n",
      "Iteration 27, loss = 97.59531278\n",
      "Iteration 28, loss = 97.44690638\n",
      "Iteration 29, loss = 97.37613226\n",
      "Iteration 30, loss = 97.26453616\n",
      "Iteration 31, loss = 97.20395291\n",
      "Iteration 32, loss = 97.07969592\n",
      "Iteration 33, loss = 97.03038504\n",
      "Iteration 34, loss = 97.03766428\n",
      "Iteration 35, loss = 96.69437650\n",
      "Iteration 36, loss = 96.64155555\n",
      "Iteration 37, loss = 96.55317312\n",
      "Iteration 38, loss = 96.89481867\n",
      "Iteration 39, loss = 96.60500285\n",
      "Iteration 40, loss = 96.39278815\n",
      "Iteration 41, loss = 96.46518677\n",
      "Iteration 42, loss = 96.22312737\n",
      "Iteration 43, loss = 96.15863291\n",
      "Iteration 44, loss = 96.11796482\n",
      "Iteration 45, loss = 96.16275058\n",
      "Iteration 46, loss = 95.95122152\n",
      "Iteration 47, loss = 95.99697938\n",
      "Iteration 48, loss = 95.60672565\n",
      "Iteration 49, loss = 95.74326020\n",
      "Iteration 50, loss = 95.68243159\n",
      "Iteration 51, loss = 95.55053293\n",
      "Iteration 52, loss = 95.32903009\n",
      "Iteration 53, loss = 95.47163275\n",
      "Iteration 54, loss = 95.31055793\n",
      "Iteration 55, loss = 95.30819503\n",
      "Iteration 56, loss = 95.20050258\n",
      "Iteration 57, loss = 95.22046490\n",
      "Iteration 58, loss = 95.17493667\n",
      "Iteration 59, loss = 95.18418975\n",
      "Iteration 60, loss = 94.92322668\n",
      "Iteration 61, loss = 95.04482558\n",
      "Iteration 62, loss = 94.80406066\n",
      "Iteration 63, loss = 95.17687783\n",
      "Iteration 64, loss = 94.91941055\n",
      "Iteration 65, loss = 95.06123836\n",
      "Iteration 66, loss = 94.76207630\n",
      "Iteration 67, loss = 94.57734773\n",
      "Iteration 68, loss = 94.73135796\n",
      "Iteration 69, loss = 94.58461683\n",
      "Iteration 70, loss = 94.68235054\n",
      "Iteration 71, loss = 94.71263927\n",
      "Iteration 72, loss = 94.47653797\n",
      "Iteration 73, loss = 94.60305903\n",
      "Iteration 74, loss = 94.39676749\n",
      "Iteration 75, loss = 94.29381374\n",
      "Iteration 76, loss = 94.34321614\n",
      "Iteration 77, loss = 94.40965804\n",
      "Iteration 78, loss = 94.44077918\n",
      "Iteration 79, loss = 94.45542319\n",
      "Iteration 80, loss = 94.35458225\n",
      "Iteration 81, loss = 94.25497375\n",
      "Iteration 82, loss = 94.35839751\n",
      "Iteration 83, loss = 94.41875492\n",
      "Iteration 84, loss = 94.20048628\n",
      "Iteration 85, loss = 94.18864665\n",
      "Iteration 86, loss = 94.24232360\n",
      "Iteration 87, loss = 93.96300631\n",
      "Iteration 88, loss = 94.20809022\n",
      "Iteration 89, loss = 94.04548996\n",
      "Iteration 90, loss = 94.28189567\n",
      "Iteration 91, loss = 93.86006153\n",
      "Iteration 92, loss = 94.10657807\n",
      "Iteration 93, loss = 93.98355041\n",
      "Iteration 94, loss = 94.06129276\n",
      "Iteration 95, loss = 93.93328771\n",
      "Iteration 96, loss = 93.88557728\n",
      "Iteration 97, loss = 94.04840733\n",
      "Iteration 98, loss = 93.79544606\n",
      "Iteration 99, loss = 94.06779955\n",
      "Iteration 100, loss = 93.73397093\n",
      "Iteration 101, loss = 93.80953340\n",
      "Iteration 102, loss = 93.64347832\n",
      "Iteration 103, loss = 93.72948902\n",
      "Iteration 104, loss = 93.61261034\n",
      "Iteration 105, loss = 93.62887572\n",
      "Iteration 106, loss = 93.74166202\n",
      "Iteration 107, loss = 93.41779089\n",
      "Iteration 108, loss = 93.39503833\n",
      "Iteration 109, loss = 93.48948321\n",
      "Iteration 110, loss = 93.45593820\n",
      "Iteration 111, loss = 93.72213821\n",
      "Iteration 112, loss = 93.67319115\n",
      "Iteration 113, loss = 93.55049947\n",
      "Iteration 114, loss = 93.32452886\n",
      "Iteration 115, loss = 93.46957209\n",
      "Iteration 116, loss = 93.17897729\n",
      "Iteration 117, loss = 93.00017840\n",
      "Iteration 118, loss = 93.44340818\n",
      "Iteration 119, loss = 93.29129910\n",
      "Iteration 120, loss = 93.20148206\n",
      "Iteration 121, loss = 93.24157077\n",
      "Iteration 122, loss = 93.05989037\n",
      "Iteration 123, loss = 93.18295184\n",
      "Iteration 124, loss = 92.95485989\n",
      "Iteration 125, loss = 92.86641794\n",
      "Iteration 126, loss = 92.91484458\n",
      "Iteration 127, loss = 92.95065707\n",
      "Iteration 128, loss = 92.66439166\n",
      "Iteration 129, loss = 92.87756873\n",
      "Iteration 130, loss = 92.67701569\n",
      "Iteration 131, loss = 92.60367850\n",
      "Iteration 132, loss = 92.60752752\n",
      "Iteration 133, loss = 92.46895207\n",
      "Iteration 134, loss = 92.54088297\n",
      "Iteration 135, loss = 92.28682999\n",
      "Iteration 136, loss = 92.62984951\n",
      "Iteration 137, loss = 92.19133469\n",
      "Iteration 138, loss = 92.23976649\n",
      "Iteration 139, loss = 92.20173340\n",
      "Iteration 140, loss = 92.22625704\n",
      "Iteration 141, loss = 92.30476419\n",
      "Iteration 142, loss = 92.20329105\n",
      "Iteration 143, loss = 92.00692998\n",
      "Iteration 144, loss = 92.01823267\n",
      "Iteration 145, loss = 92.25023913\n",
      "Iteration 146, loss = 92.12885946\n",
      "Iteration 147, loss = 91.89047280\n",
      "Iteration 148, loss = 92.03443724\n",
      "Iteration 149, loss = 92.10688395\n",
      "Iteration 150, loss = 91.95198003\n",
      "Iteration 151, loss = 91.90315113\n",
      "Iteration 152, loss = 91.73276728\n",
      "Iteration 153, loss = 91.69178802\n",
      "Iteration 154, loss = 91.41491194\n",
      "Iteration 155, loss = 91.69230097\n",
      "Iteration 156, loss = 91.65125422\n",
      "Iteration 157, loss = 91.62565288\n",
      "Iteration 158, loss = 91.51986767\n",
      "Iteration 159, loss = 91.62259638\n",
      "Iteration 160, loss = 91.63985204\n",
      "Iteration 161, loss = 91.39269239\n",
      "Iteration 162, loss = 91.29054065\n",
      "Iteration 163, loss = 91.27343829\n",
      "Iteration 164, loss = 91.45097254\n",
      "Iteration 165, loss = 91.23686407\n",
      "Iteration 166, loss = 91.21319898\n",
      "Iteration 167, loss = 91.22987485\n",
      "Iteration 168, loss = 91.41022977\n",
      "Iteration 169, loss = 91.22422604\n",
      "Iteration 170, loss = 91.34785719\n",
      "Iteration 171, loss = 91.11718691\n",
      "Iteration 172, loss = 91.11874127\n",
      "Iteration 173, loss = 91.13830301\n",
      "Iteration 174, loss = 91.03488047\n",
      "Iteration 175, loss = 90.99548429\n",
      "Iteration 176, loss = 91.11631182\n",
      "Iteration 177, loss = 91.12751871\n",
      "Iteration 178, loss = 91.18088572\n",
      "Iteration 179, loss = 90.82945830\n",
      "Iteration 180, loss = 91.03886784\n",
      "Iteration 181, loss = 91.16868633\n",
      "Iteration 182, loss = 90.78318134\n",
      "Iteration 183, loss = 90.77705364\n",
      "Iteration 184, loss = 90.87831540\n",
      "Iteration 185, loss = 91.01783003\n",
      "Iteration 186, loss = 90.96898067\n",
      "Iteration 187, loss = 90.82449454\n",
      "Iteration 188, loss = 90.93623602\n",
      "Iteration 189, loss = 90.89602812\n",
      "Iteration 190, loss = 90.71338655\n",
      "Iteration 191, loss = 90.79636543\n",
      "Iteration 192, loss = 90.73641243\n",
      "Iteration 193, loss = 90.89862976\n",
      "Iteration 194, loss = 90.77716435\n",
      "Iteration 195, loss = 90.78495558\n",
      "Iteration 196, loss = 90.68114719\n",
      "Iteration 197, loss = 90.66253003\n",
      "Iteration 198, loss = 90.52886670\n",
      "Iteration 199, loss = 90.78363253\n",
      "Iteration 200, loss = 90.55405822\n",
      "Iteration 201, loss = 90.65365008\n",
      "Iteration 202, loss = 90.78652246\n",
      "Iteration 203, loss = 90.55231170\n",
      "Iteration 204, loss = 90.62669399\n",
      "Iteration 205, loss = 90.42973684\n",
      "Iteration 206, loss = 90.66607846\n",
      "Iteration 207, loss = 90.69245919\n",
      "Iteration 208, loss = 90.33913816\n",
      "Iteration 209, loss = 90.40698416\n",
      "Iteration 210, loss = 90.45162772\n",
      "Iteration 211, loss = 90.40919537\n",
      "Iteration 212, loss = 90.35563404\n",
      "Iteration 213, loss = 90.26736131\n",
      "Iteration 214, loss = 90.31463788\n",
      "Iteration 215, loss = 90.28384932\n",
      "Iteration 216, loss = 90.36049332\n",
      "Iteration 217, loss = 90.47097912\n",
      "Iteration 218, loss = 90.00230621\n",
      "Iteration 219, loss = 90.18770907\n",
      "Iteration 220, loss = 90.19159257\n",
      "Iteration 221, loss = 90.27103823\n",
      "Iteration 222, loss = 90.26797111\n",
      "Iteration 223, loss = 90.39199831\n",
      "Iteration 224, loss = 89.95319247\n",
      "Iteration 225, loss = 89.90226521\n",
      "Iteration 226, loss = 90.05311617\n",
      "Iteration 227, loss = 90.27018254\n",
      "Iteration 228, loss = 90.03459058\n",
      "Iteration 229, loss = 90.14874814\n",
      "Iteration 230, loss = 90.19437317\n",
      "Iteration 231, loss = 90.06615543\n",
      "Iteration 232, loss = 89.96869078\n",
      "Iteration 233, loss = 89.95170132\n",
      "Iteration 234, loss = 90.02467457\n",
      "Iteration 235, loss = 90.06804266\n",
      "Iteration 236, loss = 89.97412472\n",
      "Training loss did not improve more than tol=0.000100 for 10 consecutive epochs. Stopping.\n"
     ]
    },
    {
     "data": {
      "text/plain": [
       "MLPRegressor(activation='relu', alpha=0.003, batch_size='auto', beta_1=0.9,\n",
       "       beta_2=0.999, early_stopping=False, epsilon=1e-08,\n",
       "       hidden_layer_sizes=(10, 20, 20, 20, 10), learning_rate='constant',\n",
       "       learning_rate_init=0.001, max_iter=2000, momentum=0.9,\n",
       "       n_iter_no_change=10, nesterovs_momentum=True, power_t=0.5,\n",
       "       random_state=None, shuffle=True, solver='adam', tol=0.0001,\n",
       "       validation_fraction=0.1, verbose=True, warm_start=False)"
      ]
     },
     "execution_count": 8,
     "metadata": {},
     "output_type": "execute_result"
    }
   ],
   "source": [
    "# Model for green\n",
    "X_train_g, X_test_g, y_train_g, y_test_g = train_test_split(data_X, data_y_green, test_size=0.2, random_state=42)\n",
    "scaler = StandardScaler()\n",
    "scaler.fit(X_train_g)\n",
    "\n",
    "X_train_g = scaler.transform(X_train_g)\n",
    "X_test_g = scaler.transform(X_test_g)\n",
    "\n",
    "mlp_g = MLPRegressor(hidden_layer_sizes=(10,20,20,20,10),  activation='relu', \n",
    "                   solver='adam', max_iter=2000, alpha=0.003, verbose=True)\n",
    "mlp_g.fit(X_train_g,y_train_g)"
   ]
  },
  {
   "cell_type": "code",
   "execution_count": 9,
   "metadata": {},
   "outputs": [],
   "source": [
    "predictions_g = mlp_g.predict(X_test_g)"
   ]
  },
  {
   "cell_type": "code",
   "execution_count": 10,
   "metadata": {},
   "outputs": [
    {
     "name": "stderr",
     "output_type": "stream",
     "text": [
      "/home/vedantc6/anaconda3/lib/python3.7/site-packages/scipy/stats/stats.py:1713: FutureWarning: Using a non-tuple sequence for multidimensional indexing is deprecated; use `arr[tuple(seq)]` instead of `arr[seq]`. In the future this will be interpreted as an array index, `arr[np.array(seq)]`, which will result either in an error or a different result.\n",
      "  return np.add.reduce(sorted[indexer] * weights, axis=axis) / sumval\n"
     ]
    },
    {
     "data": {
      "text/plain": [
       "<matplotlib.axes._subplots.AxesSubplot at 0x7fc0d48c2400>"
      ]
     },
     "execution_count": 10,
     "metadata": {},
     "output_type": "execute_result"
    },
    {
     "data": {
      "image/png": "[encoded data removed]",
      "text/plain": [
       "<Figure size 432x288 with 1 Axes>"
      ]
     },
     "metadata": {
      "needs_background": "light"
     },
     "output_type": "display_data"
    }
   ],
   "source": [
    "sns.distplot(predictions_g)"
   ]
  },
  {
   "cell_type": "code",
   "execution_count": 11,
   "metadata": {},
   "outputs": [
    {
     "name": "stderr",
     "output_type": "stream",
     "text": [
      "/home/vedantc6/anaconda3/lib/python3.7/site-packages/scipy/stats/stats.py:1713: FutureWarning: Using a non-tuple sequence for multidimensional indexing is deprecated; use `arr[tuple(seq)]` instead of `arr[seq]`. In the future this will be interpreted as an array index, `arr[np.array(seq)]`, which will result either in an error or a different result.\n",
      "  return np.add.reduce(sorted[indexer] * weights, axis=axis) / sumval\n"
     ]
    },
    {
     "data": {
      "text/plain": [
       "<matplotlib.axes._subplots.AxesSubplot at 0x7fc1338860b8>"
      ]
     },
     "execution_count": 11,
     "metadata": {},
     "output_type": "execute_result"
    },
    {
     "data": {
      "image/png": "[encoded data removed]",
      "text/plain": [
       "<Figure size 432x288 with 1 Axes>"
      ]
     },
     "metadata": {
      "needs_background": "light"
     },
     "output_type": "display_data"
    }
   ],
   "source": [
    "sns.distplot(y_test_g)"
   ]
  },
  {
   "cell_type": "code",
   "execution_count": 12,
   "metadata": {},
   "outputs": [
    {
     "name": "stdout",
     "output_type": "stream",
     "text": [
      "Iteration 1, loss = 3045.72584934\n",
      "Iteration 2, loss = 791.23763323\n",
      "Iteration 3, loss = 688.67800009\n",
      "Iteration 4, loss = 639.13944565\n",
      "Iteration 5, loss = 603.99221510\n",
      "Iteration 6, loss = 574.83193612\n",
      "Iteration 7, loss = 547.96541054\n",
      "Iteration 8, loss = 530.78876768\n",
      "Iteration 9, loss = 516.70161833\n",
      "Iteration 10, loss = 506.18950140\n",
      "Iteration 11, loss = 497.35598493\n",
      "Iteration 12, loss = 488.98393302\n",
      "Iteration 13, loss = 479.89722462\n",
      "Iteration 14, loss = 475.21260850\n",
      "Iteration 15, loss = 469.39560948\n",
      "Iteration 16, loss = 465.30438002\n",
      "Iteration 17, loss = 460.98974661\n",
      "Iteration 18, loss = 456.83180472\n",
      "Iteration 19, loss = 452.27776051\n",
      "Iteration 20, loss = 449.54093854\n",
      "Iteration 21, loss = 444.85549194\n",
      "Iteration 22, loss = 443.93732375\n",
      "Iteration 23, loss = 439.97077137\n",
      "Iteration 24, loss = 436.34497761\n",
      "Iteration 25, loss = 436.33038351\n",
      "Iteration 26, loss = 434.01293518\n",
      "Iteration 27, loss = 432.61456116\n",
      "Iteration 28, loss = 427.79646522\n",
      "Iteration 29, loss = 427.48516404\n",
      "Iteration 30, loss = 424.98032668\n",
      "Iteration 31, loss = 423.03756353\n",
      "Iteration 32, loss = 422.40565189\n",
      "Iteration 33, loss = 420.98751269\n",
      "Iteration 34, loss = 418.19228407\n",
      "Iteration 35, loss = 416.98622199\n",
      "Iteration 36, loss = 415.91262419\n",
      "Iteration 37, loss = 412.48050188\n",
      "Iteration 38, loss = 413.93985426\n",
      "Iteration 39, loss = 411.42066302\n",
      "Iteration 40, loss = 410.94870251\n",
      "Iteration 41, loss = 408.35206905\n",
      "Iteration 42, loss = 408.89921559\n",
      "Iteration 43, loss = 407.73635713\n",
      "Iteration 44, loss = 406.42804458\n",
      "Iteration 45, loss = 405.71365964\n",
      "Iteration 46, loss = 404.65475988\n",
      "Iteration 47, loss = 403.59204554\n",
      "Iteration 48, loss = 402.64042299\n",
      "Iteration 49, loss = 401.11183577\n",
      "Iteration 50, loss = 400.62249862\n",
      "Iteration 51, loss = 398.59264619\n",
      "Iteration 52, loss = 398.44105643\n",
      "Iteration 53, loss = 397.14850573\n",
      "Iteration 54, loss = 398.08649986\n",
      "Iteration 55, loss = 396.90335730\n",
      "Iteration 56, loss = 394.68493885\n",
      "Iteration 57, loss = 395.48771249\n",
      "Iteration 58, loss = 394.61598878\n",
      "Iteration 59, loss = 394.73421020\n",
      "Iteration 60, loss = 394.58818461\n",
      "Iteration 61, loss = 391.95748812\n",
      "Iteration 62, loss = 392.70407259\n",
      "Iteration 63, loss = 391.52101055\n",
      "Iteration 64, loss = 390.30734460\n",
      "Iteration 65, loss = 392.18324608\n",
      "Iteration 66, loss = 390.06645174\n",
      "Iteration 67, loss = 389.45533655\n",
      "Iteration 68, loss = 389.26884351\n",
      "Iteration 69, loss = 388.66478075\n",
      "Iteration 70, loss = 387.19632177\n",
      "Iteration 71, loss = 388.92675870\n",
      "Iteration 72, loss = 387.13941910\n",
      "Iteration 73, loss = 387.04028367\n",
      "Iteration 74, loss = 386.08336981\n",
      "Iteration 75, loss = 386.67390557\n",
      "Iteration 76, loss = 385.53753941\n",
      "Iteration 77, loss = 385.13629986\n",
      "Iteration 78, loss = 385.12349989\n",
      "Iteration 79, loss = 383.23641679\n",
      "Iteration 80, loss = 383.11700908\n",
      "Iteration 81, loss = 382.63854958\n",
      "Iteration 82, loss = 382.71108009\n",
      "Iteration 83, loss = 383.35988491\n",
      "Iteration 84, loss = 380.58756464\n",
      "Iteration 85, loss = 381.77622596\n",
      "Iteration 86, loss = 380.04346014\n",
      "Iteration 87, loss = 380.30746851\n",
      "Iteration 88, loss = 380.66478944\n",
      "Iteration 89, loss = 379.63627797\n",
      "Iteration 90, loss = 378.86228398\n",
      "Iteration 91, loss = 379.15127336\n",
      "Iteration 92, loss = 377.65211107\n",
      "Iteration 93, loss = 377.31787582\n",
      "Iteration 94, loss = 377.86288568\n",
      "Iteration 95, loss = 376.97964783\n",
      "Iteration 96, loss = 377.22585813\n",
      "Iteration 97, loss = 377.42876425\n",
      "Iteration 98, loss = 376.36412618\n",
      "Iteration 99, loss = 375.55122765\n",
      "Iteration 100, loss = 375.23543753\n",
      "Iteration 101, loss = 376.78255361\n",
      "Iteration 102, loss = 374.65279584\n",
      "Iteration 103, loss = 373.16850332\n",
      "Iteration 104, loss = 375.11021408\n",
      "Iteration 105, loss = 374.00141845\n",
      "Iteration 106, loss = 372.21046903\n",
      "Iteration 107, loss = 372.82061914\n",
      "Iteration 108, loss = 373.11057599\n",
      "Iteration 109, loss = 373.05183957\n",
      "Iteration 110, loss = 371.68475327\n",
      "Iteration 111, loss = 371.53066870\n",
      "Iteration 112, loss = 371.03565164\n",
      "Iteration 113, loss = 370.53554485\n",
      "Iteration 114, loss = 370.83180977\n",
      "Iteration 115, loss = 370.66452534\n",
      "Iteration 116, loss = 370.57302394\n",
      "Iteration 117, loss = 369.63246433\n",
      "Iteration 118, loss = 369.60459540\n",
      "Iteration 119, loss = 369.89620848\n",
      "Iteration 120, loss = 370.73303450\n",
      "Iteration 121, loss = 368.81609444\n",
      "Iteration 122, loss = 367.33146018\n",
      "Iteration 123, loss = 369.61169399\n",
      "Iteration 124, loss = 368.05201607\n",
      "Iteration 125, loss = 367.47341517\n",
      "Iteration 126, loss = 366.30217233\n",
      "Iteration 127, loss = 368.21143538\n",
      "Iteration 128, loss = 367.75418663\n",
      "Iteration 129, loss = 367.36328277\n",
      "Iteration 130, loss = 365.94165107\n",
      "Iteration 131, loss = 366.01730010\n",
      "Iteration 132, loss = 367.23168733\n",
      "Iteration 133, loss = 365.04465142\n",
      "Iteration 134, loss = 365.14502020\n",
      "Iteration 135, loss = 365.53252929\n",
      "Iteration 136, loss = 365.50291439\n",
      "Iteration 137, loss = 366.89348453\n",
      "Iteration 138, loss = 366.24203519\n",
      "Iteration 139, loss = 364.63227842\n",
      "Iteration 140, loss = 364.31510508\n",
      "Iteration 141, loss = 364.86856716\n",
      "Iteration 142, loss = 363.21746621\n",
      "Iteration 143, loss = 364.83161012\n",
      "Iteration 144, loss = 363.82780155\n",
      "Iteration 145, loss = 362.17392113\n",
      "Iteration 146, loss = 364.41153475\n",
      "Iteration 147, loss = 362.68639250\n",
      "Iteration 148, loss = 362.37226038\n",
      "Iteration 149, loss = 364.15457797\n",
      "Iteration 150, loss = 365.66238138\n",
      "Iteration 151, loss = 362.11072850\n",
      "Iteration 152, loss = 362.93581453\n",
      "Iteration 153, loss = 361.53400466\n",
      "Iteration 154, loss = 361.31153958\n",
      "Iteration 155, loss = 362.49390649\n",
      "Iteration 156, loss = 360.66115852\n",
      "Iteration 157, loss = 361.09483199\n",
      "Iteration 158, loss = 361.15517650\n",
      "Iteration 159, loss = 360.67697069\n",
      "Iteration 160, loss = 360.48908928\n",
      "Iteration 161, loss = 360.33017569\n",
      "Iteration 162, loss = 360.67421552\n",
      "Iteration 163, loss = 359.92056820\n",
      "Iteration 164, loss = 360.17361391\n",
      "Iteration 165, loss = 360.12358888\n",
      "Iteration 166, loss = 360.62503455\n",
      "Iteration 167, loss = 359.23428539\n",
      "Iteration 168, loss = 358.05367428\n",
      "Iteration 169, loss = 360.05778205\n",
      "Iteration 170, loss = 359.76945313\n",
      "Iteration 171, loss = 359.03886031\n",
      "Iteration 172, loss = 357.60240256\n",
      "Iteration 173, loss = 359.40705225\n",
      "Iteration 174, loss = 357.21661464\n",
      "Iteration 175, loss = 357.45404076\n",
      "Iteration 176, loss = 358.24972732\n",
      "Iteration 177, loss = 357.00318545\n",
      "Iteration 178, loss = 358.00810136\n",
      "Iteration 179, loss = 357.46525563\n",
      "Iteration 180, loss = 357.98035435\n",
      "Iteration 181, loss = 358.69845838\n",
      "Iteration 182, loss = 356.91540563\n",
      "Iteration 183, loss = 356.19090557\n",
      "Iteration 184, loss = 357.70995219\n",
      "Iteration 185, loss = 356.78234458\n",
      "Iteration 186, loss = 357.51027501\n",
      "Iteration 187, loss = 356.71008830\n",
      "Iteration 188, loss = 355.70390753\n",
      "Iteration 189, loss = 357.37236879\n",
      "Iteration 190, loss = 354.97340475\n",
      "Iteration 191, loss = 355.32379575\n",
      "Iteration 192, loss = 353.89944616\n",
      "Iteration 193, loss = 355.69091847\n",
      "Iteration 194, loss = 355.05385610\n",
      "Iteration 195, loss = 354.62436697\n",
      "Iteration 196, loss = 354.17519463\n",
      "Iteration 197, loss = 353.66429030\n",
      "Iteration 198, loss = 354.28667606\n",
      "Iteration 199, loss = 354.41408174\n",
      "Iteration 200, loss = 353.98622281\n",
      "Iteration 201, loss = 353.20290745\n",
      "Iteration 202, loss = 354.25578355\n",
      "Iteration 203, loss = 354.05167122\n",
      "Iteration 204, loss = 354.16784396\n",
      "Iteration 205, loss = 353.94463499\n",
      "Iteration 206, loss = 353.15110278\n",
      "Iteration 207, loss = 353.01651819\n",
      "Iteration 208, loss = 353.75569654\n",
      "Iteration 209, loss = 351.34498837\n",
      "Iteration 210, loss = 352.78967734\n",
      "Iteration 211, loss = 352.04734457\n",
      "Iteration 212, loss = 352.41341595\n",
      "Iteration 213, loss = 352.66580300\n",
      "Iteration 214, loss = 351.23160754\n",
      "Iteration 215, loss = 353.22858214\n",
      "Iteration 216, loss = 350.42434279\n",
      "Iteration 217, loss = 352.08659576\n",
      "Iteration 218, loss = 351.60963388\n",
      "Iteration 219, loss = 351.38804391\n",
      "Iteration 220, loss = 350.66145279\n",
      "Iteration 221, loss = 351.31491310\n",
      "Iteration 222, loss = 350.73293813\n",
      "Iteration 223, loss = 349.02977874\n",
      "Iteration 224, loss = 351.26502454\n",
      "Iteration 225, loss = 350.06429423\n",
      "Iteration 226, loss = 350.26246910\n",
      "Iteration 227, loss = 350.32925524\n",
      "Iteration 228, loss = 350.27044844\n",
      "Iteration 229, loss = 349.59101130\n",
      "Iteration 230, loss = 350.74373349\n",
      "Iteration 231, loss = 350.37653961\n",
      "Iteration 232, loss = 348.34892968\n",
      "Iteration 233, loss = 350.00215274\n",
      "Iteration 234, loss = 350.32145785\n",
      "Iteration 235, loss = 349.14771718\n",
      "Iteration 236, loss = 349.28846377\n",
      "Iteration 237, loss = 349.71062609\n",
      "Iteration 238, loss = 349.15596074\n"
     ]
    },
    {
     "name": "stdout",
     "output_type": "stream",
     "text": [
      "Iteration 239, loss = 349.48723775\n",
      "Iteration 240, loss = 348.36138855\n",
      "Iteration 241, loss = 349.21765123\n",
      "Iteration 242, loss = 349.75781234\n",
      "Iteration 243, loss = 348.64089360\n",
      "Training loss did not improve more than tol=0.000100 for 10 consecutive epochs. Stopping.\n"
     ]
    },
    {
     "data": {
      "text/plain": [
       "MLPRegressor(activation='relu', alpha=0.003, batch_size='auto', beta_1=0.9,\n",
       "       beta_2=0.999, early_stopping=False, epsilon=1e-08,\n",
       "       hidden_layer_sizes=(10, 20, 20, 20, 10), learning_rate='constant',\n",
       "       learning_rate_init=0.001, max_iter=2000, momentum=0.9,\n",
       "       n_iter_no_change=10, nesterovs_momentum=True, power_t=0.5,\n",
       "       random_state=None, shuffle=True, solver='adam', tol=0.0001,\n",
       "       validation_fraction=0.1, verbose=True, warm_start=False)"
      ]
     },
     "execution_count": 12,
     "metadata": {},
     "output_type": "execute_result"
    }
   ],
   "source": [
    "# Model for blue\n",
    "X_train_b, X_test_b, y_train_b, y_test_b = train_test_split(data_X, data_y_blue, test_size=0.2, random_state=42)\n",
    "scaler = StandardScaler()\n",
    "scaler.fit(X_train_b)\n",
    "\n",
    "X_train_b = scaler.transform(X_train_b)\n",
    "X_test_b = scaler.transform(X_test_b)\n",
    "\n",
    "mlp_b = MLPRegressor(hidden_layer_sizes=(10,20,20,20,10),  activation='relu', \n",
    "                   solver='adam', max_iter=2000, alpha=0.003, verbose=True)\n",
    "mlp_b.fit(X_train_b,y_train_b)"
   ]
  },
  {
   "cell_type": "code",
   "execution_count": 13,
   "metadata": {},
   "outputs": [],
   "source": [
    "predictions_b = mlp_b.predict(X_test_b)"
   ]
  },
  {
   "cell_type": "code",
   "execution_count": 14,
   "metadata": {},
   "outputs": [
    {
     "name": "stderr",
     "output_type": "stream",
     "text": [
      "/home/vedantc6/anaconda3/lib/python3.7/site-packages/scipy/stats/stats.py:1713: FutureWarning: Using a non-tuple sequence for multidimensional indexing is deprecated; use `arr[tuple(seq)]` instead of `arr[seq]`. In the future this will be interpreted as an array index, `arr[np.array(seq)]`, which will result either in an error or a different result.\n",
      "  return np.add.reduce(sorted[indexer] * weights, axis=axis) / sumval\n"
     ]
    },
    {
     "data": {
      "text/plain": [
       "<matplotlib.axes._subplots.AxesSubplot at 0x7fc13391f0b8>"
      ]
     },
     "execution_count": 14,
     "metadata": {},
     "output_type": "execute_result"
    },
    {
     "data": {
      "image/png": "[encoded data removed]",
      "text/plain": [
       "<Figure size 432x288 with 1 Axes>"
      ]
     },
     "metadata": {
      "needs_background": "light"
     },
     "output_type": "display_data"
    }
   ],
   "source": [
    "sns.distplot(predictions_b)"
   ]
  },
  {
   "cell_type": "code",
   "execution_count": 15,
   "metadata": {},
   "outputs": [
    {
     "name": "stderr",
     "output_type": "stream",
     "text": [
      "/home/vedantc6/anaconda3/lib/python3.7/site-packages/scipy/stats/stats.py:1713: FutureWarning: Using a non-tuple sequence for multidimensional indexing is deprecated; use `arr[tuple(seq)]` instead of `arr[seq]`. In the future this will be interpreted as an array index, `arr[np.array(seq)]`, which will result either in an error or a different result.\n",
      "  return np.add.reduce(sorted[indexer] * weights, axis=axis) / sumval\n"
     ]
    },
    {
     "data": {
      "text/plain": [
       "<matplotlib.axes._subplots.AxesSubplot at 0x7fc13068cac8>"
      ]
     },
     "execution_count": 15,
     "metadata": {},
     "output_type": "execute_result"
    },
    {
     "data": {
      "image/png": "[encoded data removed]",
      "text/plain": [
       "<Figure size 432x288 with 1 Axes>"
      ]
     },
     "metadata": {
      "needs_background": "light"
     },
     "output_type": "display_data"
    }
   ],
   "source": [
    "sns.distplot(y_test_b)"
   ]
  },
  {
   "cell_type": "code",
   "execution_count": 24,
   "metadata": {},
   "outputs": [],
   "source": [
    "def bound_predictions(predictions_b, predictions_g, predictions_r):\n",
    "    for i in range(len(predictions_g)):\n",
    "        if predictions_b[i] < 0:\n",
    "            predictions_b[i] = 0\n",
    "        if predictions_b[i] > 255:\n",
    "            predictions_b[i] = 255\n",
    "        if predictions_g[i] < 0:\n",
    "            predictions_g[i] = 0\n",
    "        if predictions_g[i] > 255:\n",
    "            predictions_g[i] = 255\n",
    "        if predictions_r[i] < 0:\n",
    "            predictions_r[i] = 0\n",
    "        if predictions_r[i] > 255:\n",
    "            predictions_r[i] = 255\n",
    "    \n",
    "        predictions_b[i] = int(predictions_b[i])\n",
    "        predictions_g[i] = int(predictions_g[i])\n",
    "        predictions_r[i] = int(predictions_r[i])\n",
    "        \n",
    "    return predictions_r, predictions_g, predictions_b"
   ]
  },
  {
   "cell_type": "code",
   "execution_count": 35,
   "metadata": {},
   "outputs": [
    {
     "name": "stdout",
     "output_type": "stream",
     "text": [
      "Opening directory ./Images2/test\n",
      "Accessging  scene10.jpeg\n",
      "['scene10.jpeg']\n"
     ]
    }
   ],
   "source": [
    "directory = \"./Images2/test\"\n",
    "filter_size = 11\n",
    "X, y, files = get_images(directory, filter_size)\n",
    "print(files)\n",
    "data_X_test, data_y_red_test, data_y_green_test, data_y_blue_test = align_data(X, y)\n",
    "data_X_test = scaler.transform(data_X_test)"
   ]
  },
  {
   "cell_type": "code",
   "execution_count": 36,
   "metadata": {},
   "outputs": [],
   "source": [
    "test_predictions_b = mlp_b.predict(data_X_test)\n",
    "test_predictions_g = mlp_g.predict(data_X_test)\n",
    "test_predictions_r = mlp_r.predict(data_X_test)"
   ]
  },
  {
   "cell_type": "code",
   "execution_count": 37,
   "metadata": {},
   "outputs": [
    {
     "name": "stderr",
     "output_type": "stream",
     "text": [
      "/home/vedantc6/anaconda3/lib/python3.7/site-packages/scipy/stats/stats.py:1713: FutureWarning: Using a non-tuple sequence for multidimensional indexing is deprecated; use `arr[tuple(seq)]` instead of `arr[seq]`. In the future this will be interpreted as an array index, `arr[np.array(seq)]`, which will result either in an error or a different result.\n",
      "  return np.add.reduce(sorted[indexer] * weights, axis=axis) / sumval\n"
     ]
    },
    {
     "data": {
      "text/plain": [
       "<matplotlib.axes._subplots.AxesSubplot at 0x7fc069876c50>"
      ]
     },
     "execution_count": 37,
     "metadata": {},
     "output_type": "execute_result"
    },
    {
     "data": {
      "image/png": "[encoded data removed]",
      "text/plain": [
       "<Figure size 432x288 with 1 Axes>"
      ]
     },
     "metadata": {
      "needs_background": "light"
     },
     "output_type": "display_data"
    }
   ],
   "source": [
    "sns.distplot(test_predictions_b)"
   ]
  },
  {
   "cell_type": "code",
   "execution_count": 38,
   "metadata": {},
   "outputs": [
    {
     "name": "stderr",
     "output_type": "stream",
     "text": [
      "/home/vedantc6/anaconda3/lib/python3.7/site-packages/scipy/stats/stats.py:1713: FutureWarning: Using a non-tuple sequence for multidimensional indexing is deprecated; use `arr[tuple(seq)]` instead of `arr[seq]`. In the future this will be interpreted as an array index, `arr[np.array(seq)]`, which will result either in an error or a different result.\n",
      "  return np.add.reduce(sorted[indexer] * weights, axis=axis) / sumval\n"
     ]
    },
    {
     "data": {
      "text/plain": [
       "<matplotlib.axes._subplots.AxesSubplot at 0x7fc1305cfc50>"
      ]
     },
     "execution_count": 38,
     "metadata": {},
     "output_type": "execute_result"
    },
    {
     "data": {
      "image/png": "[encoded data removed]",
      "text/plain": [
       "<Figure size 432x288 with 1 Axes>"
      ]
     },
     "metadata": {
      "needs_background": "light"
     },
     "output_type": "display_data"
    }
   ],
   "source": [
    "sns.distplot(data_y_blue_test)"
   ]
  },
  {
   "cell_type": "code",
   "execution_count": 39,
   "metadata": {},
   "outputs": [],
   "source": [
    "test_predictions_b, test_predictions_g, test_predictions_r = bound_predictions(test_predictions_b, test_predictions_g, test_predictions_r)"
   ]
  },
  {
   "cell_type": "code",
   "execution_count": 40,
   "metadata": {},
   "outputs": [
    {
     "data": {
      "text/plain": [
       "array([46., 49., 49., ..., 36., 40., 40.])"
      ]
     },
     "execution_count": 40,
     "metadata": {},
     "output_type": "execute_result"
    }
   ],
   "source": [
    "test_predictions_b"
   ]
  },
  {
   "cell_type": "code",
   "execution_count": 41,
   "metadata": {},
   "outputs": [],
   "source": [
    "from PIL import Image"
   ]
  },
  {
   "cell_type": "code",
   "execution_count": 42,
   "metadata": {},
   "outputs": [],
   "source": [
    "class Colorizer():\n",
    "    def __init__(self, red_list, blue_list, green_list, image_location='./Images2/test/scene10.jpeg'):\n",
    "        self.im_size = (0, 0)\n",
    "        self.image_loc = image_location\n",
    "        self.image = None\n",
    "        self.pix_object = None\n",
    "        self.pixel_values = None\n",
    "        self.red = red_list\n",
    "        self.blue = blue_list\n",
    "        self.green = green_list\n",
    "        \n",
    "    def extract_pixels(self):\n",
    "        # Open the image\n",
    "        self.image = Image.open(self.image_loc)\n",
    "        # Load the image - Pixel object\n",
    "        self.pix_object = self.image.load()\n",
    "        # Size of the image - Number of rows * Number of columns\n",
    "        self.im_size = self.image.size\n",
    "        # Extract all the pixel values - Start from left corner (Moving from Left to Right)\n",
    "        self.pixel_values = list(self.image.getdata())\n",
    "        \n",
    "    def create_image_from_array(self):\n",
    "        \n",
    "        w, h = 500, 500\n",
    "        count = 0\n",
    "        data = np.zeros((h, w, 3), dtype=np.uint8)\n",
    "        \n",
    "        for i in range(w):\n",
    "            \n",
    "            for j in range(h):\n",
    "                \n",
    "                data[i,j] = (int(self.red[count]), int(self.green[count]), int(self.blue[count]))\n",
    "                count +=1\n",
    "        \n",
    "        img = Image.fromarray(data, 'RGB')\n",
    "        img.save('./Images2/my.png')\n",
    "        img.show()"
   ]
  },
  {
   "cell_type": "code",
   "execution_count": 43,
   "metadata": {},
   "outputs": [
    {
     "name": "stdout",
     "output_type": "stream",
     "text": [
      "Done\n"
     ]
    }
   ],
   "source": [
    "new_color = Colorizer(red_list=test_predictions_r, blue_list=test_predictions_b, green_list=test_predictions_g)\n",
    "new_color.extract_pixels()\n",
    "new_color.create_image_from_array()\n",
    "print(\"Done\")"
   ]
  },
  {
   "cell_type": "code",
   "execution_count": null,
   "metadata": {},
   "outputs": [],
   "source": []
  }
 ],
 "metadata": {
  "kernelspec": {
   "display_name": "Python 3",
   "language": "python",
   "name": "python3"
  },
  "language_info": {
   "codemirror_mode": {
    "name": "ipython",
    "version": 3
   },
   "file_extension": ".py",
   "mimetype": "text/x-python",
   "name": "python",
   "nbconvert_exporter": "python",
   "pygments_lexer": "ipython3",
   "version": "3.7.1"
  }
 },
 "nbformat": 4,
 "nbformat_minor": 2
}
